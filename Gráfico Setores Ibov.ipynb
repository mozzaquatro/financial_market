{
  "nbformat": 4,
  "nbformat_minor": 0,
  "metadata": {
    "colab": {
      "name": "Untitled1.ipynb",
      "provenance": [],
      "authorship_tag": "ABX9TyNQtXCFlusyv9ucg6qSliP8",
      "include_colab_link": true
    },
    "kernelspec": {
      "name": "python3",
      "display_name": "Python 3"
    },
    "language_info": {
      "name": "python"
    }
  },
  "cells": [
    {
      "cell_type": "markdown",
      "metadata": {
        "id": "view-in-github",
        "colab_type": "text"
      },
      "source": [
        "<a href=\"https://colab.research.google.com/github/mozzaquatro/financial_market/blob/main/Gr%C3%A1fico%20Setores%20Ibov.ipynb\" target=\"_parent\"><img src=\"https://colab.research.google.com/assets/colab-badge.svg\" alt=\"Open In Colab\"/></a>"
      ]
    },
    {
      "cell_type": "code",
      "execution_count": null,
      "metadata": {
        "id": "ezsOiyVpOlZw",
        "colab": {
          "base_uri": "https://localhost:8080/"
        },
        "outputId": "f3ad597d-1bdc-4173-a6e8-c264529fcb7f"
      },
      "outputs": [
        {
          "output_type": "stream",
          "name": "stdout",
          "text": [
            "\u001b[?25l\r\u001b[K     |█████▊                          | 10 kB 23.0 MB/s eta 0:00:01\r\u001b[K     |███████████▍                    | 20 kB 28.9 MB/s eta 0:00:01\r\u001b[K     |█████████████████               | 30 kB 34.3 MB/s eta 0:00:01\r\u001b[K     |██████████████████████▊         | 40 kB 32.4 MB/s eta 0:00:01\r\u001b[K     |████████████████████████████▍   | 51 kB 25.8 MB/s eta 0:00:01\r\u001b[K     |████████████████████████████████| 57 kB 5.2 MB/s \n",
            "\u001b[?25h\u001b[?25l\r\u001b[K     |█████▊                          | 10 kB 32.8 MB/s eta 0:00:01\r\u001b[K     |███████████▌                    | 20 kB 41.7 MB/s eta 0:00:01\r\u001b[K     |█████████████████▎              | 30 kB 45.3 MB/s eta 0:00:01\r\u001b[K     |███████████████████████         | 40 kB 49.1 MB/s eta 0:00:01\r\u001b[K     |████████████████████████████▉   | 51 kB 52.6 MB/s eta 0:00:01\r\u001b[K     |████████████████████████████████| 56 kB 5.2 MB/s \n",
            "\u001b[?25h"
          ]
        }
      ],
      "source": [
        "!pip install -q kora"
      ]
    },
    {
      "cell_type": "code",
      "source": [
        "!pip install -U plotly"
      ],
      "metadata": {
        "colab": {
          "base_uri": "https://localhost:8080/"
        },
        "id": "bM6lS3xtO8-2",
        "outputId": "06a4b965-099f-48ea-cb0f-ca0b0d83c62b"
      },
      "execution_count": null,
      "outputs": [
        {
          "output_type": "stream",
          "name": "stdout",
          "text": [
            "Requirement already satisfied: plotly in /usr/local/lib/python3.7/dist-packages (4.4.1)\n",
            "Collecting plotly\n",
            "  Downloading plotly-5.4.0-py2.py3-none-any.whl (25.3 MB)\n",
            "\u001b[K     |████████████████████████████████| 25.3 MB 2.1 MB/s \n",
            "\u001b[?25hCollecting tenacity>=6.2.0\n",
            "  Downloading tenacity-8.0.1-py3-none-any.whl (24 kB)\n",
            "Requirement already satisfied: six in /usr/local/lib/python3.7/dist-packages (from plotly) (1.15.0)\n",
            "Installing collected packages: tenacity, plotly\n",
            "  Attempting uninstall: plotly\n",
            "    Found existing installation: plotly 4.4.1\n",
            "    Uninstalling plotly-4.4.1:\n",
            "      Successfully uninstalled plotly-4.4.1\n",
            "Successfully installed plotly-5.4.0 tenacity-8.0.1\n"
          ]
        }
      ]
    },
    {
      "cell_type": "code",
      "source": [
        "from kora.selenium import wd\n",
        "\n",
        "import pandas as pd\n",
        "import numpy as np\n",
        "from google.colab.data_table import DataTable\n",
        "from time import sleep\n",
        "\n",
        "import plotly.express as px"
      ],
      "metadata": {
        "id": "8kwNdraoPG_8"
      },
      "execution_count": null,
      "outputs": []
    },
    {
      "cell_type": "code",
      "source": [
        "def busca_carteira_teorica(indice, espera=8):\n",
        "  url = f'https://sistemaswebb3-listados.b3.com.br/indexPage/day/{indice.upper()}?language=pt-br'\n",
        "  wd.get(url)\n",
        "  sleep(espera)\n",
        "\n",
        "  wd.find_element_by_id('segment').send_keys(\"Setor de Atuação\")\n",
        "  sleep(espera)\n",
        "\n",
        "  wd.find_element_by_link_text(\"Download\").click()\n",
        "  sleep(espera)\n",
        "\n",
        "  arquivos = !ls -lt *.csv\n",
        "  return pd.read_csv(arquivos[0],sep=';', encoding='ISO-8859-1', skipfooter=2, engine='python', thousands='.', decimal=',', header=1, index_col=False )\n"
      ],
      "metadata": {
        "id": "7Dw2gzAZPzY2"
      },
      "execution_count": null,
      "outputs": []
    },
    {
      "cell_type": "code",
      "source": [
        "ibov = busca_carteira_teorica('ibov',20)"
      ],
      "metadata": {
        "colab": {
          "base_uri": "https://localhost:8080/",
          "height": 504
        },
        "id": "BnV0nOeBTMmf",
        "outputId": "362910c6-fab9-47d6-85c1-089c9cd87045"
      },
      "execution_count": null,
      "outputs": [
        {
          "output_type": "stream",
          "name": "stderr",
          "text": [
            "/usr/local/lib/python3.7/dist-packages/ipykernel_launcher.py:6: DeprecationWarning:\n",
            "\n",
            "find_element_by_* commands are deprecated. Please use find_element() instead\n",
            "\n",
            "/usr/local/lib/python3.7/dist-packages/ipykernel_launcher.py:9: DeprecationWarning:\n",
            "\n",
            "find_element_by_* commands are deprecated. Please use find_element() instead\n",
            "\n"
          ]
        },
        {
          "output_type": "error",
          "ename": "FileNotFoundError",
          "evalue": "ignored",
          "traceback": [
            "\u001b[0;31m---------------------------------------------------------------------------\u001b[0m",
            "\u001b[0;31mFileNotFoundError\u001b[0m                         Traceback (most recent call last)",
            "\u001b[0;32m<ipython-input-13-e2d56e10bcb5>\u001b[0m in \u001b[0;36m<module>\u001b[0;34m()\u001b[0m\n\u001b[0;32m----> 1\u001b[0;31m \u001b[0mibov\u001b[0m \u001b[0;34m=\u001b[0m \u001b[0mbusca_carteira_teorica\u001b[0m\u001b[0;34m(\u001b[0m\u001b[0;34m'ibov'\u001b[0m\u001b[0;34m,\u001b[0m\u001b[0;36m20\u001b[0m\u001b[0;34m)\u001b[0m\u001b[0;34m\u001b[0m\u001b[0;34m\u001b[0m\u001b[0m\n\u001b[0m",
            "\u001b[0;32m<ipython-input-12-8550cccb7059>\u001b[0m in \u001b[0;36mbusca_carteira_teorica\u001b[0;34m(indice, espera)\u001b[0m\n\u001b[1;32m     11\u001b[0m \u001b[0;34m\u001b[0m\u001b[0m\n\u001b[1;32m     12\u001b[0m   \u001b[0marquivos\u001b[0m \u001b[0;34m=\u001b[0m \u001b[0mget_ipython\u001b[0m\u001b[0;34m(\u001b[0m\u001b[0;34m)\u001b[0m\u001b[0;34m.\u001b[0m\u001b[0mgetoutput\u001b[0m\u001b[0;34m(\u001b[0m\u001b[0;34m'ls -lt *.csv'\u001b[0m\u001b[0;34m)\u001b[0m\u001b[0;34m\u001b[0m\u001b[0;34m\u001b[0m\u001b[0m\n\u001b[0;32m---> 13\u001b[0;31m   \u001b[0;32mreturn\u001b[0m \u001b[0mpd\u001b[0m\u001b[0;34m.\u001b[0m\u001b[0mread_csv\u001b[0m\u001b[0;34m(\u001b[0m\u001b[0marquivos\u001b[0m\u001b[0;34m[\u001b[0m\u001b[0;36m0\u001b[0m\u001b[0;34m]\u001b[0m\u001b[0;34m,\u001b[0m\u001b[0msep\u001b[0m\u001b[0;34m=\u001b[0m\u001b[0;34m';'\u001b[0m\u001b[0;34m,\u001b[0m \u001b[0mencoding\u001b[0m\u001b[0;34m=\u001b[0m\u001b[0;34m'ISO-8859-1'\u001b[0m\u001b[0;34m,\u001b[0m \u001b[0mskipfooter\u001b[0m\u001b[0;34m=\u001b[0m\u001b[0;36m2\u001b[0m\u001b[0;34m,\u001b[0m \u001b[0mengine\u001b[0m\u001b[0;34m=\u001b[0m\u001b[0;34m'python'\u001b[0m\u001b[0;34m,\u001b[0m \u001b[0mthousands\u001b[0m\u001b[0;34m=\u001b[0m\u001b[0;34m'.'\u001b[0m\u001b[0;34m,\u001b[0m \u001b[0mdecimal\u001b[0m\u001b[0;34m=\u001b[0m\u001b[0;34m','\u001b[0m\u001b[0;34m,\u001b[0m \u001b[0mheader\u001b[0m\u001b[0;34m=\u001b[0m\u001b[0;36m1\u001b[0m\u001b[0;34m,\u001b[0m \u001b[0mindex_col\u001b[0m\u001b[0;34m=\u001b[0m\u001b[0;32mFalse\u001b[0m \u001b[0;34m)\u001b[0m\u001b[0;34m\u001b[0m\u001b[0;34m\u001b[0m\u001b[0m\n\u001b[0m",
            "\u001b[0;32m/usr/local/lib/python3.7/dist-packages/pandas/io/parsers.py\u001b[0m in \u001b[0;36mread_csv\u001b[0;34m(filepath_or_buffer, sep, delimiter, header, names, index_col, usecols, squeeze, prefix, mangle_dupe_cols, dtype, engine, converters, true_values, false_values, skipinitialspace, skiprows, skipfooter, nrows, na_values, keep_default_na, na_filter, verbose, skip_blank_lines, parse_dates, infer_datetime_format, keep_date_col, date_parser, dayfirst, cache_dates, iterator, chunksize, compression, thousands, decimal, lineterminator, quotechar, quoting, doublequote, escapechar, comment, encoding, dialect, error_bad_lines, warn_bad_lines, delim_whitespace, low_memory, memory_map, float_precision)\u001b[0m\n\u001b[1;32m    686\u001b[0m     )\n\u001b[1;32m    687\u001b[0m \u001b[0;34m\u001b[0m\u001b[0m\n\u001b[0;32m--> 688\u001b[0;31m     \u001b[0;32mreturn\u001b[0m \u001b[0m_read\u001b[0m\u001b[0;34m(\u001b[0m\u001b[0mfilepath_or_buffer\u001b[0m\u001b[0;34m,\u001b[0m \u001b[0mkwds\u001b[0m\u001b[0;34m)\u001b[0m\u001b[0;34m\u001b[0m\u001b[0;34m\u001b[0m\u001b[0m\n\u001b[0m\u001b[1;32m    689\u001b[0m \u001b[0;34m\u001b[0m\u001b[0m\n\u001b[1;32m    690\u001b[0m \u001b[0;34m\u001b[0m\u001b[0m\n",
            "\u001b[0;32m/usr/local/lib/python3.7/dist-packages/pandas/io/parsers.py\u001b[0m in \u001b[0;36m_read\u001b[0;34m(filepath_or_buffer, kwds)\u001b[0m\n\u001b[1;32m    452\u001b[0m \u001b[0;34m\u001b[0m\u001b[0m\n\u001b[1;32m    453\u001b[0m     \u001b[0;31m# Create the parser.\u001b[0m\u001b[0;34m\u001b[0m\u001b[0;34m\u001b[0m\u001b[0;34m\u001b[0m\u001b[0m\n\u001b[0;32m--> 454\u001b[0;31m     \u001b[0mparser\u001b[0m \u001b[0;34m=\u001b[0m \u001b[0mTextFileReader\u001b[0m\u001b[0;34m(\u001b[0m\u001b[0mfp_or_buf\u001b[0m\u001b[0;34m,\u001b[0m \u001b[0;34m**\u001b[0m\u001b[0mkwds\u001b[0m\u001b[0;34m)\u001b[0m\u001b[0;34m\u001b[0m\u001b[0;34m\u001b[0m\u001b[0m\n\u001b[0m\u001b[1;32m    455\u001b[0m \u001b[0;34m\u001b[0m\u001b[0m\n\u001b[1;32m    456\u001b[0m     \u001b[0;32mif\u001b[0m \u001b[0mchunksize\u001b[0m \u001b[0;32mor\u001b[0m \u001b[0miterator\u001b[0m\u001b[0;34m:\u001b[0m\u001b[0;34m\u001b[0m\u001b[0;34m\u001b[0m\u001b[0m\n",
            "\u001b[0;32m/usr/local/lib/python3.7/dist-packages/pandas/io/parsers.py\u001b[0m in \u001b[0;36m__init__\u001b[0;34m(self, f, engine, **kwds)\u001b[0m\n\u001b[1;32m    946\u001b[0m             \u001b[0mself\u001b[0m\u001b[0;34m.\u001b[0m\u001b[0moptions\u001b[0m\u001b[0;34m[\u001b[0m\u001b[0;34m\"has_index_names\"\u001b[0m\u001b[0;34m]\u001b[0m \u001b[0;34m=\u001b[0m \u001b[0mkwds\u001b[0m\u001b[0;34m[\u001b[0m\u001b[0;34m\"has_index_names\"\u001b[0m\u001b[0;34m]\u001b[0m\u001b[0;34m\u001b[0m\u001b[0;34m\u001b[0m\u001b[0m\n\u001b[1;32m    947\u001b[0m \u001b[0;34m\u001b[0m\u001b[0m\n\u001b[0;32m--> 948\u001b[0;31m         \u001b[0mself\u001b[0m\u001b[0;34m.\u001b[0m\u001b[0m_make_engine\u001b[0m\u001b[0;34m(\u001b[0m\u001b[0mself\u001b[0m\u001b[0;34m.\u001b[0m\u001b[0mengine\u001b[0m\u001b[0;34m)\u001b[0m\u001b[0;34m\u001b[0m\u001b[0;34m\u001b[0m\u001b[0m\n\u001b[0m\u001b[1;32m    949\u001b[0m \u001b[0;34m\u001b[0m\u001b[0m\n\u001b[1;32m    950\u001b[0m     \u001b[0;32mdef\u001b[0m \u001b[0mclose\u001b[0m\u001b[0;34m(\u001b[0m\u001b[0mself\u001b[0m\u001b[0;34m)\u001b[0m\u001b[0;34m:\u001b[0m\u001b[0;34m\u001b[0m\u001b[0;34m\u001b[0m\u001b[0m\n",
            "\u001b[0;32m/usr/local/lib/python3.7/dist-packages/pandas/io/parsers.py\u001b[0m in \u001b[0;36m_make_engine\u001b[0;34m(self, engine)\u001b[0m\n\u001b[1;32m   1189\u001b[0m                     \u001b[0;34m'are \"c\", \"python\", or \"python-fwf\")'\u001b[0m\u001b[0;34m\u001b[0m\u001b[0;34m\u001b[0m\u001b[0m\n\u001b[1;32m   1190\u001b[0m                 )\n\u001b[0;32m-> 1191\u001b[0;31m             \u001b[0mself\u001b[0m\u001b[0;34m.\u001b[0m\u001b[0m_engine\u001b[0m \u001b[0;34m=\u001b[0m \u001b[0mklass\u001b[0m\u001b[0;34m(\u001b[0m\u001b[0mself\u001b[0m\u001b[0;34m.\u001b[0m\u001b[0mf\u001b[0m\u001b[0;34m,\u001b[0m \u001b[0;34m**\u001b[0m\u001b[0mself\u001b[0m\u001b[0;34m.\u001b[0m\u001b[0moptions\u001b[0m\u001b[0;34m)\u001b[0m\u001b[0;34m\u001b[0m\u001b[0;34m\u001b[0m\u001b[0m\n\u001b[0m\u001b[1;32m   1192\u001b[0m \u001b[0;34m\u001b[0m\u001b[0m\n\u001b[1;32m   1193\u001b[0m     \u001b[0;32mdef\u001b[0m \u001b[0m_failover_to_python\u001b[0m\u001b[0;34m(\u001b[0m\u001b[0mself\u001b[0m\u001b[0;34m)\u001b[0m\u001b[0;34m:\u001b[0m\u001b[0;34m\u001b[0m\u001b[0;34m\u001b[0m\u001b[0m\n",
            "\u001b[0;32m/usr/local/lib/python3.7/dist-packages/pandas/io/parsers.py\u001b[0m in \u001b[0;36m__init__\u001b[0;34m(self, f, **kwds)\u001b[0m\n\u001b[1;32m   2387\u001b[0m             \u001b[0mencoding\u001b[0m\u001b[0;34m=\u001b[0m\u001b[0mself\u001b[0m\u001b[0;34m.\u001b[0m\u001b[0mencoding\u001b[0m\u001b[0;34m,\u001b[0m\u001b[0;34m\u001b[0m\u001b[0;34m\u001b[0m\u001b[0m\n\u001b[1;32m   2388\u001b[0m             \u001b[0mcompression\u001b[0m\u001b[0;34m=\u001b[0m\u001b[0mself\u001b[0m\u001b[0;34m.\u001b[0m\u001b[0mcompression\u001b[0m\u001b[0;34m,\u001b[0m\u001b[0;34m\u001b[0m\u001b[0;34m\u001b[0m\u001b[0m\n\u001b[0;32m-> 2389\u001b[0;31m             \u001b[0mmemory_map\u001b[0m\u001b[0;34m=\u001b[0m\u001b[0mself\u001b[0m\u001b[0;34m.\u001b[0m\u001b[0mmemory_map\u001b[0m\u001b[0;34m,\u001b[0m\u001b[0;34m\u001b[0m\u001b[0;34m\u001b[0m\u001b[0m\n\u001b[0m\u001b[1;32m   2390\u001b[0m         )\n\u001b[1;32m   2391\u001b[0m         \u001b[0mself\u001b[0m\u001b[0;34m.\u001b[0m\u001b[0mhandles\u001b[0m\u001b[0;34m.\u001b[0m\u001b[0mextend\u001b[0m\u001b[0;34m(\u001b[0m\u001b[0mhandles\u001b[0m\u001b[0;34m)\u001b[0m\u001b[0;34m\u001b[0m\u001b[0;34m\u001b[0m\u001b[0m\n",
            "\u001b[0;32m/usr/local/lib/python3.7/dist-packages/pandas/io/common.py\u001b[0m in \u001b[0;36mget_handle\u001b[0;34m(path_or_buf, mode, encoding, compression, memory_map, is_text, errors)\u001b[0m\n\u001b[1;32m    491\u001b[0m         \u001b[0;32mif\u001b[0m \u001b[0mencoding\u001b[0m\u001b[0;34m:\u001b[0m\u001b[0;34m\u001b[0m\u001b[0;34m\u001b[0m\u001b[0m\n\u001b[1;32m    492\u001b[0m             \u001b[0;31m# Encoding\u001b[0m\u001b[0;34m\u001b[0m\u001b[0;34m\u001b[0m\u001b[0;34m\u001b[0m\u001b[0m\n\u001b[0;32m--> 493\u001b[0;31m             \u001b[0mf\u001b[0m \u001b[0;34m=\u001b[0m \u001b[0mopen\u001b[0m\u001b[0;34m(\u001b[0m\u001b[0mpath_or_buf\u001b[0m\u001b[0;34m,\u001b[0m \u001b[0mmode\u001b[0m\u001b[0;34m,\u001b[0m \u001b[0mencoding\u001b[0m\u001b[0;34m=\u001b[0m\u001b[0mencoding\u001b[0m\u001b[0;34m,\u001b[0m \u001b[0merrors\u001b[0m\u001b[0;34m=\u001b[0m\u001b[0merrors\u001b[0m\u001b[0;34m,\u001b[0m \u001b[0mnewline\u001b[0m\u001b[0;34m=\u001b[0m\u001b[0;34m\"\"\u001b[0m\u001b[0;34m)\u001b[0m\u001b[0;34m\u001b[0m\u001b[0;34m\u001b[0m\u001b[0m\n\u001b[0m\u001b[1;32m    494\u001b[0m         \u001b[0;32melif\u001b[0m \u001b[0mis_text\u001b[0m\u001b[0;34m:\u001b[0m\u001b[0;34m\u001b[0m\u001b[0;34m\u001b[0m\u001b[0m\n\u001b[1;32m    495\u001b[0m             \u001b[0;31m# No explicit encoding\u001b[0m\u001b[0;34m\u001b[0m\u001b[0;34m\u001b[0m\u001b[0;34m\u001b[0m\u001b[0m\n",
            "\u001b[0;31mFileNotFoundError\u001b[0m: [Errno 2] No such file or directory: '-rw-r--r-- 1 root root 7761 Dec  9 22:33 IBOVDia_09-12-21.csv'"
          ]
        }
      ]
    },
    {
      "cell_type": "code",
      "source": [
        "# ls -lt com erro, engessando o arquivo\n",
        "ibov = pd.read_csv('IBOVDia_09-12-21.csv',sep=';', encoding='ISO-8859-1', skipfooter=2, engine='python', thousands='.', decimal=',', header=1, index_col=False )"
      ],
      "metadata": {
        "id": "zTRaXA0uUvlI"
      },
      "execution_count": null,
      "outputs": []
    },
    {
      "cell_type": "code",
      "source": [
        "ibov"
      ],
      "metadata": {
        "colab": {
          "base_uri": "https://localhost:8080/",
          "height": 580
        },
        "id": "jqPrOTBVWQhu",
        "outputId": "0afa77d7-7996-4f76-b80a-bf478e46e8ea"
      },
      "execution_count": null,
      "outputs": [
        {
          "output_type": "execute_result",
          "data": {
            "text/html": [
              "<div>\n",
              "<style scoped>\n",
              "    .dataframe tbody tr th:only-of-type {\n",
              "        vertical-align: middle;\n",
              "    }\n",
              "\n",
              "    .dataframe tbody tr th {\n",
              "        vertical-align: top;\n",
              "    }\n",
              "\n",
              "    .dataframe thead th {\n",
              "        text-align: right;\n",
              "    }\n",
              "</style>\n",
              "<table border=\"1\" class=\"dataframe\">\n",
              "  <thead>\n",
              "    <tr style=\"text-align: right;\">\n",
              "      <th></th>\n",
              "      <th>Setor</th>\n",
              "      <th>Código</th>\n",
              "      <th>Ação</th>\n",
              "      <th>Tipo</th>\n",
              "      <th>Qtde. Teórica</th>\n",
              "      <th>Part. (%)</th>\n",
              "      <th>Part. (%)Acum.</th>\n",
              "    </tr>\n",
              "  </thead>\n",
              "  <tbody>\n",
              "    <tr>\n",
              "      <th>0</th>\n",
              "      <td>Bens Indls / Máqs e Equips</td>\n",
              "      <td>WEGE3</td>\n",
              "      <td>WEG</td>\n",
              "      <td>ON      NM</td>\n",
              "      <td>1484859030</td>\n",
              "      <td>2.622</td>\n",
              "      <td>2.622</td>\n",
              "    </tr>\n",
              "    <tr>\n",
              "      <th>1</th>\n",
              "      <td>Bens Indls / Mat Transporte</td>\n",
              "      <td>EMBR3</td>\n",
              "      <td>EMBRAER</td>\n",
              "      <td>ON      NM</td>\n",
              "      <td>734558205</td>\n",
              "      <td>0.767</td>\n",
              "      <td>0.767</td>\n",
              "    </tr>\n",
              "    <tr>\n",
              "      <th>2</th>\n",
              "      <td>Bens Indls/Transporte</td>\n",
              "      <td>AZUL4</td>\n",
              "      <td>AZUL</td>\n",
              "      <td>PN      N2</td>\n",
              "      <td>327741172</td>\n",
              "      <td>0.421</td>\n",
              "      <td>2.472</td>\n",
              "    </tr>\n",
              "    <tr>\n",
              "      <th>3</th>\n",
              "      <td>Bens Indls/Transporte</td>\n",
              "      <td>CCRO3</td>\n",
              "      <td>CCR SA</td>\n",
              "      <td>ON  ED  NM</td>\n",
              "      <td>1115693556</td>\n",
              "      <td>0.695</td>\n",
              "      <td>2.472</td>\n",
              "    </tr>\n",
              "    <tr>\n",
              "      <th>4</th>\n",
              "      <td>Bens Indls/Transporte</td>\n",
              "      <td>ECOR3</td>\n",
              "      <td>ECORODOVIAS</td>\n",
              "      <td>ON      NM</td>\n",
              "      <td>339237914</td>\n",
              "      <td>0.149</td>\n",
              "      <td>2.472</td>\n",
              "    </tr>\n",
              "    <tr>\n",
              "      <th>...</th>\n",
              "      <td>...</td>\n",
              "      <td>...</td>\n",
              "      <td>...</td>\n",
              "      <td>...</td>\n",
              "      <td>...</td>\n",
              "      <td>...</td>\n",
              "      <td>...</td>\n",
              "    </tr>\n",
              "    <tr>\n",
              "      <th>87</th>\n",
              "      <td>Utilidade Públ / Energ Elétrica</td>\n",
              "      <td>ENGI11</td>\n",
              "      <td>ENERGISA</td>\n",
              "      <td>UNT     N2</td>\n",
              "      <td>248542219</td>\n",
              "      <td>0.558</td>\n",
              "      <td>6.302</td>\n",
              "    </tr>\n",
              "    <tr>\n",
              "      <th>88</th>\n",
              "      <td>Utilidade Públ / Energ Elétrica</td>\n",
              "      <td>ENEV3</td>\n",
              "      <td>ENEVA</td>\n",
              "      <td>ON      NM</td>\n",
              "      <td>1261568398</td>\n",
              "      <td>0.925</td>\n",
              "      <td>6.302</td>\n",
              "    </tr>\n",
              "    <tr>\n",
              "      <th>89</th>\n",
              "      <td>Utilidade Públ / Energ Elétrica</td>\n",
              "      <td>EGIE3</td>\n",
              "      <td>ENGIE BRASIL</td>\n",
              "      <td>ON      NM</td>\n",
              "      <td>255217329</td>\n",
              "      <td>0.491</td>\n",
              "      <td>6.302</td>\n",
              "    </tr>\n",
              "    <tr>\n",
              "      <th>90</th>\n",
              "      <td>Utilidade Públ / Energ Elétrica</td>\n",
              "      <td>EQTL3</td>\n",
              "      <td>EQUATORIAL</td>\n",
              "      <td>ON      NM</td>\n",
              "      <td>1010511085</td>\n",
              "      <td>1.169</td>\n",
              "      <td>6.302</td>\n",
              "    </tr>\n",
              "    <tr>\n",
              "      <th>91</th>\n",
              "      <td>Utilidade Públ / Energ Elétrica</td>\n",
              "      <td>TAEE11</td>\n",
              "      <td>TAESA</td>\n",
              "      <td>UNT EDJ N2</td>\n",
              "      <td>218568234</td>\n",
              "      <td>0.383</td>\n",
              "      <td>6.302</td>\n",
              "    </tr>\n",
              "  </tbody>\n",
              "</table>\n",
              "<p>92 rows × 7 columns</p>\n",
              "</div>"
            ],
            "text/plain": [
              "                              Setor  Código  ... Part. (%) Part. (%)Acum.\n",
              "0        Bens Indls / Máqs e Equips   WEGE3  ...     2.622          2.622\n",
              "1       Bens Indls / Mat Transporte   EMBR3  ...     0.767          0.767\n",
              "2             Bens Indls/Transporte   AZUL4  ...     0.421          2.472\n",
              "3             Bens Indls/Transporte   CCRO3  ...     0.695          2.472\n",
              "4             Bens Indls/Transporte   ECOR3  ...     0.149          2.472\n",
              "..                              ...     ...  ...       ...            ...\n",
              "87  Utilidade Públ / Energ Elétrica  ENGI11  ...     0.558          6.302\n",
              "88  Utilidade Públ / Energ Elétrica   ENEV3  ...     0.925          6.302\n",
              "89  Utilidade Públ / Energ Elétrica   EGIE3  ...     0.491          6.302\n",
              "90  Utilidade Públ / Energ Elétrica   EQTL3  ...     1.169          6.302\n",
              "91  Utilidade Públ / Energ Elétrica  TAEE11  ...     0.383          6.302\n",
              "\n",
              "[92 rows x 7 columns]"
            ]
          },
          "metadata": {},
          "execution_count": 27
        }
      ]
    },
    {
      "cell_type": "code",
      "source": [
        "ibov['SubSetor'] = ibov['Setor'].apply(lambda s: s[s.rfind(\"/\")+1:].strip())"
      ],
      "metadata": {
        "id": "oWJYEKkaXpkJ"
      },
      "execution_count": null,
      "outputs": []
    },
    {
      "cell_type": "code",
      "source": [
        "ibov['Setor'] = ibov['Setor'].apply(lambda s: s[:s.rfind(\"/\")].strip())"
      ],
      "metadata": {
        "id": "myKbz4LiZZQQ"
      },
      "execution_count": null,
      "outputs": []
    },
    {
      "cell_type": "code",
      "source": [
        "ibov"
      ],
      "metadata": {
        "id": "wjdrHVz3YU1I",
        "outputId": "0887be75-6409-425d-b221-3f952d4deed9",
        "colab": {
          "base_uri": "https://localhost:8080/",
          "height": 580
        }
      },
      "execution_count": null,
      "outputs": [
        {
          "output_type": "execute_result",
          "data": {
            "text/html": [
              "<div>\n",
              "<style scoped>\n",
              "    .dataframe tbody tr th:only-of-type {\n",
              "        vertical-align: middle;\n",
              "    }\n",
              "\n",
              "    .dataframe tbody tr th {\n",
              "        vertical-align: top;\n",
              "    }\n",
              "\n",
              "    .dataframe thead th {\n",
              "        text-align: right;\n",
              "    }\n",
              "</style>\n",
              "<table border=\"1\" class=\"dataframe\">\n",
              "  <thead>\n",
              "    <tr style=\"text-align: right;\">\n",
              "      <th></th>\n",
              "      <th>Setor</th>\n",
              "      <th>Código</th>\n",
              "      <th>Ação</th>\n",
              "      <th>Tipo</th>\n",
              "      <th>Qtde. Teórica</th>\n",
              "      <th>Part. (%)</th>\n",
              "      <th>Part. (%)Acum.</th>\n",
              "      <th>SubSetor</th>\n",
              "    </tr>\n",
              "  </thead>\n",
              "  <tbody>\n",
              "    <tr>\n",
              "      <th>0</th>\n",
              "      <td>Bens Indls</td>\n",
              "      <td>WEGE3</td>\n",
              "      <td>WEG</td>\n",
              "      <td>ON      NM</td>\n",
              "      <td>1484859030</td>\n",
              "      <td>2.622</td>\n",
              "      <td>2.622</td>\n",
              "      <td>Máqs e Equips</td>\n",
              "    </tr>\n",
              "    <tr>\n",
              "      <th>1</th>\n",
              "      <td>Bens Indls</td>\n",
              "      <td>EMBR3</td>\n",
              "      <td>EMBRAER</td>\n",
              "      <td>ON      NM</td>\n",
              "      <td>734558205</td>\n",
              "      <td>0.767</td>\n",
              "      <td>0.767</td>\n",
              "      <td>Mat Transporte</td>\n",
              "    </tr>\n",
              "    <tr>\n",
              "      <th>2</th>\n",
              "      <td>Bens Indls</td>\n",
              "      <td>AZUL4</td>\n",
              "      <td>AZUL</td>\n",
              "      <td>PN      N2</td>\n",
              "      <td>327741172</td>\n",
              "      <td>0.421</td>\n",
              "      <td>2.472</td>\n",
              "      <td>Transporte</td>\n",
              "    </tr>\n",
              "    <tr>\n",
              "      <th>3</th>\n",
              "      <td>Bens Indls</td>\n",
              "      <td>CCRO3</td>\n",
              "      <td>CCR SA</td>\n",
              "      <td>ON  ED  NM</td>\n",
              "      <td>1115693556</td>\n",
              "      <td>0.695</td>\n",
              "      <td>2.472</td>\n",
              "      <td>Transporte</td>\n",
              "    </tr>\n",
              "    <tr>\n",
              "      <th>4</th>\n",
              "      <td>Bens Indls</td>\n",
              "      <td>ECOR3</td>\n",
              "      <td>ECORODOVIAS</td>\n",
              "      <td>ON      NM</td>\n",
              "      <td>339237914</td>\n",
              "      <td>0.149</td>\n",
              "      <td>2.472</td>\n",
              "      <td>Transporte</td>\n",
              "    </tr>\n",
              "    <tr>\n",
              "      <th>...</th>\n",
              "      <td>...</td>\n",
              "      <td>...</td>\n",
              "      <td>...</td>\n",
              "      <td>...</td>\n",
              "      <td>...</td>\n",
              "      <td>...</td>\n",
              "      <td>...</td>\n",
              "      <td>...</td>\n",
              "    </tr>\n",
              "    <tr>\n",
              "      <th>87</th>\n",
              "      <td>Utilidade Públ</td>\n",
              "      <td>ENGI11</td>\n",
              "      <td>ENERGISA</td>\n",
              "      <td>UNT     N2</td>\n",
              "      <td>248542219</td>\n",
              "      <td>0.558</td>\n",
              "      <td>6.302</td>\n",
              "      <td>Energ Elétrica</td>\n",
              "    </tr>\n",
              "    <tr>\n",
              "      <th>88</th>\n",
              "      <td>Utilidade Públ</td>\n",
              "      <td>ENEV3</td>\n",
              "      <td>ENEVA</td>\n",
              "      <td>ON      NM</td>\n",
              "      <td>1261568398</td>\n",
              "      <td>0.925</td>\n",
              "      <td>6.302</td>\n",
              "      <td>Energ Elétrica</td>\n",
              "    </tr>\n",
              "    <tr>\n",
              "      <th>89</th>\n",
              "      <td>Utilidade Públ</td>\n",
              "      <td>EGIE3</td>\n",
              "      <td>ENGIE BRASIL</td>\n",
              "      <td>ON      NM</td>\n",
              "      <td>255217329</td>\n",
              "      <td>0.491</td>\n",
              "      <td>6.302</td>\n",
              "      <td>Energ Elétrica</td>\n",
              "    </tr>\n",
              "    <tr>\n",
              "      <th>90</th>\n",
              "      <td>Utilidade Públ</td>\n",
              "      <td>EQTL3</td>\n",
              "      <td>EQUATORIAL</td>\n",
              "      <td>ON      NM</td>\n",
              "      <td>1010511085</td>\n",
              "      <td>1.169</td>\n",
              "      <td>6.302</td>\n",
              "      <td>Energ Elétrica</td>\n",
              "    </tr>\n",
              "    <tr>\n",
              "      <th>91</th>\n",
              "      <td>Utilidade Públ</td>\n",
              "      <td>TAEE11</td>\n",
              "      <td>TAESA</td>\n",
              "      <td>UNT EDJ N2</td>\n",
              "      <td>218568234</td>\n",
              "      <td>0.383</td>\n",
              "      <td>6.302</td>\n",
              "      <td>Energ Elétrica</td>\n",
              "    </tr>\n",
              "  </tbody>\n",
              "</table>\n",
              "<p>92 rows × 8 columns</p>\n",
              "</div>"
            ],
            "text/plain": [
              "             Setor  Código  ... Part. (%)Acum.        SubSetor\n",
              "0       Bens Indls   WEGE3  ...          2.622   Máqs e Equips\n",
              "1       Bens Indls   EMBR3  ...          0.767  Mat Transporte\n",
              "2       Bens Indls   AZUL4  ...          2.472      Transporte\n",
              "3       Bens Indls   CCRO3  ...          2.472      Transporte\n",
              "4       Bens Indls   ECOR3  ...          2.472      Transporte\n",
              "..             ...     ...  ...            ...             ...\n",
              "87  Utilidade Públ  ENGI11  ...          6.302  Energ Elétrica\n",
              "88  Utilidade Públ   ENEV3  ...          6.302  Energ Elétrica\n",
              "89  Utilidade Públ   EGIE3  ...          6.302  Energ Elétrica\n",
              "90  Utilidade Públ   EQTL3  ...          6.302  Energ Elétrica\n",
              "91  Utilidade Públ  TAEE11  ...          6.302  Energ Elétrica\n",
              "\n",
              "[92 rows x 8 columns]"
            ]
          },
          "metadata": {},
          "execution_count": 30
        }
      ]
    },
    {
      "cell_type": "code",
      "source": [
        "# ver se tem alguma inconsistencia no setores\n",
        "ibov['Setor'].unique()"
      ],
      "metadata": {
        "id": "u0HxFeTycnSC",
        "outputId": "87c868ee-0c7b-4c35-b79b-a2ae21acdea2",
        "colab": {
          "base_uri": "https://localhost:8080/"
        }
      },
      "execution_count": null,
      "outputs": [
        {
          "output_type": "execute_result",
          "data": {
            "text/plain": [
              "array(['Bens Indls', 'Cons N  Básico', 'Cons N Cíclico',\n",
              "       'Consumo Cíclico', 'Diverso', 'Financ e Outros',\n",
              "       'Financeiro e Outros', 'Mats Básicos', 'Petróleo', 'Saúde',\n",
              "       'Tec.Informação', 'Telecomunicaçã', 'Utilidade Públ'], dtype=object)"
            ]
          },
          "metadata": {},
          "execution_count": 31
        }
      ]
    },
    {
      "cell_type": "code",
      "source": [
        "# retirando duplicidades\n",
        "def conserta_setores(setor):\n",
        "  if setor == 'Cons N  Básico' or setor == 'Cons N Cíclico': return 'Consumo Não-Cíclico'\n",
        "  if setor == 'Financeiro e Outros' or setor == 'Financ e Outros': return 'Financeiro'\n",
        "  else: return setor\n",
        "  \n"
      ],
      "metadata": {
        "id": "OqIrMFWTc83k"
      },
      "execution_count": null,
      "outputs": []
    },
    {
      "cell_type": "code",
      "source": [
        "# aplica funçao conserta setores na coluna\n",
        "ibov['Setor'] = ibov['Setor'].apply(conserta_setores)"
      ],
      "metadata": {
        "id": "bvX3LwCldw20"
      },
      "execution_count": null,
      "outputs": []
    },
    {
      "cell_type": "code",
      "source": [
        "ibov['Setor'].unique()"
      ],
      "metadata": {
        "id": "9MQn3cY5eIQb",
        "outputId": "556cce15-3b8f-4d98-a779-42c94c4e7e41",
        "colab": {
          "base_uri": "https://localhost:8080/"
        }
      },
      "execution_count": null,
      "outputs": [
        {
          "output_type": "execute_result",
          "data": {
            "text/plain": [
              "array(['Bens Indls', 'Consumo Não-Cíclico', 'Consumo Cíclico', 'Diverso',\n",
              "       'Financeiro', 'Mats Básicos', 'Petróleo', 'Saúde',\n",
              "       'Tec.Informação', 'Telecomunicaçã', 'Utilidade Públ'], dtype=object)"
            ]
          },
          "metadata": {},
          "execution_count": 34
        }
      ]
    },
    {
      "cell_type": "code",
      "source": [
        "#grafico\n",
        "fig = px.sunburst(data_frame=ibov,path=['Setor','SubSetor','Código'], values='Part. (%)', height=900)\n",
        "\n",
        "fig.update_traces(textfont_color='white',\n",
        "                  textfont_size=14,\n",
        "                  hovertemplate='<b>%{label}:</b> %{value:f}%')\n",
        "\n",
        "fig.show()"
      ],
      "metadata": {
        "id": "adlKBTP0eM4x",
        "outputId": "d411b45d-dc9f-4741-fa91-e0c6322bbbe4",
        "colab": {
          "base_uri": "https://localhost:8080/",
          "height": 917
        }
      },
      "execution_count": null,
      "outputs": [
        {
          "output_type": "display_data",
          "data": {
            "text/html": [
              "<html>\n",
              "<head><meta charset=\"utf-8\" /></head>\n",
              "<body>\n",
              "    <div>            <script src=\"https://cdnjs.cloudflare.com/ajax/libs/mathjax/2.7.5/MathJax.js?config=TeX-AMS-MML_SVG\"></script><script type=\"text/javascript\">if (window.MathJax) {MathJax.Hub.Config({SVG: {font: \"STIX-Web\"}});}</script>                <script type=\"text/javascript\">window.PlotlyConfig = {MathJaxConfig: 'local'};</script>\n",
              "        <script src=\"https://cdn.plot.ly/plotly-2.6.3.min.js\"></script>                <div id=\"4edc3d8f-2b42-400a-9afd-de0901e8a5a7\" class=\"plotly-graph-div\" style=\"height:900px; width:100%;\"></div>            <script type=\"text/javascript\">                                    window.PLOTLYENV=window.PLOTLYENV || {};                                    if (document.getElementById(\"4edc3d8f-2b42-400a-9afd-de0901e8a5a7\")) {                    Plotly.newPlot(                        \"4edc3d8f-2b42-400a-9afd-de0901e8a5a7\",                        [{\"branchvalues\":\"total\",\"domain\":{\"x\":[0.0,1.0],\"y\":[0.0,1.0]},\"hovertemplate\":\"<b>%{label}:</b> %{value:f}%\",\"ids\":[\"Consumo N\\u00e3o-C\\u00edclico/Bebidas/ABEV3\",\"Consumo C\\u00edclico/Tecid Vest Cal\\u00e7/ALPA4\",\"Consumo C\\u00edclico/Com\\u00e9rcio/AMER3\",\"Consumo N\\u00e3o-C\\u00edclico/Com\\u00e9rcio Distr./ASAI3\",\"Bens Indls/Transporte/AZUL4\",\"Financeiro/Servi\\u00e7os Financeiros Diversos/B3SA3\",\"Financeiro/Interms Financs/BBAS3\",\"Financeiro/Interms Financs/BBDC3\",\"Financeiro/Interms Financs/BBDC4\",\"Financeiro/Previd  Seguros/BBSE3\",\"Consumo N\\u00e3o-C\\u00edclico/Alimentos Processados/BEEF3\",\"Financeiro/Interms Financs/BIDI11\",\"Financeiro/Interms Financs/BIDI4\",\"Financeiro/Interms Financs/BPAC11\",\"Financeiro/Interms Financs/BPAN4\",\"Mats B\\u00e1sicos/Minera\\u00e7\\u00e3o/BRAP4\",\"Consumo N\\u00e3o-C\\u00edclico/Alimentos Processados/BRFS3\",\"Mats B\\u00e1sicos/Qu\\u00edmicos/BRKM5\",\"Financeiro/Explor Im\\u00f3veis/BRML3\",\"Tec.Informa\\u00e7\\u00e3o/Programas Servs/CASH3\",\"Bens Indls/Transporte/CCRO3\",\"Financeiro/Servi\\u00e7os Financeiros Diversos/CIEL3\",\"Utilidade P\\u00fabl/Energ El\\u00e9trica/CMIG4\",\"Diverso/Diversos/COGN3\",\"Utilidade P\\u00fabl/Energ El\\u00e9trica/CPFE3\",\"Utilidade P\\u00fabl/Energ El\\u00e9trica/CPLE6\",\"Consumo N\\u00e3o-C\\u00edclico/Com\\u00e9rcio Distr./CRFB3\",\"Petr\\u00f3leo/G\\u00e1s e Biocombust\\u00edveis/CSAN3\",\"Mats B\\u00e1sicos/Sid Metalurgia/CSNA3\",\"Consumo C\\u00edclico/Viagens e Lazer/CVCB3\",\"Consumo C\\u00edclico/Constr Civil/CYRE3\",\"Mats B\\u00e1sicos/Madeira e Papel/DXCO3\",\"Bens Indls/Transporte/ECOR3\",\"Utilidade P\\u00fabl/Energ El\\u00e9trica/EGIE3\",\"Utilidade P\\u00fabl/Energ El\\u00e9trica/ELET3\",\"Utilidade P\\u00fabl/Energ El\\u00e9trica/ELET6\",\"Bens Indls/Mat Transporte/EMBR3\",\"Utilidade P\\u00fabl/Energ El\\u00e9trica/ENBR3\",\"Utilidade P\\u00fabl/Energ El\\u00e9trica/ENEV3\",\"Utilidade P\\u00fabl/Energ El\\u00e9trica/ENGI11\",\"Utilidade P\\u00fabl/Energ El\\u00e9trica/EQTL3\",\"Consumo C\\u00edclico/Constr Civil/EZTC3\",\"Sa\\u00fade/SM Hosp An.Diag/FLRY3\",\"Financeiro/Servi\\u00e7os Financeiros Diversos/GETT11\",\"Mats B\\u00e1sicos/Sid Metalurgia/GGBR4\",\"Sa\\u00fade/SM Hosp An.Diag/GNDI3\",\"Mats B\\u00e1sicos/Sid Metalurgia/GOAU4\",\"Bens Indls/Transporte/GOLL4\",\"Sa\\u00fade/SM Hosp An.Diag/HAPV3\",\"Sa\\u00fade/Com\\u00e9rcio Distr./HYPE3\",\"Financeiro/Explor Im\\u00f3veis/IGTI11\",\"Financeiro/Previd  Seguros/IRBR3\",\"Financeiro/Interms Financs/ITSA4\",\"Financeiro/Interms Financs/ITUB4\",\"Consumo N\\u00e3o-C\\u00edclico/Alimentos Processados/JBSS3\",\"Consumo C\\u00edclico/Constr Civil/JHSF3\",\"Mats B\\u00e1sicos/Madeira e Papel/KLBN11\",\"Consumo C\\u00edclico/Com\\u00e9rcio/LAME4\",\"Diverso/Diversos/LCAM3\",\"Consumo C\\u00edclico/Com\\u00e9rcio/LREN3\",\"Tec.Informa\\u00e7\\u00e3o/Programas Servs/LWSA3\",\"Consumo C\\u00edclico/Com\\u00e9rcio/MGLU3\",\"Consumo N\\u00e3o-C\\u00edclico/Alimentos Processados/MRFG3\",\"Consumo C\\u00edclico/Constr Civil/MRVE3\",\"Financeiro/Explor Im\\u00f3veis/MULT3\",\"Consumo N\\u00e3o-C\\u00edclico/Pr Pessoal Limp/NTCO3\",\"Consumo N\\u00e3o-C\\u00edclico/Com\\u00e9rcio Distr./PCAR3\",\"Petr\\u00f3leo/G\\u00e1s e Biocombust\\u00edveis/PETR3\",\"Petr\\u00f3leo/G\\u00e1s e Biocombust\\u00edveis/PETR4\",\"Consumo C\\u00edclico/Com\\u00e9rcio/PETZ3\",\"Petr\\u00f3leo/G\\u00e1s e Biocombust\\u00edveis/PRIO3\",\"Sa\\u00fade/SM Hosp An.Diag/QUAL3\",\"Sa\\u00fade/Com\\u00e9rcio Distr./RADL3\",\"Bens Indls/Transporte/RAIL3\",\"Sa\\u00fade/SM Hosp An.Diag/RDOR3\",\"Diverso/Diversos/RENT3\",\"Financeiro/Interms Financs/SANB11\",\"Utilidade P\\u00fabl/\\u00c1gua Saneamento/SBSP3\",\"Consumo C\\u00edclico/Com\\u00e9rcio/SOMA3\",\"Financeiro/Previd  Seguros/SULA11\",\"Mats B\\u00e1sicos/Madeira e Papel/SUZB3\",\"Utilidade P\\u00fabl/Energ El\\u00e9trica/TAEE11\",\"Telecomunica\\u00e7\\u00e3/Telecomunica\\u00e7\\u00e3o/TIMS3\",\"Tec.Informa\\u00e7\\u00e3o/Programas Servs/TOTS3\",\"Petr\\u00f3leo/G\\u00e1s e Biocombust\\u00edveis/UGPA3\",\"Mats B\\u00e1sicos/Sid Metalurgia/USIM5\",\"Mats B\\u00e1sicos/Minera\\u00e7\\u00e3o/VALE3\",\"Petr\\u00f3leo/G\\u00e1s e Biocombust\\u00edveis/VBBR3\",\"Consumo C\\u00edclico/Com\\u00e9rcio/VIIA3\",\"Telecomunica\\u00e7\\u00e3/Telecomunica\\u00e7\\u00e3o/VIVT3\",\"Bens Indls/M\\u00e1qs e Equips/WEGE3\",\"Diverso/Diversos/YDUQ3\",\"Consumo N\\u00e3o-C\\u00edclico/Alimentos Processados\",\"Consumo N\\u00e3o-C\\u00edclico/Bebidas\",\"Consumo C\\u00edclico/Com\\u00e9rcio\",\"Consumo N\\u00e3o-C\\u00edclico/Com\\u00e9rcio Distr.\",\"Sa\\u00fade/Com\\u00e9rcio Distr.\",\"Consumo C\\u00edclico/Constr Civil\",\"Diverso/Diversos\",\"Utilidade P\\u00fabl/Energ El\\u00e9trica\",\"Financeiro/Explor Im\\u00f3veis\",\"Petr\\u00f3leo/G\\u00e1s e Biocombust\\u00edveis\",\"Financeiro/Interms Financs\",\"Mats B\\u00e1sicos/Madeira e Papel\",\"Bens Indls/Mat Transporte\",\"Mats B\\u00e1sicos/Minera\\u00e7\\u00e3o\",\"Bens Indls/M\\u00e1qs e Equips\",\"Consumo N\\u00e3o-C\\u00edclico/Pr Pessoal Limp\",\"Financeiro/Previd  Seguros\",\"Tec.Informa\\u00e7\\u00e3o/Programas Servs\",\"Mats B\\u00e1sicos/Qu\\u00edmicos\",\"Sa\\u00fade/SM Hosp An.Diag\",\"Financeiro/Servi\\u00e7os Financeiros Diversos\",\"Mats B\\u00e1sicos/Sid Metalurgia\",\"Consumo C\\u00edclico/Tecid Vest Cal\\u00e7\",\"Telecomunica\\u00e7\\u00e3/Telecomunica\\u00e7\\u00e3o\",\"Bens Indls/Transporte\",\"Consumo C\\u00edclico/Viagens e Lazer\",\"Utilidade P\\u00fabl/\\u00c1gua Saneamento\",\"Bens Indls\",\"Consumo C\\u00edclico\",\"Consumo N\\u00e3o-C\\u00edclico\",\"Diverso\",\"Financeiro\",\"Mats B\\u00e1sicos\",\"Petr\\u00f3leo\",\"Sa\\u00fade\",\"Tec.Informa\\u00e7\\u00e3o\",\"Telecomunica\\u00e7\\u00e3\",\"Utilidade P\\u00fabl\"],\"labels\":[\"ABEV3\",\"ALPA4\",\"AMER3\",\"ASAI3\",\"AZUL4\",\"B3SA3\",\"BBAS3\",\"BBDC3\",\"BBDC4\",\"BBSE3\",\"BEEF3\",\"BIDI11\",\"BIDI4\",\"BPAC11\",\"BPAN4\",\"BRAP4\",\"BRFS3\",\"BRKM5\",\"BRML3\",\"CASH3\",\"CCRO3\",\"CIEL3\",\"CMIG4\",\"COGN3\",\"CPFE3\",\"CPLE6\",\"CRFB3\",\"CSAN3\",\"CSNA3\",\"CVCB3\",\"CYRE3\",\"DXCO3\",\"ECOR3\",\"EGIE3\",\"ELET3\",\"ELET6\",\"EMBR3\",\"ENBR3\",\"ENEV3\",\"ENGI11\",\"EQTL3\",\"EZTC3\",\"FLRY3\",\"GETT11\",\"GGBR4\",\"GNDI3\",\"GOAU4\",\"GOLL4\",\"HAPV3\",\"HYPE3\",\"IGTI11\",\"IRBR3\",\"ITSA4\",\"ITUB4\",\"JBSS3\",\"JHSF3\",\"KLBN11\",\"LAME4\",\"LCAM3\",\"LREN3\",\"LWSA3\",\"MGLU3\",\"MRFG3\",\"MRVE3\",\"MULT3\",\"NTCO3\",\"PCAR3\",\"PETR3\",\"PETR4\",\"PETZ3\",\"PRIO3\",\"QUAL3\",\"RADL3\",\"RAIL3\",\"RDOR3\",\"RENT3\",\"SANB11\",\"SBSP3\",\"SOMA3\",\"SULA11\",\"SUZB3\",\"TAEE11\",\"TIMS3\",\"TOTS3\",\"UGPA3\",\"USIM5\",\"VALE3\",\"VBBR3\",\"VIIA3\",\"VIVT3\",\"WEGE3\",\"YDUQ3\",\"Alimentos Processados\",\"Bebidas\",\"Com\\u00e9rcio\",\"Com\\u00e9rcio Distr.\",\"Com\\u00e9rcio Distr.\",\"Constr Civil\",\"Diversos\",\"Energ El\\u00e9trica\",\"Explor Im\\u00f3veis\",\"G\\u00e1s e Biocombust\\u00edveis\",\"Interms Financs\",\"Madeira e Papel\",\"Mat Transporte\",\"Minera\\u00e7\\u00e3o\",\"M\\u00e1qs e Equips\",\"Pr Pessoal Limp\",\"Previd  Seguros\",\"Programas Servs\",\"Qu\\u00edmicos\",\"SM Hosp An.Diag\",\"Servi\\u00e7os Financeiros Diversos\",\"Sid Metalurgia\",\"Tecid Vest Cal\\u00e7\",\"Telecomunica\\u00e7\\u00e3o\",\"Transporte\",\"Viagens e Lazer\",\"\\u00c1gua Saneamento\",\"Bens Indls\",\"Consumo C\\u00edclico\",\"Consumo N\\u00e3o-C\\u00edclico\",\"Diverso\",\"Financeiro\",\"Mats B\\u00e1sicos\",\"Petr\\u00f3leo\",\"Sa\\u00fade\",\"Tec.Informa\\u00e7\\u00e3o\",\"Telecomunica\\u00e7\\u00e3\",\"Utilidade P\\u00fabl\"],\"name\":\"\",\"parents\":[\"Consumo N\\u00e3o-C\\u00edclico/Bebidas\",\"Consumo C\\u00edclico/Tecid Vest Cal\\u00e7\",\"Consumo C\\u00edclico/Com\\u00e9rcio\",\"Consumo N\\u00e3o-C\\u00edclico/Com\\u00e9rcio Distr.\",\"Bens Indls/Transporte\",\"Financeiro/Servi\\u00e7os Financeiros Diversos\",\"Financeiro/Interms Financs\",\"Financeiro/Interms Financs\",\"Financeiro/Interms Financs\",\"Financeiro/Previd  Seguros\",\"Consumo N\\u00e3o-C\\u00edclico/Alimentos Processados\",\"Financeiro/Interms Financs\",\"Financeiro/Interms Financs\",\"Financeiro/Interms Financs\",\"Financeiro/Interms Financs\",\"Mats B\\u00e1sicos/Minera\\u00e7\\u00e3o\",\"Consumo N\\u00e3o-C\\u00edclico/Alimentos Processados\",\"Mats B\\u00e1sicos/Qu\\u00edmicos\",\"Financeiro/Explor Im\\u00f3veis\",\"Tec.Informa\\u00e7\\u00e3o/Programas Servs\",\"Bens Indls/Transporte\",\"Financeiro/Servi\\u00e7os Financeiros Diversos\",\"Utilidade P\\u00fabl/Energ El\\u00e9trica\",\"Diverso/Diversos\",\"Utilidade P\\u00fabl/Energ El\\u00e9trica\",\"Utilidade P\\u00fabl/Energ El\\u00e9trica\",\"Consumo N\\u00e3o-C\\u00edclico/Com\\u00e9rcio Distr.\",\"Petr\\u00f3leo/G\\u00e1s e Biocombust\\u00edveis\",\"Mats B\\u00e1sicos/Sid Metalurgia\",\"Consumo C\\u00edclico/Viagens e Lazer\",\"Consumo C\\u00edclico/Constr Civil\",\"Mats B\\u00e1sicos/Madeira e Papel\",\"Bens Indls/Transporte\",\"Utilidade P\\u00fabl/Energ El\\u00e9trica\",\"Utilidade P\\u00fabl/Energ El\\u00e9trica\",\"Utilidade P\\u00fabl/Energ El\\u00e9trica\",\"Bens Indls/Mat Transporte\",\"Utilidade P\\u00fabl/Energ El\\u00e9trica\",\"Utilidade P\\u00fabl/Energ El\\u00e9trica\",\"Utilidade P\\u00fabl/Energ El\\u00e9trica\",\"Utilidade P\\u00fabl/Energ El\\u00e9trica\",\"Consumo C\\u00edclico/Constr Civil\",\"Sa\\u00fade/SM Hosp An.Diag\",\"Financeiro/Servi\\u00e7os Financeiros Diversos\",\"Mats B\\u00e1sicos/Sid Metalurgia\",\"Sa\\u00fade/SM Hosp An.Diag\",\"Mats B\\u00e1sicos/Sid Metalurgia\",\"Bens Indls/Transporte\",\"Sa\\u00fade/SM Hosp An.Diag\",\"Sa\\u00fade/Com\\u00e9rcio Distr.\",\"Financeiro/Explor Im\\u00f3veis\",\"Financeiro/Previd  Seguros\",\"Financeiro/Interms Financs\",\"Financeiro/Interms Financs\",\"Consumo N\\u00e3o-C\\u00edclico/Alimentos Processados\",\"Consumo C\\u00edclico/Constr Civil\",\"Mats B\\u00e1sicos/Madeira e Papel\",\"Consumo C\\u00edclico/Com\\u00e9rcio\",\"Diverso/Diversos\",\"Consumo C\\u00edclico/Com\\u00e9rcio\",\"Tec.Informa\\u00e7\\u00e3o/Programas Servs\",\"Consumo C\\u00edclico/Com\\u00e9rcio\",\"Consumo N\\u00e3o-C\\u00edclico/Alimentos Processados\",\"Consumo C\\u00edclico/Constr Civil\",\"Financeiro/Explor Im\\u00f3veis\",\"Consumo N\\u00e3o-C\\u00edclico/Pr Pessoal Limp\",\"Consumo N\\u00e3o-C\\u00edclico/Com\\u00e9rcio Distr.\",\"Petr\\u00f3leo/G\\u00e1s e Biocombust\\u00edveis\",\"Petr\\u00f3leo/G\\u00e1s e Biocombust\\u00edveis\",\"Consumo C\\u00edclico/Com\\u00e9rcio\",\"Petr\\u00f3leo/G\\u00e1s e Biocombust\\u00edveis\",\"Sa\\u00fade/SM Hosp An.Diag\",\"Sa\\u00fade/Com\\u00e9rcio Distr.\",\"Bens Indls/Transporte\",\"Sa\\u00fade/SM Hosp An.Diag\",\"Diverso/Diversos\",\"Financeiro/Interms Financs\",\"Utilidade P\\u00fabl/\\u00c1gua Saneamento\",\"Consumo C\\u00edclico/Com\\u00e9rcio\",\"Financeiro/Previd  Seguros\",\"Mats B\\u00e1sicos/Madeira e Papel\",\"Utilidade P\\u00fabl/Energ El\\u00e9trica\",\"Telecomunica\\u00e7\\u00e3/Telecomunica\\u00e7\\u00e3o\",\"Tec.Informa\\u00e7\\u00e3o/Programas Servs\",\"Petr\\u00f3leo/G\\u00e1s e Biocombust\\u00edveis\",\"Mats B\\u00e1sicos/Sid Metalurgia\",\"Mats B\\u00e1sicos/Minera\\u00e7\\u00e3o\",\"Petr\\u00f3leo/G\\u00e1s e Biocombust\\u00edveis\",\"Consumo C\\u00edclico/Com\\u00e9rcio\",\"Telecomunica\\u00e7\\u00e3/Telecomunica\\u00e7\\u00e3o\",\"Bens Indls/M\\u00e1qs e Equips\",\"Diverso/Diversos\",\"Consumo N\\u00e3o-C\\u00edclico\",\"Consumo N\\u00e3o-C\\u00edclico\",\"Consumo C\\u00edclico\",\"Consumo N\\u00e3o-C\\u00edclico\",\"Sa\\u00fade\",\"Consumo C\\u00edclico\",\"Diverso\",\"Utilidade P\\u00fabl\",\"Financeiro\",\"Petr\\u00f3leo\",\"Financeiro\",\"Mats B\\u00e1sicos\",\"Bens Indls\",\"Mats B\\u00e1sicos\",\"Bens Indls\",\"Consumo N\\u00e3o-C\\u00edclico\",\"Financeiro\",\"Tec.Informa\\u00e7\\u00e3o\",\"Mats B\\u00e1sicos\",\"Sa\\u00fade\",\"Financeiro\",\"Mats B\\u00e1sicos\",\"Consumo C\\u00edclico\",\"Telecomunica\\u00e7\\u00e3\",\"Bens Indls\",\"Consumo C\\u00edclico\",\"Utilidade P\\u00fabl\",\"\",\"\",\"\",\"\",\"\",\"\",\"\",\"\",\"\",\"\",\"\"],\"values\":[3.4339999999999997,0.336,0.818,0.56,0.42100000000000004,3.61,2.28,1.198,4.7860000000000005,0.713,0.105,0.895,0.115,1.3880000000000001,0.20600000000000002,0.662,0.8029999999999999,0.752,0.342,0.09,0.695,0.13,0.763,0.237,0.252,0.486,0.301,1.272,0.759,0.177,0.221,0.248,0.149,0.491,0.622,0.41100000000000003,0.767,0.242,0.925,0.5579999999999999,1.169,0.10400000000000001,0.285,0.017,1.556,1.869,0.41,0.153,0.725,0.585,0.139,0.267,2.193,5.3260000000000005,2.287,0.083,1.006,0.235,0.392,1.419,0.308,0.941,0.385,0.177,0.278,1.13,0.177,5.218,6.567,0.301,0.862,0.23399999999999999,1.244,1.054,0.778,1.629,0.589,0.642,0.297,0.376,2.089,0.38299999999999995,0.528,0.82,0.8170000000000001,0.38,12.548,1.3090000000000002,0.451,1.067,2.622,0.359,3.5799999999999996,3.4339999999999997,4.462,1.038,1.829,0.585,2.617,6.3020000000000005,0.7590000000000001,16.045,18.976,3.343,0.767,13.21,2.622,1.13,1.3559999999999999,1.218,0.752,3.891,3.7569999999999997,3.105,0.336,1.595,2.4720000000000004,0.177,0.642,5.861,5.56,9.181999999999999,2.617,24.848,20.41,16.045,5.720000000000001,1.218,1.595,6.944],\"type\":\"sunburst\",\"textfont\":{\"color\":\"white\",\"size\":14}}],                        {\"template\":{\"data\":{\"bar\":[{\"error_x\":{\"color\":\"#2a3f5f\"},\"error_y\":{\"color\":\"#2a3f5f\"},\"marker\":{\"line\":{\"color\":\"#E5ECF6\",\"width\":0.5},\"pattern\":{\"fillmode\":\"overlay\",\"size\":10,\"solidity\":0.2}},\"type\":\"bar\"}],\"barpolar\":[{\"marker\":{\"line\":{\"color\":\"#E5ECF6\",\"width\":0.5},\"pattern\":{\"fillmode\":\"overlay\",\"size\":10,\"solidity\":0.2}},\"type\":\"barpolar\"}],\"carpet\":[{\"aaxis\":{\"endlinecolor\":\"#2a3f5f\",\"gridcolor\":\"white\",\"linecolor\":\"white\",\"minorgridcolor\":\"white\",\"startlinecolor\":\"#2a3f5f\"},\"baxis\":{\"endlinecolor\":\"#2a3f5f\",\"gridcolor\":\"white\",\"linecolor\":\"white\",\"minorgridcolor\":\"white\",\"startlinecolor\":\"#2a3f5f\"},\"type\":\"carpet\"}],\"choropleth\":[{\"colorbar\":{\"outlinewidth\":0,\"ticks\":\"\"},\"type\":\"choropleth\"}],\"contour\":[{\"colorbar\":{\"outlinewidth\":0,\"ticks\":\"\"},\"colorscale\":[[0.0,\"#0d0887\"],[0.1111111111111111,\"#46039f\"],[0.2222222222222222,\"#7201a8\"],[0.3333333333333333,\"#9c179e\"],[0.4444444444444444,\"#bd3786\"],[0.5555555555555556,\"#d8576b\"],[0.6666666666666666,\"#ed7953\"],[0.7777777777777778,\"#fb9f3a\"],[0.8888888888888888,\"#fdca26\"],[1.0,\"#f0f921\"]],\"type\":\"contour\"}],\"contourcarpet\":[{\"colorbar\":{\"outlinewidth\":0,\"ticks\":\"\"},\"type\":\"contourcarpet\"}],\"heatmap\":[{\"colorbar\":{\"outlinewidth\":0,\"ticks\":\"\"},\"colorscale\":[[0.0,\"#0d0887\"],[0.1111111111111111,\"#46039f\"],[0.2222222222222222,\"#7201a8\"],[0.3333333333333333,\"#9c179e\"],[0.4444444444444444,\"#bd3786\"],[0.5555555555555556,\"#d8576b\"],[0.6666666666666666,\"#ed7953\"],[0.7777777777777778,\"#fb9f3a\"],[0.8888888888888888,\"#fdca26\"],[1.0,\"#f0f921\"]],\"type\":\"heatmap\"}],\"heatmapgl\":[{\"colorbar\":{\"outlinewidth\":0,\"ticks\":\"\"},\"colorscale\":[[0.0,\"#0d0887\"],[0.1111111111111111,\"#46039f\"],[0.2222222222222222,\"#7201a8\"],[0.3333333333333333,\"#9c179e\"],[0.4444444444444444,\"#bd3786\"],[0.5555555555555556,\"#d8576b\"],[0.6666666666666666,\"#ed7953\"],[0.7777777777777778,\"#fb9f3a\"],[0.8888888888888888,\"#fdca26\"],[1.0,\"#f0f921\"]],\"type\":\"heatmapgl\"}],\"histogram\":[{\"marker\":{\"pattern\":{\"fillmode\":\"overlay\",\"size\":10,\"solidity\":0.2}},\"type\":\"histogram\"}],\"histogram2d\":[{\"colorbar\":{\"outlinewidth\":0,\"ticks\":\"\"},\"colorscale\":[[0.0,\"#0d0887\"],[0.1111111111111111,\"#46039f\"],[0.2222222222222222,\"#7201a8\"],[0.3333333333333333,\"#9c179e\"],[0.4444444444444444,\"#bd3786\"],[0.5555555555555556,\"#d8576b\"],[0.6666666666666666,\"#ed7953\"],[0.7777777777777778,\"#fb9f3a\"],[0.8888888888888888,\"#fdca26\"],[1.0,\"#f0f921\"]],\"type\":\"histogram2d\"}],\"histogram2dcontour\":[{\"colorbar\":{\"outlinewidth\":0,\"ticks\":\"\"},\"colorscale\":[[0.0,\"#0d0887\"],[0.1111111111111111,\"#46039f\"],[0.2222222222222222,\"#7201a8\"],[0.3333333333333333,\"#9c179e\"],[0.4444444444444444,\"#bd3786\"],[0.5555555555555556,\"#d8576b\"],[0.6666666666666666,\"#ed7953\"],[0.7777777777777778,\"#fb9f3a\"],[0.8888888888888888,\"#fdca26\"],[1.0,\"#f0f921\"]],\"type\":\"histogram2dcontour\"}],\"mesh3d\":[{\"colorbar\":{\"outlinewidth\":0,\"ticks\":\"\"},\"type\":\"mesh3d\"}],\"parcoords\":[{\"line\":{\"colorbar\":{\"outlinewidth\":0,\"ticks\":\"\"}},\"type\":\"parcoords\"}],\"pie\":[{\"automargin\":true,\"type\":\"pie\"}],\"scatter\":[{\"marker\":{\"colorbar\":{\"outlinewidth\":0,\"ticks\":\"\"}},\"type\":\"scatter\"}],\"scatter3d\":[{\"line\":{\"colorbar\":{\"outlinewidth\":0,\"ticks\":\"\"}},\"marker\":{\"colorbar\":{\"outlinewidth\":0,\"ticks\":\"\"}},\"type\":\"scatter3d\"}],\"scattercarpet\":[{\"marker\":{\"colorbar\":{\"outlinewidth\":0,\"ticks\":\"\"}},\"type\":\"scattercarpet\"}],\"scattergeo\":[{\"marker\":{\"colorbar\":{\"outlinewidth\":0,\"ticks\":\"\"}},\"type\":\"scattergeo\"}],\"scattergl\":[{\"marker\":{\"colorbar\":{\"outlinewidth\":0,\"ticks\":\"\"}},\"type\":\"scattergl\"}],\"scattermapbox\":[{\"marker\":{\"colorbar\":{\"outlinewidth\":0,\"ticks\":\"\"}},\"type\":\"scattermapbox\"}],\"scatterpolar\":[{\"marker\":{\"colorbar\":{\"outlinewidth\":0,\"ticks\":\"\"}},\"type\":\"scatterpolar\"}],\"scatterpolargl\":[{\"marker\":{\"colorbar\":{\"outlinewidth\":0,\"ticks\":\"\"}},\"type\":\"scatterpolargl\"}],\"scatterternary\":[{\"marker\":{\"colorbar\":{\"outlinewidth\":0,\"ticks\":\"\"}},\"type\":\"scatterternary\"}],\"surface\":[{\"colorbar\":{\"outlinewidth\":0,\"ticks\":\"\"},\"colorscale\":[[0.0,\"#0d0887\"],[0.1111111111111111,\"#46039f\"],[0.2222222222222222,\"#7201a8\"],[0.3333333333333333,\"#9c179e\"],[0.4444444444444444,\"#bd3786\"],[0.5555555555555556,\"#d8576b\"],[0.6666666666666666,\"#ed7953\"],[0.7777777777777778,\"#fb9f3a\"],[0.8888888888888888,\"#fdca26\"],[1.0,\"#f0f921\"]],\"type\":\"surface\"}],\"table\":[{\"cells\":{\"fill\":{\"color\":\"#EBF0F8\"},\"line\":{\"color\":\"white\"}},\"header\":{\"fill\":{\"color\":\"#C8D4E3\"},\"line\":{\"color\":\"white\"}},\"type\":\"table\"}]},\"layout\":{\"annotationdefaults\":{\"arrowcolor\":\"#2a3f5f\",\"arrowhead\":0,\"arrowwidth\":1},\"autotypenumbers\":\"strict\",\"coloraxis\":{\"colorbar\":{\"outlinewidth\":0,\"ticks\":\"\"}},\"colorscale\":{\"diverging\":[[0,\"#8e0152\"],[0.1,\"#c51b7d\"],[0.2,\"#de77ae\"],[0.3,\"#f1b6da\"],[0.4,\"#fde0ef\"],[0.5,\"#f7f7f7\"],[0.6,\"#e6f5d0\"],[0.7,\"#b8e186\"],[0.8,\"#7fbc41\"],[0.9,\"#4d9221\"],[1,\"#276419\"]],\"sequential\":[[0.0,\"#0d0887\"],[0.1111111111111111,\"#46039f\"],[0.2222222222222222,\"#7201a8\"],[0.3333333333333333,\"#9c179e\"],[0.4444444444444444,\"#bd3786\"],[0.5555555555555556,\"#d8576b\"],[0.6666666666666666,\"#ed7953\"],[0.7777777777777778,\"#fb9f3a\"],[0.8888888888888888,\"#fdca26\"],[1.0,\"#f0f921\"]],\"sequentialminus\":[[0.0,\"#0d0887\"],[0.1111111111111111,\"#46039f\"],[0.2222222222222222,\"#7201a8\"],[0.3333333333333333,\"#9c179e\"],[0.4444444444444444,\"#bd3786\"],[0.5555555555555556,\"#d8576b\"],[0.6666666666666666,\"#ed7953\"],[0.7777777777777778,\"#fb9f3a\"],[0.8888888888888888,\"#fdca26\"],[1.0,\"#f0f921\"]]},\"colorway\":[\"#636efa\",\"#EF553B\",\"#00cc96\",\"#ab63fa\",\"#FFA15A\",\"#19d3f3\",\"#FF6692\",\"#B6E880\",\"#FF97FF\",\"#FECB52\"],\"font\":{\"color\":\"#2a3f5f\"},\"geo\":{\"bgcolor\":\"white\",\"lakecolor\":\"white\",\"landcolor\":\"#E5ECF6\",\"showlakes\":true,\"showland\":true,\"subunitcolor\":\"white\"},\"hoverlabel\":{\"align\":\"left\"},\"hovermode\":\"closest\",\"mapbox\":{\"style\":\"light\"},\"paper_bgcolor\":\"white\",\"plot_bgcolor\":\"#E5ECF6\",\"polar\":{\"angularaxis\":{\"gridcolor\":\"white\",\"linecolor\":\"white\",\"ticks\":\"\"},\"bgcolor\":\"#E5ECF6\",\"radialaxis\":{\"gridcolor\":\"white\",\"linecolor\":\"white\",\"ticks\":\"\"}},\"scene\":{\"xaxis\":{\"backgroundcolor\":\"#E5ECF6\",\"gridcolor\":\"white\",\"gridwidth\":2,\"linecolor\":\"white\",\"showbackground\":true,\"ticks\":\"\",\"zerolinecolor\":\"white\"},\"yaxis\":{\"backgroundcolor\":\"#E5ECF6\",\"gridcolor\":\"white\",\"gridwidth\":2,\"linecolor\":\"white\",\"showbackground\":true,\"ticks\":\"\",\"zerolinecolor\":\"white\"},\"zaxis\":{\"backgroundcolor\":\"#E5ECF6\",\"gridcolor\":\"white\",\"gridwidth\":2,\"linecolor\":\"white\",\"showbackground\":true,\"ticks\":\"\",\"zerolinecolor\":\"white\"}},\"shapedefaults\":{\"line\":{\"color\":\"#2a3f5f\"}},\"ternary\":{\"aaxis\":{\"gridcolor\":\"white\",\"linecolor\":\"white\",\"ticks\":\"\"},\"baxis\":{\"gridcolor\":\"white\",\"linecolor\":\"white\",\"ticks\":\"\"},\"bgcolor\":\"#E5ECF6\",\"caxis\":{\"gridcolor\":\"white\",\"linecolor\":\"white\",\"ticks\":\"\"}},\"title\":{\"x\":0.05},\"xaxis\":{\"automargin\":true,\"gridcolor\":\"white\",\"linecolor\":\"white\",\"ticks\":\"\",\"title\":{\"standoff\":15},\"zerolinecolor\":\"white\",\"zerolinewidth\":2},\"yaxis\":{\"automargin\":true,\"gridcolor\":\"white\",\"linecolor\":\"white\",\"ticks\":\"\",\"title\":{\"standoff\":15},\"zerolinecolor\":\"white\",\"zerolinewidth\":2}}},\"legend\":{\"tracegroupgap\":0},\"margin\":{\"t\":60},\"height\":900},                        {\"responsive\": true}                    ).then(function(){\n",
              "                            \n",
              "var gd = document.getElementById('4edc3d8f-2b42-400a-9afd-de0901e8a5a7');\n",
              "var x = new MutationObserver(function (mutations, observer) {{\n",
              "        var display = window.getComputedStyle(gd).display;\n",
              "        if (!display || display === 'none') {{\n",
              "            console.log([gd, 'removed!']);\n",
              "            Plotly.purge(gd);\n",
              "            observer.disconnect();\n",
              "        }}\n",
              "}});\n",
              "\n",
              "// Listen for the removal of the full notebook cells\n",
              "var notebookContainer = gd.closest('#notebook-container');\n",
              "if (notebookContainer) {{\n",
              "    x.observe(notebookContainer, {childList: true});\n",
              "}}\n",
              "\n",
              "// Listen for the clearing of the current output cell\n",
              "var outputEl = gd.closest('.output');\n",
              "if (outputEl) {{\n",
              "    x.observe(outputEl, {childList: true});\n",
              "}}\n",
              "\n",
              "                        })                };                            </script>        </div>\n",
              "</body>\n",
              "</html>"
            ]
          },
          "metadata": {}
        }
      ]
    },
    {
      "cell_type": "code",
      "source": [
        "#grafico\n",
        "fig = px.treemap(data_frame=ibov,path=['Setor','SubSetor','Código'], values='Part. (%)', height=900)\n",
        "\n",
        "fig.update_traces(textfont_color='white',\n",
        "                  textfont_size=14,\n",
        "                  hovertemplate='<b>%{label}:</b> %{value:f}%')\n",
        "\n",
        "fig.show()"
      ],
      "metadata": {
        "id": "Tl3q7CJBgXif",
        "outputId": "bc27bb6d-c2fc-46b7-9b53-d807ddc8053a",
        "colab": {
          "base_uri": "https://localhost:8080/",
          "height": 917
        }
      },
      "execution_count": 37,
      "outputs": [
        {
          "output_type": "display_data",
          "data": {
            "text/html": [
              "<html>\n",
              "<head><meta charset=\"utf-8\" /></head>\n",
              "<body>\n",
              "    <div>            <script src=\"https://cdnjs.cloudflare.com/ajax/libs/mathjax/2.7.5/MathJax.js?config=TeX-AMS-MML_SVG\"></script><script type=\"text/javascript\">if (window.MathJax) {MathJax.Hub.Config({SVG: {font: \"STIX-Web\"}});}</script>                <script type=\"text/javascript\">window.PlotlyConfig = {MathJaxConfig: 'local'};</script>\n",
              "        <script src=\"https://cdn.plot.ly/plotly-2.6.3.min.js\"></script>                <div id=\"4ef201ab-5b8a-4f72-9150-8b5fdf13abef\" class=\"plotly-graph-div\" style=\"height:900px; width:100%;\"></div>            <script type=\"text/javascript\">                                    window.PLOTLYENV=window.PLOTLYENV || {};                                    if (document.getElementById(\"4ef201ab-5b8a-4f72-9150-8b5fdf13abef\")) {                    Plotly.newPlot(                        \"4ef201ab-5b8a-4f72-9150-8b5fdf13abef\",                        [{\"branchvalues\":\"total\",\"domain\":{\"x\":[0.0,1.0],\"y\":[0.0,1.0]},\"hovertemplate\":\"<b>%{label}:</b> %{value:f}%\",\"ids\":[\"Consumo N\\u00e3o-C\\u00edclico/Bebidas/ABEV3\",\"Consumo C\\u00edclico/Tecid Vest Cal\\u00e7/ALPA4\",\"Consumo C\\u00edclico/Com\\u00e9rcio/AMER3\",\"Consumo N\\u00e3o-C\\u00edclico/Com\\u00e9rcio Distr./ASAI3\",\"Bens Indls/Transporte/AZUL4\",\"Financeiro/Servi\\u00e7os Financeiros Diversos/B3SA3\",\"Financeiro/Interms Financs/BBAS3\",\"Financeiro/Interms Financs/BBDC3\",\"Financeiro/Interms Financs/BBDC4\",\"Financeiro/Previd  Seguros/BBSE3\",\"Consumo N\\u00e3o-C\\u00edclico/Alimentos Processados/BEEF3\",\"Financeiro/Interms Financs/BIDI11\",\"Financeiro/Interms Financs/BIDI4\",\"Financeiro/Interms Financs/BPAC11\",\"Financeiro/Interms Financs/BPAN4\",\"Mats B\\u00e1sicos/Minera\\u00e7\\u00e3o/BRAP4\",\"Consumo N\\u00e3o-C\\u00edclico/Alimentos Processados/BRFS3\",\"Mats B\\u00e1sicos/Qu\\u00edmicos/BRKM5\",\"Financeiro/Explor Im\\u00f3veis/BRML3\",\"Tec.Informa\\u00e7\\u00e3o/Programas Servs/CASH3\",\"Bens Indls/Transporte/CCRO3\",\"Financeiro/Servi\\u00e7os Financeiros Diversos/CIEL3\",\"Utilidade P\\u00fabl/Energ El\\u00e9trica/CMIG4\",\"Diverso/Diversos/COGN3\",\"Utilidade P\\u00fabl/Energ El\\u00e9trica/CPFE3\",\"Utilidade P\\u00fabl/Energ El\\u00e9trica/CPLE6\",\"Consumo N\\u00e3o-C\\u00edclico/Com\\u00e9rcio Distr./CRFB3\",\"Petr\\u00f3leo/G\\u00e1s e Biocombust\\u00edveis/CSAN3\",\"Mats B\\u00e1sicos/Sid Metalurgia/CSNA3\",\"Consumo C\\u00edclico/Viagens e Lazer/CVCB3\",\"Consumo C\\u00edclico/Constr Civil/CYRE3\",\"Mats B\\u00e1sicos/Madeira e Papel/DXCO3\",\"Bens Indls/Transporte/ECOR3\",\"Utilidade P\\u00fabl/Energ El\\u00e9trica/EGIE3\",\"Utilidade P\\u00fabl/Energ El\\u00e9trica/ELET3\",\"Utilidade P\\u00fabl/Energ El\\u00e9trica/ELET6\",\"Bens Indls/Mat Transporte/EMBR3\",\"Utilidade P\\u00fabl/Energ El\\u00e9trica/ENBR3\",\"Utilidade P\\u00fabl/Energ El\\u00e9trica/ENEV3\",\"Utilidade P\\u00fabl/Energ El\\u00e9trica/ENGI11\",\"Utilidade P\\u00fabl/Energ El\\u00e9trica/EQTL3\",\"Consumo C\\u00edclico/Constr Civil/EZTC3\",\"Sa\\u00fade/SM Hosp An.Diag/FLRY3\",\"Financeiro/Servi\\u00e7os Financeiros Diversos/GETT11\",\"Mats B\\u00e1sicos/Sid Metalurgia/GGBR4\",\"Sa\\u00fade/SM Hosp An.Diag/GNDI3\",\"Mats B\\u00e1sicos/Sid Metalurgia/GOAU4\",\"Bens Indls/Transporte/GOLL4\",\"Sa\\u00fade/SM Hosp An.Diag/HAPV3\",\"Sa\\u00fade/Com\\u00e9rcio Distr./HYPE3\",\"Financeiro/Explor Im\\u00f3veis/IGTI11\",\"Financeiro/Previd  Seguros/IRBR3\",\"Financeiro/Interms Financs/ITSA4\",\"Financeiro/Interms Financs/ITUB4\",\"Consumo N\\u00e3o-C\\u00edclico/Alimentos Processados/JBSS3\",\"Consumo C\\u00edclico/Constr Civil/JHSF3\",\"Mats B\\u00e1sicos/Madeira e Papel/KLBN11\",\"Consumo C\\u00edclico/Com\\u00e9rcio/LAME4\",\"Diverso/Diversos/LCAM3\",\"Consumo C\\u00edclico/Com\\u00e9rcio/LREN3\",\"Tec.Informa\\u00e7\\u00e3o/Programas Servs/LWSA3\",\"Consumo C\\u00edclico/Com\\u00e9rcio/MGLU3\",\"Consumo N\\u00e3o-C\\u00edclico/Alimentos Processados/MRFG3\",\"Consumo C\\u00edclico/Constr Civil/MRVE3\",\"Financeiro/Explor Im\\u00f3veis/MULT3\",\"Consumo N\\u00e3o-C\\u00edclico/Pr Pessoal Limp/NTCO3\",\"Consumo N\\u00e3o-C\\u00edclico/Com\\u00e9rcio Distr./PCAR3\",\"Petr\\u00f3leo/G\\u00e1s e Biocombust\\u00edveis/PETR3\",\"Petr\\u00f3leo/G\\u00e1s e Biocombust\\u00edveis/PETR4\",\"Consumo C\\u00edclico/Com\\u00e9rcio/PETZ3\",\"Petr\\u00f3leo/G\\u00e1s e Biocombust\\u00edveis/PRIO3\",\"Sa\\u00fade/SM Hosp An.Diag/QUAL3\",\"Sa\\u00fade/Com\\u00e9rcio Distr./RADL3\",\"Bens Indls/Transporte/RAIL3\",\"Sa\\u00fade/SM Hosp An.Diag/RDOR3\",\"Diverso/Diversos/RENT3\",\"Financeiro/Interms Financs/SANB11\",\"Utilidade P\\u00fabl/\\u00c1gua Saneamento/SBSP3\",\"Consumo C\\u00edclico/Com\\u00e9rcio/SOMA3\",\"Financeiro/Previd  Seguros/SULA11\",\"Mats B\\u00e1sicos/Madeira e Papel/SUZB3\",\"Utilidade P\\u00fabl/Energ El\\u00e9trica/TAEE11\",\"Telecomunica\\u00e7\\u00e3/Telecomunica\\u00e7\\u00e3o/TIMS3\",\"Tec.Informa\\u00e7\\u00e3o/Programas Servs/TOTS3\",\"Petr\\u00f3leo/G\\u00e1s e Biocombust\\u00edveis/UGPA3\",\"Mats B\\u00e1sicos/Sid Metalurgia/USIM5\",\"Mats B\\u00e1sicos/Minera\\u00e7\\u00e3o/VALE3\",\"Petr\\u00f3leo/G\\u00e1s e Biocombust\\u00edveis/VBBR3\",\"Consumo C\\u00edclico/Com\\u00e9rcio/VIIA3\",\"Telecomunica\\u00e7\\u00e3/Telecomunica\\u00e7\\u00e3o/VIVT3\",\"Bens Indls/M\\u00e1qs e Equips/WEGE3\",\"Diverso/Diversos/YDUQ3\",\"Consumo N\\u00e3o-C\\u00edclico/Alimentos Processados\",\"Consumo N\\u00e3o-C\\u00edclico/Bebidas\",\"Consumo C\\u00edclico/Com\\u00e9rcio\",\"Consumo N\\u00e3o-C\\u00edclico/Com\\u00e9rcio Distr.\",\"Sa\\u00fade/Com\\u00e9rcio Distr.\",\"Consumo C\\u00edclico/Constr Civil\",\"Diverso/Diversos\",\"Utilidade P\\u00fabl/Energ El\\u00e9trica\",\"Financeiro/Explor Im\\u00f3veis\",\"Petr\\u00f3leo/G\\u00e1s e Biocombust\\u00edveis\",\"Financeiro/Interms Financs\",\"Mats B\\u00e1sicos/Madeira e Papel\",\"Bens Indls/Mat Transporte\",\"Mats B\\u00e1sicos/Minera\\u00e7\\u00e3o\",\"Bens Indls/M\\u00e1qs e Equips\",\"Consumo N\\u00e3o-C\\u00edclico/Pr Pessoal Limp\",\"Financeiro/Previd  Seguros\",\"Tec.Informa\\u00e7\\u00e3o/Programas Servs\",\"Mats B\\u00e1sicos/Qu\\u00edmicos\",\"Sa\\u00fade/SM Hosp An.Diag\",\"Financeiro/Servi\\u00e7os Financeiros Diversos\",\"Mats B\\u00e1sicos/Sid Metalurgia\",\"Consumo C\\u00edclico/Tecid Vest Cal\\u00e7\",\"Telecomunica\\u00e7\\u00e3/Telecomunica\\u00e7\\u00e3o\",\"Bens Indls/Transporte\",\"Consumo C\\u00edclico/Viagens e Lazer\",\"Utilidade P\\u00fabl/\\u00c1gua Saneamento\",\"Bens Indls\",\"Consumo C\\u00edclico\",\"Consumo N\\u00e3o-C\\u00edclico\",\"Diverso\",\"Financeiro\",\"Mats B\\u00e1sicos\",\"Petr\\u00f3leo\",\"Sa\\u00fade\",\"Tec.Informa\\u00e7\\u00e3o\",\"Telecomunica\\u00e7\\u00e3\",\"Utilidade P\\u00fabl\"],\"labels\":[\"ABEV3\",\"ALPA4\",\"AMER3\",\"ASAI3\",\"AZUL4\",\"B3SA3\",\"BBAS3\",\"BBDC3\",\"BBDC4\",\"BBSE3\",\"BEEF3\",\"BIDI11\",\"BIDI4\",\"BPAC11\",\"BPAN4\",\"BRAP4\",\"BRFS3\",\"BRKM5\",\"BRML3\",\"CASH3\",\"CCRO3\",\"CIEL3\",\"CMIG4\",\"COGN3\",\"CPFE3\",\"CPLE6\",\"CRFB3\",\"CSAN3\",\"CSNA3\",\"CVCB3\",\"CYRE3\",\"DXCO3\",\"ECOR3\",\"EGIE3\",\"ELET3\",\"ELET6\",\"EMBR3\",\"ENBR3\",\"ENEV3\",\"ENGI11\",\"EQTL3\",\"EZTC3\",\"FLRY3\",\"GETT11\",\"GGBR4\",\"GNDI3\",\"GOAU4\",\"GOLL4\",\"HAPV3\",\"HYPE3\",\"IGTI11\",\"IRBR3\",\"ITSA4\",\"ITUB4\",\"JBSS3\",\"JHSF3\",\"KLBN11\",\"LAME4\",\"LCAM3\",\"LREN3\",\"LWSA3\",\"MGLU3\",\"MRFG3\",\"MRVE3\",\"MULT3\",\"NTCO3\",\"PCAR3\",\"PETR3\",\"PETR4\",\"PETZ3\",\"PRIO3\",\"QUAL3\",\"RADL3\",\"RAIL3\",\"RDOR3\",\"RENT3\",\"SANB11\",\"SBSP3\",\"SOMA3\",\"SULA11\",\"SUZB3\",\"TAEE11\",\"TIMS3\",\"TOTS3\",\"UGPA3\",\"USIM5\",\"VALE3\",\"VBBR3\",\"VIIA3\",\"VIVT3\",\"WEGE3\",\"YDUQ3\",\"Alimentos Processados\",\"Bebidas\",\"Com\\u00e9rcio\",\"Com\\u00e9rcio Distr.\",\"Com\\u00e9rcio Distr.\",\"Constr Civil\",\"Diversos\",\"Energ El\\u00e9trica\",\"Explor Im\\u00f3veis\",\"G\\u00e1s e Biocombust\\u00edveis\",\"Interms Financs\",\"Madeira e Papel\",\"Mat Transporte\",\"Minera\\u00e7\\u00e3o\",\"M\\u00e1qs e Equips\",\"Pr Pessoal Limp\",\"Previd  Seguros\",\"Programas Servs\",\"Qu\\u00edmicos\",\"SM Hosp An.Diag\",\"Servi\\u00e7os Financeiros Diversos\",\"Sid Metalurgia\",\"Tecid Vest Cal\\u00e7\",\"Telecomunica\\u00e7\\u00e3o\",\"Transporte\",\"Viagens e Lazer\",\"\\u00c1gua Saneamento\",\"Bens Indls\",\"Consumo C\\u00edclico\",\"Consumo N\\u00e3o-C\\u00edclico\",\"Diverso\",\"Financeiro\",\"Mats B\\u00e1sicos\",\"Petr\\u00f3leo\",\"Sa\\u00fade\",\"Tec.Informa\\u00e7\\u00e3o\",\"Telecomunica\\u00e7\\u00e3\",\"Utilidade P\\u00fabl\"],\"name\":\"\",\"parents\":[\"Consumo N\\u00e3o-C\\u00edclico/Bebidas\",\"Consumo C\\u00edclico/Tecid Vest Cal\\u00e7\",\"Consumo C\\u00edclico/Com\\u00e9rcio\",\"Consumo N\\u00e3o-C\\u00edclico/Com\\u00e9rcio Distr.\",\"Bens Indls/Transporte\",\"Financeiro/Servi\\u00e7os Financeiros Diversos\",\"Financeiro/Interms Financs\",\"Financeiro/Interms Financs\",\"Financeiro/Interms Financs\",\"Financeiro/Previd  Seguros\",\"Consumo N\\u00e3o-C\\u00edclico/Alimentos Processados\",\"Financeiro/Interms Financs\",\"Financeiro/Interms Financs\",\"Financeiro/Interms Financs\",\"Financeiro/Interms Financs\",\"Mats B\\u00e1sicos/Minera\\u00e7\\u00e3o\",\"Consumo N\\u00e3o-C\\u00edclico/Alimentos Processados\",\"Mats B\\u00e1sicos/Qu\\u00edmicos\",\"Financeiro/Explor Im\\u00f3veis\",\"Tec.Informa\\u00e7\\u00e3o/Programas Servs\",\"Bens Indls/Transporte\",\"Financeiro/Servi\\u00e7os Financeiros Diversos\",\"Utilidade P\\u00fabl/Energ El\\u00e9trica\",\"Diverso/Diversos\",\"Utilidade P\\u00fabl/Energ El\\u00e9trica\",\"Utilidade P\\u00fabl/Energ El\\u00e9trica\",\"Consumo N\\u00e3o-C\\u00edclico/Com\\u00e9rcio Distr.\",\"Petr\\u00f3leo/G\\u00e1s e Biocombust\\u00edveis\",\"Mats B\\u00e1sicos/Sid Metalurgia\",\"Consumo C\\u00edclico/Viagens e Lazer\",\"Consumo C\\u00edclico/Constr Civil\",\"Mats B\\u00e1sicos/Madeira e Papel\",\"Bens Indls/Transporte\",\"Utilidade P\\u00fabl/Energ El\\u00e9trica\",\"Utilidade P\\u00fabl/Energ El\\u00e9trica\",\"Utilidade P\\u00fabl/Energ El\\u00e9trica\",\"Bens Indls/Mat Transporte\",\"Utilidade P\\u00fabl/Energ El\\u00e9trica\",\"Utilidade P\\u00fabl/Energ El\\u00e9trica\",\"Utilidade P\\u00fabl/Energ El\\u00e9trica\",\"Utilidade P\\u00fabl/Energ El\\u00e9trica\",\"Consumo C\\u00edclico/Constr Civil\",\"Sa\\u00fade/SM Hosp An.Diag\",\"Financeiro/Servi\\u00e7os Financeiros Diversos\",\"Mats B\\u00e1sicos/Sid Metalurgia\",\"Sa\\u00fade/SM Hosp An.Diag\",\"Mats B\\u00e1sicos/Sid Metalurgia\",\"Bens Indls/Transporte\",\"Sa\\u00fade/SM Hosp An.Diag\",\"Sa\\u00fade/Com\\u00e9rcio Distr.\",\"Financeiro/Explor Im\\u00f3veis\",\"Financeiro/Previd  Seguros\",\"Financeiro/Interms Financs\",\"Financeiro/Interms Financs\",\"Consumo N\\u00e3o-C\\u00edclico/Alimentos Processados\",\"Consumo C\\u00edclico/Constr Civil\",\"Mats B\\u00e1sicos/Madeira e Papel\",\"Consumo C\\u00edclico/Com\\u00e9rcio\",\"Diverso/Diversos\",\"Consumo C\\u00edclico/Com\\u00e9rcio\",\"Tec.Informa\\u00e7\\u00e3o/Programas Servs\",\"Consumo C\\u00edclico/Com\\u00e9rcio\",\"Consumo N\\u00e3o-C\\u00edclico/Alimentos Processados\",\"Consumo C\\u00edclico/Constr Civil\",\"Financeiro/Explor Im\\u00f3veis\",\"Consumo N\\u00e3o-C\\u00edclico/Pr Pessoal Limp\",\"Consumo N\\u00e3o-C\\u00edclico/Com\\u00e9rcio Distr.\",\"Petr\\u00f3leo/G\\u00e1s e Biocombust\\u00edveis\",\"Petr\\u00f3leo/G\\u00e1s e Biocombust\\u00edveis\",\"Consumo C\\u00edclico/Com\\u00e9rcio\",\"Petr\\u00f3leo/G\\u00e1s e Biocombust\\u00edveis\",\"Sa\\u00fade/SM Hosp An.Diag\",\"Sa\\u00fade/Com\\u00e9rcio Distr.\",\"Bens Indls/Transporte\",\"Sa\\u00fade/SM Hosp An.Diag\",\"Diverso/Diversos\",\"Financeiro/Interms Financs\",\"Utilidade P\\u00fabl/\\u00c1gua Saneamento\",\"Consumo C\\u00edclico/Com\\u00e9rcio\",\"Financeiro/Previd  Seguros\",\"Mats B\\u00e1sicos/Madeira e Papel\",\"Utilidade P\\u00fabl/Energ El\\u00e9trica\",\"Telecomunica\\u00e7\\u00e3/Telecomunica\\u00e7\\u00e3o\",\"Tec.Informa\\u00e7\\u00e3o/Programas Servs\",\"Petr\\u00f3leo/G\\u00e1s e Biocombust\\u00edveis\",\"Mats B\\u00e1sicos/Sid Metalurgia\",\"Mats B\\u00e1sicos/Minera\\u00e7\\u00e3o\",\"Petr\\u00f3leo/G\\u00e1s e Biocombust\\u00edveis\",\"Consumo C\\u00edclico/Com\\u00e9rcio\",\"Telecomunica\\u00e7\\u00e3/Telecomunica\\u00e7\\u00e3o\",\"Bens Indls/M\\u00e1qs e Equips\",\"Diverso/Diversos\",\"Consumo N\\u00e3o-C\\u00edclico\",\"Consumo N\\u00e3o-C\\u00edclico\",\"Consumo C\\u00edclico\",\"Consumo N\\u00e3o-C\\u00edclico\",\"Sa\\u00fade\",\"Consumo C\\u00edclico\",\"Diverso\",\"Utilidade P\\u00fabl\",\"Financeiro\",\"Petr\\u00f3leo\",\"Financeiro\",\"Mats B\\u00e1sicos\",\"Bens Indls\",\"Mats B\\u00e1sicos\",\"Bens Indls\",\"Consumo N\\u00e3o-C\\u00edclico\",\"Financeiro\",\"Tec.Informa\\u00e7\\u00e3o\",\"Mats B\\u00e1sicos\",\"Sa\\u00fade\",\"Financeiro\",\"Mats B\\u00e1sicos\",\"Consumo C\\u00edclico\",\"Telecomunica\\u00e7\\u00e3\",\"Bens Indls\",\"Consumo C\\u00edclico\",\"Utilidade P\\u00fabl\",\"\",\"\",\"\",\"\",\"\",\"\",\"\",\"\",\"\",\"\",\"\"],\"values\":[3.4339999999999997,0.336,0.818,0.56,0.42100000000000004,3.61,2.28,1.198,4.7860000000000005,0.713,0.105,0.895,0.115,1.3880000000000001,0.20600000000000002,0.662,0.8029999999999999,0.752,0.342,0.09,0.695,0.13,0.763,0.237,0.252,0.486,0.301,1.272,0.759,0.177,0.221,0.248,0.149,0.491,0.622,0.41100000000000003,0.767,0.242,0.925,0.5579999999999999,1.169,0.10400000000000001,0.285,0.017,1.556,1.869,0.41,0.153,0.725,0.585,0.139,0.267,2.193,5.3260000000000005,2.287,0.083,1.006,0.235,0.392,1.419,0.308,0.941,0.385,0.177,0.278,1.13,0.177,5.218,6.567,0.301,0.862,0.23399999999999999,1.244,1.054,0.778,1.629,0.589,0.642,0.297,0.376,2.089,0.38299999999999995,0.528,0.82,0.8170000000000001,0.38,12.548,1.3090000000000002,0.451,1.067,2.622,0.359,3.5799999999999996,3.4339999999999997,4.462,1.038,1.829,0.585,2.617,6.3020000000000005,0.7590000000000001,16.045,18.976,3.343,0.767,13.21,2.622,1.13,1.3559999999999999,1.218,0.752,3.891,3.7569999999999997,3.105,0.336,1.595,2.4720000000000004,0.177,0.642,5.861,5.56,9.181999999999999,2.617,24.848,20.41,16.045,5.720000000000001,1.218,1.595,6.944],\"type\":\"treemap\",\"textfont\":{\"color\":\"white\",\"size\":14}}],                        {\"template\":{\"data\":{\"bar\":[{\"error_x\":{\"color\":\"#2a3f5f\"},\"error_y\":{\"color\":\"#2a3f5f\"},\"marker\":{\"line\":{\"color\":\"#E5ECF6\",\"width\":0.5},\"pattern\":{\"fillmode\":\"overlay\",\"size\":10,\"solidity\":0.2}},\"type\":\"bar\"}],\"barpolar\":[{\"marker\":{\"line\":{\"color\":\"#E5ECF6\",\"width\":0.5},\"pattern\":{\"fillmode\":\"overlay\",\"size\":10,\"solidity\":0.2}},\"type\":\"barpolar\"}],\"carpet\":[{\"aaxis\":{\"endlinecolor\":\"#2a3f5f\",\"gridcolor\":\"white\",\"linecolor\":\"white\",\"minorgridcolor\":\"white\",\"startlinecolor\":\"#2a3f5f\"},\"baxis\":{\"endlinecolor\":\"#2a3f5f\",\"gridcolor\":\"white\",\"linecolor\":\"white\",\"minorgridcolor\":\"white\",\"startlinecolor\":\"#2a3f5f\"},\"type\":\"carpet\"}],\"choropleth\":[{\"colorbar\":{\"outlinewidth\":0,\"ticks\":\"\"},\"type\":\"choropleth\"}],\"contour\":[{\"colorbar\":{\"outlinewidth\":0,\"ticks\":\"\"},\"colorscale\":[[0.0,\"#0d0887\"],[0.1111111111111111,\"#46039f\"],[0.2222222222222222,\"#7201a8\"],[0.3333333333333333,\"#9c179e\"],[0.4444444444444444,\"#bd3786\"],[0.5555555555555556,\"#d8576b\"],[0.6666666666666666,\"#ed7953\"],[0.7777777777777778,\"#fb9f3a\"],[0.8888888888888888,\"#fdca26\"],[1.0,\"#f0f921\"]],\"type\":\"contour\"}],\"contourcarpet\":[{\"colorbar\":{\"outlinewidth\":0,\"ticks\":\"\"},\"type\":\"contourcarpet\"}],\"heatmap\":[{\"colorbar\":{\"outlinewidth\":0,\"ticks\":\"\"},\"colorscale\":[[0.0,\"#0d0887\"],[0.1111111111111111,\"#46039f\"],[0.2222222222222222,\"#7201a8\"],[0.3333333333333333,\"#9c179e\"],[0.4444444444444444,\"#bd3786\"],[0.5555555555555556,\"#d8576b\"],[0.6666666666666666,\"#ed7953\"],[0.7777777777777778,\"#fb9f3a\"],[0.8888888888888888,\"#fdca26\"],[1.0,\"#f0f921\"]],\"type\":\"heatmap\"}],\"heatmapgl\":[{\"colorbar\":{\"outlinewidth\":0,\"ticks\":\"\"},\"colorscale\":[[0.0,\"#0d0887\"],[0.1111111111111111,\"#46039f\"],[0.2222222222222222,\"#7201a8\"],[0.3333333333333333,\"#9c179e\"],[0.4444444444444444,\"#bd3786\"],[0.5555555555555556,\"#d8576b\"],[0.6666666666666666,\"#ed7953\"],[0.7777777777777778,\"#fb9f3a\"],[0.8888888888888888,\"#fdca26\"],[1.0,\"#f0f921\"]],\"type\":\"heatmapgl\"}],\"histogram\":[{\"marker\":{\"pattern\":{\"fillmode\":\"overlay\",\"size\":10,\"solidity\":0.2}},\"type\":\"histogram\"}],\"histogram2d\":[{\"colorbar\":{\"outlinewidth\":0,\"ticks\":\"\"},\"colorscale\":[[0.0,\"#0d0887\"],[0.1111111111111111,\"#46039f\"],[0.2222222222222222,\"#7201a8\"],[0.3333333333333333,\"#9c179e\"],[0.4444444444444444,\"#bd3786\"],[0.5555555555555556,\"#d8576b\"],[0.6666666666666666,\"#ed7953\"],[0.7777777777777778,\"#fb9f3a\"],[0.8888888888888888,\"#fdca26\"],[1.0,\"#f0f921\"]],\"type\":\"histogram2d\"}],\"histogram2dcontour\":[{\"colorbar\":{\"outlinewidth\":0,\"ticks\":\"\"},\"colorscale\":[[0.0,\"#0d0887\"],[0.1111111111111111,\"#46039f\"],[0.2222222222222222,\"#7201a8\"],[0.3333333333333333,\"#9c179e\"],[0.4444444444444444,\"#bd3786\"],[0.5555555555555556,\"#d8576b\"],[0.6666666666666666,\"#ed7953\"],[0.7777777777777778,\"#fb9f3a\"],[0.8888888888888888,\"#fdca26\"],[1.0,\"#f0f921\"]],\"type\":\"histogram2dcontour\"}],\"mesh3d\":[{\"colorbar\":{\"outlinewidth\":0,\"ticks\":\"\"},\"type\":\"mesh3d\"}],\"parcoords\":[{\"line\":{\"colorbar\":{\"outlinewidth\":0,\"ticks\":\"\"}},\"type\":\"parcoords\"}],\"pie\":[{\"automargin\":true,\"type\":\"pie\"}],\"scatter\":[{\"marker\":{\"colorbar\":{\"outlinewidth\":0,\"ticks\":\"\"}},\"type\":\"scatter\"}],\"scatter3d\":[{\"line\":{\"colorbar\":{\"outlinewidth\":0,\"ticks\":\"\"}},\"marker\":{\"colorbar\":{\"outlinewidth\":0,\"ticks\":\"\"}},\"type\":\"scatter3d\"}],\"scattercarpet\":[{\"marker\":{\"colorbar\":{\"outlinewidth\":0,\"ticks\":\"\"}},\"type\":\"scattercarpet\"}],\"scattergeo\":[{\"marker\":{\"colorbar\":{\"outlinewidth\":0,\"ticks\":\"\"}},\"type\":\"scattergeo\"}],\"scattergl\":[{\"marker\":{\"colorbar\":{\"outlinewidth\":0,\"ticks\":\"\"}},\"type\":\"scattergl\"}],\"scattermapbox\":[{\"marker\":{\"colorbar\":{\"outlinewidth\":0,\"ticks\":\"\"}},\"type\":\"scattermapbox\"}],\"scatterpolar\":[{\"marker\":{\"colorbar\":{\"outlinewidth\":0,\"ticks\":\"\"}},\"type\":\"scatterpolar\"}],\"scatterpolargl\":[{\"marker\":{\"colorbar\":{\"outlinewidth\":0,\"ticks\":\"\"}},\"type\":\"scatterpolargl\"}],\"scatterternary\":[{\"marker\":{\"colorbar\":{\"outlinewidth\":0,\"ticks\":\"\"}},\"type\":\"scatterternary\"}],\"surface\":[{\"colorbar\":{\"outlinewidth\":0,\"ticks\":\"\"},\"colorscale\":[[0.0,\"#0d0887\"],[0.1111111111111111,\"#46039f\"],[0.2222222222222222,\"#7201a8\"],[0.3333333333333333,\"#9c179e\"],[0.4444444444444444,\"#bd3786\"],[0.5555555555555556,\"#d8576b\"],[0.6666666666666666,\"#ed7953\"],[0.7777777777777778,\"#fb9f3a\"],[0.8888888888888888,\"#fdca26\"],[1.0,\"#f0f921\"]],\"type\":\"surface\"}],\"table\":[{\"cells\":{\"fill\":{\"color\":\"#EBF0F8\"},\"line\":{\"color\":\"white\"}},\"header\":{\"fill\":{\"color\":\"#C8D4E3\"},\"line\":{\"color\":\"white\"}},\"type\":\"table\"}]},\"layout\":{\"annotationdefaults\":{\"arrowcolor\":\"#2a3f5f\",\"arrowhead\":0,\"arrowwidth\":1},\"autotypenumbers\":\"strict\",\"coloraxis\":{\"colorbar\":{\"outlinewidth\":0,\"ticks\":\"\"}},\"colorscale\":{\"diverging\":[[0,\"#8e0152\"],[0.1,\"#c51b7d\"],[0.2,\"#de77ae\"],[0.3,\"#f1b6da\"],[0.4,\"#fde0ef\"],[0.5,\"#f7f7f7\"],[0.6,\"#e6f5d0\"],[0.7,\"#b8e186\"],[0.8,\"#7fbc41\"],[0.9,\"#4d9221\"],[1,\"#276419\"]],\"sequential\":[[0.0,\"#0d0887\"],[0.1111111111111111,\"#46039f\"],[0.2222222222222222,\"#7201a8\"],[0.3333333333333333,\"#9c179e\"],[0.4444444444444444,\"#bd3786\"],[0.5555555555555556,\"#d8576b\"],[0.6666666666666666,\"#ed7953\"],[0.7777777777777778,\"#fb9f3a\"],[0.8888888888888888,\"#fdca26\"],[1.0,\"#f0f921\"]],\"sequentialminus\":[[0.0,\"#0d0887\"],[0.1111111111111111,\"#46039f\"],[0.2222222222222222,\"#7201a8\"],[0.3333333333333333,\"#9c179e\"],[0.4444444444444444,\"#bd3786\"],[0.5555555555555556,\"#d8576b\"],[0.6666666666666666,\"#ed7953\"],[0.7777777777777778,\"#fb9f3a\"],[0.8888888888888888,\"#fdca26\"],[1.0,\"#f0f921\"]]},\"colorway\":[\"#636efa\",\"#EF553B\",\"#00cc96\",\"#ab63fa\",\"#FFA15A\",\"#19d3f3\",\"#FF6692\",\"#B6E880\",\"#FF97FF\",\"#FECB52\"],\"font\":{\"color\":\"#2a3f5f\"},\"geo\":{\"bgcolor\":\"white\",\"lakecolor\":\"white\",\"landcolor\":\"#E5ECF6\",\"showlakes\":true,\"showland\":true,\"subunitcolor\":\"white\"},\"hoverlabel\":{\"align\":\"left\"},\"hovermode\":\"closest\",\"mapbox\":{\"style\":\"light\"},\"paper_bgcolor\":\"white\",\"plot_bgcolor\":\"#E5ECF6\",\"polar\":{\"angularaxis\":{\"gridcolor\":\"white\",\"linecolor\":\"white\",\"ticks\":\"\"},\"bgcolor\":\"#E5ECF6\",\"radialaxis\":{\"gridcolor\":\"white\",\"linecolor\":\"white\",\"ticks\":\"\"}},\"scene\":{\"xaxis\":{\"backgroundcolor\":\"#E5ECF6\",\"gridcolor\":\"white\",\"gridwidth\":2,\"linecolor\":\"white\",\"showbackground\":true,\"ticks\":\"\",\"zerolinecolor\":\"white\"},\"yaxis\":{\"backgroundcolor\":\"#E5ECF6\",\"gridcolor\":\"white\",\"gridwidth\":2,\"linecolor\":\"white\",\"showbackground\":true,\"ticks\":\"\",\"zerolinecolor\":\"white\"},\"zaxis\":{\"backgroundcolor\":\"#E5ECF6\",\"gridcolor\":\"white\",\"gridwidth\":2,\"linecolor\":\"white\",\"showbackground\":true,\"ticks\":\"\",\"zerolinecolor\":\"white\"}},\"shapedefaults\":{\"line\":{\"color\":\"#2a3f5f\"}},\"ternary\":{\"aaxis\":{\"gridcolor\":\"white\",\"linecolor\":\"white\",\"ticks\":\"\"},\"baxis\":{\"gridcolor\":\"white\",\"linecolor\":\"white\",\"ticks\":\"\"},\"bgcolor\":\"#E5ECF6\",\"caxis\":{\"gridcolor\":\"white\",\"linecolor\":\"white\",\"ticks\":\"\"}},\"title\":{\"x\":0.05},\"xaxis\":{\"automargin\":true,\"gridcolor\":\"white\",\"linecolor\":\"white\",\"ticks\":\"\",\"title\":{\"standoff\":15},\"zerolinecolor\":\"white\",\"zerolinewidth\":2},\"yaxis\":{\"automargin\":true,\"gridcolor\":\"white\",\"linecolor\":\"white\",\"ticks\":\"\",\"title\":{\"standoff\":15},\"zerolinecolor\":\"white\",\"zerolinewidth\":2}}},\"legend\":{\"tracegroupgap\":0},\"margin\":{\"t\":60},\"height\":900},                        {\"responsive\": true}                    ).then(function(){\n",
              "                            \n",
              "var gd = document.getElementById('4ef201ab-5b8a-4f72-9150-8b5fdf13abef');\n",
              "var x = new MutationObserver(function (mutations, observer) {{\n",
              "        var display = window.getComputedStyle(gd).display;\n",
              "        if (!display || display === 'none') {{\n",
              "            console.log([gd, 'removed!']);\n",
              "            Plotly.purge(gd);\n",
              "            observer.disconnect();\n",
              "        }}\n",
              "}});\n",
              "\n",
              "// Listen for the removal of the full notebook cells\n",
              "var notebookContainer = gd.closest('#notebook-container');\n",
              "if (notebookContainer) {{\n",
              "    x.observe(notebookContainer, {childList: true});\n",
              "}}\n",
              "\n",
              "// Listen for the clearing of the current output cell\n",
              "var outputEl = gd.closest('.output');\n",
              "if (outputEl) {{\n",
              "    x.observe(outputEl, {childList: true});\n",
              "}}\n",
              "\n",
              "                        })                };                            </script>        </div>\n",
              "</body>\n",
              "</html>"
            ]
          },
          "metadata": {}
        }
      ]
    }
  ]
}