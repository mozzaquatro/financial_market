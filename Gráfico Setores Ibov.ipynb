{
  "nbformat": 4,
  "nbformat_minor": 0,
  "metadata": {
    "colab": {
      "name": "Untitled1.ipynb",
      "provenance": [],
      "authorship_tag": "ABX9TyNL7wx3IX6QXP4MAoJLWEPw",
      "include_colab_link": true
    },
    "kernelspec": {
      "name": "python3",
      "display_name": "Python 3"
    },
    "language_info": {
      "name": "python"
    }
  },
  "cells": [
    {
      "cell_type": "markdown",
      "metadata": {
        "id": "view-in-github",
        "colab_type": "text"
      },
      "source": [
        "<a href=\"https://colab.research.google.com/github/mozzaquatro/financial_market/blob/main/Gr%C3%A1fico%20Setores%20Ibov.ipynb\" target=\"_parent\"><img src=\"https://colab.research.google.com/assets/colab-badge.svg\" alt=\"Open In Colab\"/></a>"
      ]
    },
    {
      "cell_type": "code",
      "execution_count": null,
      "metadata": {
        "id": "ezsOiyVpOlZw"
      },
      "outputs": [],
      "source": [
        "!pip install -q kora"
      ]
    },
    {
      "cell_type": "code",
      "source": [
        "!pip install -U plotly"
      ],
      "metadata": {
        "id": "bM6lS3xtO8-2"
      },
      "execution_count": null,
      "outputs": []
    },
    {
      "cell_type": "code",
      "source": [
        "from kora.selenium import wd\n",
        "\n",
        "import pandas as pd\n",
        "import numpy as np\n",
        "from google.colab.data_table import DataTable\n",
        "from time import sleep\n",
        "\n",
        "import plotly.express as px"
      ],
      "metadata": {
        "id": "8kwNdraoPG_8"
      },
      "execution_count": 3,
      "outputs": []
    },
    {
      "cell_type": "code",
      "source": [
        "def busca_carteira_teorica(indice, espera=8):\n",
        "  url = f'https://sistemaswebb3-listados.b3.com.br/indexPage/day/{indice.upper()}?language=pt-br'\n",
        "  wd.get(url)\n",
        "  sleep(espera)\n",
        "\n",
        "  wd.find_element_by_id('segment').send_keys(\"Setor de Atuação\")\n",
        "  sleep(espera)\n",
        "\n",
        "  wd.find_element_by_link_text(\"Download\").click()\n",
        "  sleep(espera)\n",
        "\n",
        "  arquivos = !ls -lt *.csv\n",
        "  return pd.read_csv(arquivos[0],sep=';', encoding='ISO-8859-1', skipfooter=2, engine='python', thousands='.', decimal=',', header=1, index_col=False )\n"
      ],
      "metadata": {
        "id": "7Dw2gzAZPzY2"
      },
      "execution_count": 8,
      "outputs": []
    },
    {
      "cell_type": "code",
      "source": [
        "ibov = busca_carteira_teorica('ibov',20)"
      ],
      "metadata": {
        "id": "BnV0nOeBTMmf"
      },
      "execution_count": null,
      "outputs": []
    },
    {
      "cell_type": "code",
      "source": [
        "! pwd\n"
      ],
      "metadata": {
        "id": "yJFhG1Ae0goS",
        "outputId": "369b0f94-31c0-4c7e-9df2-82a84ff87584",
        "colab": {
          "base_uri": "https://localhost:8080/"
        }
      },
      "execution_count": 10,
      "outputs": [
        {
          "output_type": "stream",
          "name": "stdout",
          "text": [
            "/content\n"
          ]
        }
      ]
    },
    {
      "cell_type": "code",
      "source": [
        "# ls -lt com erro, engessando o arquivo\n",
        "ibov = pd.read_csv('IBOVDia_10-12-21.csv',sep=';', encoding='ISO-8859-1', skipfooter=2, engine='python', thousands='.', decimal=',', header=1, index_col=False )"
      ],
      "metadata": {
        "id": "zTRaXA0uUvlI"
      },
      "execution_count": 11,
      "outputs": []
    },
    {
      "cell_type": "code",
      "source": [
        "ibov"
      ],
      "metadata": {
        "colab": {
          "base_uri": "https://localhost:8080/",
          "height": 670
        },
        "id": "jqPrOTBVWQhu",
        "outputId": "1ee94d28-4ca5-487f-b17f-b9aa83c12508"
      },
      "execution_count": 12,
      "outputs": [
        {
          "output_type": "execute_result",
          "data": {
            "text/html": [
              "<div>\n",
              "<style scoped>\n",
              "    .dataframe tbody tr th:only-of-type {\n",
              "        vertical-align: middle;\n",
              "    }\n",
              "\n",
              "    .dataframe tbody tr th {\n",
              "        vertical-align: top;\n",
              "    }\n",
              "\n",
              "    .dataframe thead th {\n",
              "        text-align: right;\n",
              "    }\n",
              "</style>\n",
              "<table border=\"1\" class=\"dataframe\">\n",
              "  <thead>\n",
              "    <tr style=\"text-align: right;\">\n",
              "      <th></th>\n",
              "      <th>Setor</th>\n",
              "      <th>Código</th>\n",
              "      <th>Ação</th>\n",
              "      <th>Tipo</th>\n",
              "      <th>Qtde. Teórica</th>\n",
              "      <th>Part. (%)</th>\n",
              "      <th>Part. (%)Acum.</th>\n",
              "    </tr>\n",
              "  </thead>\n",
              "  <tbody>\n",
              "    <tr>\n",
              "      <th>0</th>\n",
              "      <td>Bens Indls / Máqs e Equips</td>\n",
              "      <td>WEGE3</td>\n",
              "      <td>WEG</td>\n",
              "      <td>ON      NM</td>\n",
              "      <td>1484859030</td>\n",
              "      <td>2.701</td>\n",
              "      <td>2.701</td>\n",
              "    </tr>\n",
              "    <tr>\n",
              "      <th>1</th>\n",
              "      <td>Bens Indls / Mat Transporte</td>\n",
              "      <td>EMBR3</td>\n",
              "      <td>EMBRAER</td>\n",
              "      <td>ON      NM</td>\n",
              "      <td>734558205</td>\n",
              "      <td>0.760</td>\n",
              "      <td>0.760</td>\n",
              "    </tr>\n",
              "    <tr>\n",
              "      <th>2</th>\n",
              "      <td>Bens Indls/Transporte</td>\n",
              "      <td>AZUL4</td>\n",
              "      <td>AZUL</td>\n",
              "      <td>PN      N2</td>\n",
              "      <td>327741172</td>\n",
              "      <td>0.426</td>\n",
              "      <td>2.476</td>\n",
              "    </tr>\n",
              "    <tr>\n",
              "      <th>3</th>\n",
              "      <td>Bens Indls/Transporte</td>\n",
              "      <td>CCRO3</td>\n",
              "      <td>CCR SA</td>\n",
              "      <td>ON  ED  NM</td>\n",
              "      <td>1115693556</td>\n",
              "      <td>0.684</td>\n",
              "      <td>2.476</td>\n",
              "    </tr>\n",
              "    <tr>\n",
              "      <th>4</th>\n",
              "      <td>Bens Indls/Transporte</td>\n",
              "      <td>ECOR3</td>\n",
              "      <td>ECORODOVIAS</td>\n",
              "      <td>ON      NM</td>\n",
              "      <td>339237914</td>\n",
              "      <td>0.148</td>\n",
              "      <td>2.476</td>\n",
              "    </tr>\n",
              "    <tr>\n",
              "      <th>...</th>\n",
              "      <td>...</td>\n",
              "      <td>...</td>\n",
              "      <td>...</td>\n",
              "      <td>...</td>\n",
              "      <td>...</td>\n",
              "      <td>...</td>\n",
              "      <td>...</td>\n",
              "    </tr>\n",
              "    <tr>\n",
              "      <th>87</th>\n",
              "      <td>Utilidade Públ / Energ Elétrica</td>\n",
              "      <td>ENGI11</td>\n",
              "      <td>ENERGISA</td>\n",
              "      <td>UNT     N2</td>\n",
              "      <td>248542219</td>\n",
              "      <td>0.568</td>\n",
              "      <td>6.360</td>\n",
              "    </tr>\n",
              "    <tr>\n",
              "      <th>88</th>\n",
              "      <td>Utilidade Públ / Energ Elétrica</td>\n",
              "      <td>ENEV3</td>\n",
              "      <td>ENEVA</td>\n",
              "      <td>ON      NM</td>\n",
              "      <td>1261568398</td>\n",
              "      <td>0.932</td>\n",
              "      <td>6.360</td>\n",
              "    </tr>\n",
              "    <tr>\n",
              "      <th>89</th>\n",
              "      <td>Utilidade Públ / Energ Elétrica</td>\n",
              "      <td>EGIE3</td>\n",
              "      <td>ENGIE BRASIL</td>\n",
              "      <td>ON      NM</td>\n",
              "      <td>255217329</td>\n",
              "      <td>0.496</td>\n",
              "      <td>6.360</td>\n",
              "    </tr>\n",
              "    <tr>\n",
              "      <th>90</th>\n",
              "      <td>Utilidade Públ / Energ Elétrica</td>\n",
              "      <td>EQTL3</td>\n",
              "      <td>EQUATORIAL</td>\n",
              "      <td>ON      NM</td>\n",
              "      <td>1010511085</td>\n",
              "      <td>1.204</td>\n",
              "      <td>6.360</td>\n",
              "    </tr>\n",
              "    <tr>\n",
              "      <th>91</th>\n",
              "      <td>Utilidade Públ / Energ Elétrica</td>\n",
              "      <td>TAEE11</td>\n",
              "      <td>TAESA</td>\n",
              "      <td>UNT EDJ N2</td>\n",
              "      <td>218568234</td>\n",
              "      <td>0.387</td>\n",
              "      <td>6.360</td>\n",
              "    </tr>\n",
              "  </tbody>\n",
              "</table>\n",
              "<p>92 rows × 7 columns</p>\n",
              "</div>"
            ],
            "text/plain": [
              "                              Setor  Código  ... Part. (%) Part. (%)Acum.\n",
              "0        Bens Indls / Máqs e Equips   WEGE3  ...     2.701          2.701\n",
              "1       Bens Indls / Mat Transporte   EMBR3  ...     0.760          0.760\n",
              "2             Bens Indls/Transporte   AZUL4  ...     0.426          2.476\n",
              "3             Bens Indls/Transporte   CCRO3  ...     0.684          2.476\n",
              "4             Bens Indls/Transporte   ECOR3  ...     0.148          2.476\n",
              "..                              ...     ...  ...       ...            ...\n",
              "87  Utilidade Públ / Energ Elétrica  ENGI11  ...     0.568          6.360\n",
              "88  Utilidade Públ / Energ Elétrica   ENEV3  ...     0.932          6.360\n",
              "89  Utilidade Públ / Energ Elétrica   EGIE3  ...     0.496          6.360\n",
              "90  Utilidade Públ / Energ Elétrica   EQTL3  ...     1.204          6.360\n",
              "91  Utilidade Públ / Energ Elétrica  TAEE11  ...     0.387          6.360\n",
              "\n",
              "[92 rows x 7 columns]"
            ]
          },
          "metadata": {},
          "execution_count": 12
        }
      ]
    },
    {
      "cell_type": "code",
      "source": [
        "ibov['SubSetor'] = ibov['Setor'].apply(lambda s: s[s.rfind(\"/\")+1:].strip())"
      ],
      "metadata": {
        "id": "oWJYEKkaXpkJ"
      },
      "execution_count": 13,
      "outputs": []
    },
    {
      "cell_type": "code",
      "source": [
        "ibov['Setor'] = ibov['Setor'].apply(lambda s: s[:s.rfind(\"/\")].strip())"
      ],
      "metadata": {
        "id": "myKbz4LiZZQQ"
      },
      "execution_count": 14,
      "outputs": []
    },
    {
      "cell_type": "code",
      "source": [
        "ibov"
      ],
      "metadata": {
        "id": "wjdrHVz3YU1I",
        "outputId": "0887be75-6409-425d-b221-3f952d4deed9",
        "colab": {
          "base_uri": "https://localhost:8080/",
          "height": 580
        }
      },
      "execution_count": null,
      "outputs": [
        {
          "output_type": "execute_result",
          "data": {
            "text/html": [
              "<div>\n",
              "<style scoped>\n",
              "    .dataframe tbody tr th:only-of-type {\n",
              "        vertical-align: middle;\n",
              "    }\n",
              "\n",
              "    .dataframe tbody tr th {\n",
              "        vertical-align: top;\n",
              "    }\n",
              "\n",
              "    .dataframe thead th {\n",
              "        text-align: right;\n",
              "    }\n",
              "</style>\n",
              "<table border=\"1\" class=\"dataframe\">\n",
              "  <thead>\n",
              "    <tr style=\"text-align: right;\">\n",
              "      <th></th>\n",
              "      <th>Setor</th>\n",
              "      <th>Código</th>\n",
              "      <th>Ação</th>\n",
              "      <th>Tipo</th>\n",
              "      <th>Qtde. Teórica</th>\n",
              "      <th>Part. (%)</th>\n",
              "      <th>Part. (%)Acum.</th>\n",
              "      <th>SubSetor</th>\n",
              "    </tr>\n",
              "  </thead>\n",
              "  <tbody>\n",
              "    <tr>\n",
              "      <th>0</th>\n",
              "      <td>Bens Indls</td>\n",
              "      <td>WEGE3</td>\n",
              "      <td>WEG</td>\n",
              "      <td>ON      NM</td>\n",
              "      <td>1484859030</td>\n",
              "      <td>2.622</td>\n",
              "      <td>2.622</td>\n",
              "      <td>Máqs e Equips</td>\n",
              "    </tr>\n",
              "    <tr>\n",
              "      <th>1</th>\n",
              "      <td>Bens Indls</td>\n",
              "      <td>EMBR3</td>\n",
              "      <td>EMBRAER</td>\n",
              "      <td>ON      NM</td>\n",
              "      <td>734558205</td>\n",
              "      <td>0.767</td>\n",
              "      <td>0.767</td>\n",
              "      <td>Mat Transporte</td>\n",
              "    </tr>\n",
              "    <tr>\n",
              "      <th>2</th>\n",
              "      <td>Bens Indls</td>\n",
              "      <td>AZUL4</td>\n",
              "      <td>AZUL</td>\n",
              "      <td>PN      N2</td>\n",
              "      <td>327741172</td>\n",
              "      <td>0.421</td>\n",
              "      <td>2.472</td>\n",
              "      <td>Transporte</td>\n",
              "    </tr>\n",
              "    <tr>\n",
              "      <th>3</th>\n",
              "      <td>Bens Indls</td>\n",
              "      <td>CCRO3</td>\n",
              "      <td>CCR SA</td>\n",
              "      <td>ON  ED  NM</td>\n",
              "      <td>1115693556</td>\n",
              "      <td>0.695</td>\n",
              "      <td>2.472</td>\n",
              "      <td>Transporte</td>\n",
              "    </tr>\n",
              "    <tr>\n",
              "      <th>4</th>\n",
              "      <td>Bens Indls</td>\n",
              "      <td>ECOR3</td>\n",
              "      <td>ECORODOVIAS</td>\n",
              "      <td>ON      NM</td>\n",
              "      <td>339237914</td>\n",
              "      <td>0.149</td>\n",
              "      <td>2.472</td>\n",
              "      <td>Transporte</td>\n",
              "    </tr>\n",
              "    <tr>\n",
              "      <th>...</th>\n",
              "      <td>...</td>\n",
              "      <td>...</td>\n",
              "      <td>...</td>\n",
              "      <td>...</td>\n",
              "      <td>...</td>\n",
              "      <td>...</td>\n",
              "      <td>...</td>\n",
              "      <td>...</td>\n",
              "    </tr>\n",
              "    <tr>\n",
              "      <th>87</th>\n",
              "      <td>Utilidade Públ</td>\n",
              "      <td>ENGI11</td>\n",
              "      <td>ENERGISA</td>\n",
              "      <td>UNT     N2</td>\n",
              "      <td>248542219</td>\n",
              "      <td>0.558</td>\n",
              "      <td>6.302</td>\n",
              "      <td>Energ Elétrica</td>\n",
              "    </tr>\n",
              "    <tr>\n",
              "      <th>88</th>\n",
              "      <td>Utilidade Públ</td>\n",
              "      <td>ENEV3</td>\n",
              "      <td>ENEVA</td>\n",
              "      <td>ON      NM</td>\n",
              "      <td>1261568398</td>\n",
              "      <td>0.925</td>\n",
              "      <td>6.302</td>\n",
              "      <td>Energ Elétrica</td>\n",
              "    </tr>\n",
              "    <tr>\n",
              "      <th>89</th>\n",
              "      <td>Utilidade Públ</td>\n",
              "      <td>EGIE3</td>\n",
              "      <td>ENGIE BRASIL</td>\n",
              "      <td>ON      NM</td>\n",
              "      <td>255217329</td>\n",
              "      <td>0.491</td>\n",
              "      <td>6.302</td>\n",
              "      <td>Energ Elétrica</td>\n",
              "    </tr>\n",
              "    <tr>\n",
              "      <th>90</th>\n",
              "      <td>Utilidade Públ</td>\n",
              "      <td>EQTL3</td>\n",
              "      <td>EQUATORIAL</td>\n",
              "      <td>ON      NM</td>\n",
              "      <td>1010511085</td>\n",
              "      <td>1.169</td>\n",
              "      <td>6.302</td>\n",
              "      <td>Energ Elétrica</td>\n",
              "    </tr>\n",
              "    <tr>\n",
              "      <th>91</th>\n",
              "      <td>Utilidade Públ</td>\n",
              "      <td>TAEE11</td>\n",
              "      <td>TAESA</td>\n",
              "      <td>UNT EDJ N2</td>\n",
              "      <td>218568234</td>\n",
              "      <td>0.383</td>\n",
              "      <td>6.302</td>\n",
              "      <td>Energ Elétrica</td>\n",
              "    </tr>\n",
              "  </tbody>\n",
              "</table>\n",
              "<p>92 rows × 8 columns</p>\n",
              "</div>"
            ],
            "text/plain": [
              "             Setor  Código  ... Part. (%)Acum.        SubSetor\n",
              "0       Bens Indls   WEGE3  ...          2.622   Máqs e Equips\n",
              "1       Bens Indls   EMBR3  ...          0.767  Mat Transporte\n",
              "2       Bens Indls   AZUL4  ...          2.472      Transporte\n",
              "3       Bens Indls   CCRO3  ...          2.472      Transporte\n",
              "4       Bens Indls   ECOR3  ...          2.472      Transporte\n",
              "..             ...     ...  ...            ...             ...\n",
              "87  Utilidade Públ  ENGI11  ...          6.302  Energ Elétrica\n",
              "88  Utilidade Públ   ENEV3  ...          6.302  Energ Elétrica\n",
              "89  Utilidade Públ   EGIE3  ...          6.302  Energ Elétrica\n",
              "90  Utilidade Públ   EQTL3  ...          6.302  Energ Elétrica\n",
              "91  Utilidade Públ  TAEE11  ...          6.302  Energ Elétrica\n",
              "\n",
              "[92 rows x 8 columns]"
            ]
          },
          "metadata": {},
          "execution_count": 30
        }
      ]
    },
    {
      "cell_type": "code",
      "source": [
        "# ver se tem alguma inconsistencia no setores\n",
        "ibov['Setor'].unique()"
      ],
      "metadata": {
        "id": "u0HxFeTycnSC",
        "outputId": "87c868ee-0c7b-4c35-b79b-a2ae21acdea2",
        "colab": {
          "base_uri": "https://localhost:8080/"
        }
      },
      "execution_count": null,
      "outputs": [
        {
          "output_type": "execute_result",
          "data": {
            "text/plain": [
              "array(['Bens Indls', 'Cons N  Básico', 'Cons N Cíclico',\n",
              "       'Consumo Cíclico', 'Diverso', 'Financ e Outros',\n",
              "       'Financeiro e Outros', 'Mats Básicos', 'Petróleo', 'Saúde',\n",
              "       'Tec.Informação', 'Telecomunicaçã', 'Utilidade Públ'], dtype=object)"
            ]
          },
          "metadata": {},
          "execution_count": 31
        }
      ]
    },
    {
      "cell_type": "code",
      "source": [
        "# retirando duplicidades\n",
        "def conserta_setores(setor):\n",
        "  if setor == 'Cons N  Básico' or setor == 'Cons N Cíclico': return 'Consumo Não-Cíclico'\n",
        "  if setor == 'Financeiro e Outros' or setor == 'Financ e Outros': return 'Financeiro'\n",
        "  else: return setor\n",
        "  \n"
      ],
      "metadata": {
        "id": "OqIrMFWTc83k"
      },
      "execution_count": 15,
      "outputs": []
    },
    {
      "cell_type": "code",
      "source": [
        "# aplica funçao conserta setores na coluna\n",
        "ibov['Setor'] = ibov['Setor'].apply(conserta_setores)"
      ],
      "metadata": {
        "id": "bvX3LwCldw20"
      },
      "execution_count": 16,
      "outputs": []
    },
    {
      "cell_type": "code",
      "source": [
        "ibov['Setor'].unique()"
      ],
      "metadata": {
        "id": "9MQn3cY5eIQb",
        "outputId": "556cce15-3b8f-4d98-a779-42c94c4e7e41",
        "colab": {
          "base_uri": "https://localhost:8080/"
        }
      },
      "execution_count": null,
      "outputs": [
        {
          "output_type": "execute_result",
          "data": {
            "text/plain": [
              "array(['Bens Indls', 'Consumo Não-Cíclico', 'Consumo Cíclico', 'Diverso',\n",
              "       'Financeiro', 'Mats Básicos', 'Petróleo', 'Saúde',\n",
              "       'Tec.Informação', 'Telecomunicaçã', 'Utilidade Públ'], dtype=object)"
            ]
          },
          "metadata": {},
          "execution_count": 34
        }
      ]
    },
    {
      "cell_type": "code",
      "source": [
        "#grafico\n",
        "fig = px.sunburst(data_frame=ibov,path=['Setor','SubSetor','Código'], values='Part. (%)', height=900)\n",
        "\n",
        "fig.update_traces(textfont_color='white',\n",
        "                  textfont_size=14,\n",
        "                  hovertemplate='<b>%{label}:</b> %{value:f}%')\n",
        "\n",
        "fig.show()"
      ],
      "metadata": {
        "id": "adlKBTP0eM4x",
        "outputId": "ef26b5d5-3e40-4f4b-c551-ff507d122cbd",
        "colab": {
          "base_uri": "https://localhost:8080/",
          "height": 1000
        }
      },
      "execution_count": 17,
      "outputs": [
        {
          "output_type": "stream",
          "name": "stderr",
          "text": [
            "/usr/local/lib/python3.7/dist-packages/requests/__init__.py:91: RequestsDependencyWarning:\n",
            "\n",
            "urllib3 (1.26.7) or chardet (3.0.4) doesn't match a supported version!\n",
            "\n"
          ]
        },
        {
          "output_type": "display_data",
          "data": {
            "text/html": [
              "<html>\n",
              "<head><meta charset=\"utf-8\" /></head>\n",
              "<body>\n",
              "    <div>            <script src=\"https://cdnjs.cloudflare.com/ajax/libs/mathjax/2.7.5/MathJax.js?config=TeX-AMS-MML_SVG\"></script><script type=\"text/javascript\">if (window.MathJax) {MathJax.Hub.Config({SVG: {font: \"STIX-Web\"}});}</script>                <script type=\"text/javascript\">window.PlotlyConfig = {MathJaxConfig: 'local'};</script>\n",
              "        <script src=\"https://cdn.plot.ly/plotly-2.6.3.min.js\"></script>                <div id=\"893e8f7f-d6a2-4858-8e59-6d47b94d18a7\" class=\"plotly-graph-div\" style=\"height:900px; width:100%;\"></div>            <script type=\"text/javascript\">                                    window.PLOTLYENV=window.PLOTLYENV || {};                                    if (document.getElementById(\"893e8f7f-d6a2-4858-8e59-6d47b94d18a7\")) {                    Plotly.newPlot(                        \"893e8f7f-d6a2-4858-8e59-6d47b94d18a7\",                        [{\"branchvalues\":\"total\",\"domain\":{\"x\":[0.0,1.0],\"y\":[0.0,1.0]},\"hovertemplate\":\"<b>%{label}:</b> %{value:f}%\",\"ids\":[\"Consumo N\\u00e3o-C\\u00edclico/Bebidas/ABEV3\",\"Consumo C\\u00edclico/Tecid Vest Cal\\u00e7/ALPA4\",\"Consumo C\\u00edclico/Com\\u00e9rcio/AMER3\",\"Consumo N\\u00e3o-C\\u00edclico/Com\\u00e9rcio Distr./ASAI3\",\"Bens Indls/Transporte/AZUL4\",\"Financeiro/Servi\\u00e7os Financeiros Diversos/B3SA3\",\"Financeiro/Interms Financs/BBAS3\",\"Financeiro/Interms Financs/BBDC3\",\"Financeiro/Interms Financs/BBDC4\",\"Financeiro/Previd  Seguros/BBSE3\",\"Consumo N\\u00e3o-C\\u00edclico/Alimentos Processados/BEEF3\",\"Financeiro/Interms Financs/BIDI11\",\"Financeiro/Interms Financs/BIDI4\",\"Financeiro/Interms Financs/BPAC11\",\"Financeiro/Interms Financs/BPAN4\",\"Mats B\\u00e1sicos/Minera\\u00e7\\u00e3o/BRAP4\",\"Consumo N\\u00e3o-C\\u00edclico/Alimentos Processados/BRFS3\",\"Mats B\\u00e1sicos/Qu\\u00edmicos/BRKM5\",\"Financeiro/Explor Im\\u00f3veis/BRML3\",\"Tec.Informa\\u00e7\\u00e3o/Programas Servs/CASH3\",\"Bens Indls/Transporte/CCRO3\",\"Financeiro/Servi\\u00e7os Financeiros Diversos/CIEL3\",\"Utilidade P\\u00fabl/Energ El\\u00e9trica/CMIG4\",\"Diverso/Diversos/COGN3\",\"Utilidade P\\u00fabl/Energ El\\u00e9trica/CPFE3\",\"Utilidade P\\u00fabl/Energ El\\u00e9trica/CPLE6\",\"Consumo N\\u00e3o-C\\u00edclico/Com\\u00e9rcio Distr./CRFB3\",\"Petr\\u00f3leo/G\\u00e1s e Biocombust\\u00edveis/CSAN3\",\"Mats B\\u00e1sicos/Sid Metalurgia/CSNA3\",\"Consumo C\\u00edclico/Viagens e Lazer/CVCB3\",\"Consumo C\\u00edclico/Constr Civil/CYRE3\",\"Mats B\\u00e1sicos/Madeira e Papel/DXCO3\",\"Bens Indls/Transporte/ECOR3\",\"Utilidade P\\u00fabl/Energ El\\u00e9trica/EGIE3\",\"Utilidade P\\u00fabl/Energ El\\u00e9trica/ELET3\",\"Utilidade P\\u00fabl/Energ El\\u00e9trica/ELET6\",\"Bens Indls/Mat Transporte/EMBR3\",\"Utilidade P\\u00fabl/Energ El\\u00e9trica/ENBR3\",\"Utilidade P\\u00fabl/Energ El\\u00e9trica/ENEV3\",\"Utilidade P\\u00fabl/Energ El\\u00e9trica/ENGI11\",\"Utilidade P\\u00fabl/Energ El\\u00e9trica/EQTL3\",\"Consumo C\\u00edclico/Constr Civil/EZTC3\",\"Sa\\u00fade/SM Hosp An.Diag/FLRY3\",\"Financeiro/Servi\\u00e7os Financeiros Diversos/GETT11\",\"Mats B\\u00e1sicos/Sid Metalurgia/GGBR4\",\"Sa\\u00fade/SM Hosp An.Diag/GNDI3\",\"Mats B\\u00e1sicos/Sid Metalurgia/GOAU4\",\"Bens Indls/Transporte/GOLL4\",\"Sa\\u00fade/SM Hosp An.Diag/HAPV3\",\"Sa\\u00fade/Com\\u00e9rcio Distr./HYPE3\",\"Financeiro/Explor Im\\u00f3veis/IGTI11\",\"Financeiro/Previd  Seguros/IRBR3\",\"Financeiro/Interms Financs/ITSA4\",\"Financeiro/Interms Financs/ITUB4\",\"Consumo N\\u00e3o-C\\u00edclico/Alimentos Processados/JBSS3\",\"Consumo C\\u00edclico/Constr Civil/JHSF3\",\"Mats B\\u00e1sicos/Madeira e Papel/KLBN11\",\"Consumo C\\u00edclico/Com\\u00e9rcio/LAME4\",\"Diverso/Diversos/LCAM3\",\"Consumo C\\u00edclico/Com\\u00e9rcio/LREN3\",\"Tec.Informa\\u00e7\\u00e3o/Programas Servs/LWSA3\",\"Consumo C\\u00edclico/Com\\u00e9rcio/MGLU3\",\"Consumo N\\u00e3o-C\\u00edclico/Alimentos Processados/MRFG3\",\"Consumo C\\u00edclico/Constr Civil/MRVE3\",\"Financeiro/Explor Im\\u00f3veis/MULT3\",\"Consumo N\\u00e3o-C\\u00edclico/Pr Pessoal Limp/NTCO3\",\"Consumo N\\u00e3o-C\\u00edclico/Com\\u00e9rcio Distr./PCAR3\",\"Petr\\u00f3leo/G\\u00e1s e Biocombust\\u00edveis/PETR3\",\"Petr\\u00f3leo/G\\u00e1s e Biocombust\\u00edveis/PETR4\",\"Consumo C\\u00edclico/Com\\u00e9rcio/PETZ3\",\"Petr\\u00f3leo/G\\u00e1s e Biocombust\\u00edveis/PRIO3\",\"Sa\\u00fade/SM Hosp An.Diag/QUAL3\",\"Sa\\u00fade/Com\\u00e9rcio Distr./RADL3\",\"Bens Indls/Transporte/RAIL3\",\"Sa\\u00fade/SM Hosp An.Diag/RDOR3\",\"Diverso/Diversos/RENT3\",\"Financeiro/Interms Financs/SANB11\",\"Utilidade P\\u00fabl/\\u00c1gua Saneamento/SBSP3\",\"Consumo C\\u00edclico/Com\\u00e9rcio/SOMA3\",\"Financeiro/Previd  Seguros/SULA11\",\"Mats B\\u00e1sicos/Madeira e Papel/SUZB3\",\"Utilidade P\\u00fabl/Energ El\\u00e9trica/TAEE11\",\"Telecomunica\\u00e7\\u00e3/Telecomunica\\u00e7\\u00e3o/TIMS3\",\"Tec.Informa\\u00e7\\u00e3o/Programas Servs/TOTS3\",\"Petr\\u00f3leo/G\\u00e1s e Biocombust\\u00edveis/UGPA3\",\"Mats B\\u00e1sicos/Sid Metalurgia/USIM5\",\"Mats B\\u00e1sicos/Minera\\u00e7\\u00e3o/VALE3\",\"Petr\\u00f3leo/G\\u00e1s e Biocombust\\u00edveis/VBBR3\",\"Consumo C\\u00edclico/Com\\u00e9rcio/VIIA3\",\"Telecomunica\\u00e7\\u00e3/Telecomunica\\u00e7\\u00e3o/VIVT3\",\"Bens Indls/M\\u00e1qs e Equips/WEGE3\",\"Diverso/Diversos/YDUQ3\",\"Consumo N\\u00e3o-C\\u00edclico/Alimentos Processados\",\"Consumo N\\u00e3o-C\\u00edclico/Bebidas\",\"Consumo C\\u00edclico/Com\\u00e9rcio\",\"Consumo N\\u00e3o-C\\u00edclico/Com\\u00e9rcio Distr.\",\"Sa\\u00fade/Com\\u00e9rcio Distr.\",\"Consumo C\\u00edclico/Constr Civil\",\"Diverso/Diversos\",\"Utilidade P\\u00fabl/Energ El\\u00e9trica\",\"Financeiro/Explor Im\\u00f3veis\",\"Petr\\u00f3leo/G\\u00e1s e Biocombust\\u00edveis\",\"Financeiro/Interms Financs\",\"Mats B\\u00e1sicos/Madeira e Papel\",\"Bens Indls/Mat Transporte\",\"Mats B\\u00e1sicos/Minera\\u00e7\\u00e3o\",\"Bens Indls/M\\u00e1qs e Equips\",\"Consumo N\\u00e3o-C\\u00edclico/Pr Pessoal Limp\",\"Financeiro/Previd  Seguros\",\"Tec.Informa\\u00e7\\u00e3o/Programas Servs\",\"Mats B\\u00e1sicos/Qu\\u00edmicos\",\"Sa\\u00fade/SM Hosp An.Diag\",\"Financeiro/Servi\\u00e7os Financeiros Diversos\",\"Mats B\\u00e1sicos/Sid Metalurgia\",\"Consumo C\\u00edclico/Tecid Vest Cal\\u00e7\",\"Telecomunica\\u00e7\\u00e3/Telecomunica\\u00e7\\u00e3o\",\"Bens Indls/Transporte\",\"Consumo C\\u00edclico/Viagens e Lazer\",\"Utilidade P\\u00fabl/\\u00c1gua Saneamento\",\"Bens Indls\",\"Consumo C\\u00edclico\",\"Consumo N\\u00e3o-C\\u00edclico\",\"Diverso\",\"Financeiro\",\"Mats B\\u00e1sicos\",\"Petr\\u00f3leo\",\"Sa\\u00fade\",\"Tec.Informa\\u00e7\\u00e3o\",\"Telecomunica\\u00e7\\u00e3\",\"Utilidade P\\u00fabl\"],\"labels\":[\"ABEV3\",\"ALPA4\",\"AMER3\",\"ASAI3\",\"AZUL4\",\"B3SA3\",\"BBAS3\",\"BBDC3\",\"BBDC4\",\"BBSE3\",\"BEEF3\",\"BIDI11\",\"BIDI4\",\"BPAC11\",\"BPAN4\",\"BRAP4\",\"BRFS3\",\"BRKM5\",\"BRML3\",\"CASH3\",\"CCRO3\",\"CIEL3\",\"CMIG4\",\"COGN3\",\"CPFE3\",\"CPLE6\",\"CRFB3\",\"CSAN3\",\"CSNA3\",\"CVCB3\",\"CYRE3\",\"DXCO3\",\"ECOR3\",\"EGIE3\",\"ELET3\",\"ELET6\",\"EMBR3\",\"ENBR3\",\"ENEV3\",\"ENGI11\",\"EQTL3\",\"EZTC3\",\"FLRY3\",\"GETT11\",\"GGBR4\",\"GNDI3\",\"GOAU4\",\"GOLL4\",\"HAPV3\",\"HYPE3\",\"IGTI11\",\"IRBR3\",\"ITSA4\",\"ITUB4\",\"JBSS3\",\"JHSF3\",\"KLBN11\",\"LAME4\",\"LCAM3\",\"LREN3\",\"LWSA3\",\"MGLU3\",\"MRFG3\",\"MRVE3\",\"MULT3\",\"NTCO3\",\"PCAR3\",\"PETR3\",\"PETR4\",\"PETZ3\",\"PRIO3\",\"QUAL3\",\"RADL3\",\"RAIL3\",\"RDOR3\",\"RENT3\",\"SANB11\",\"SBSP3\",\"SOMA3\",\"SULA11\",\"SUZB3\",\"TAEE11\",\"TIMS3\",\"TOTS3\",\"UGPA3\",\"USIM5\",\"VALE3\",\"VBBR3\",\"VIIA3\",\"VIVT3\",\"WEGE3\",\"YDUQ3\",\"Alimentos Processados\",\"Bebidas\",\"Com\\u00e9rcio\",\"Com\\u00e9rcio Distr.\",\"Com\\u00e9rcio Distr.\",\"Constr Civil\",\"Diversos\",\"Energ El\\u00e9trica\",\"Explor Im\\u00f3veis\",\"G\\u00e1s e Biocombust\\u00edveis\",\"Interms Financs\",\"Madeira e Papel\",\"Mat Transporte\",\"Minera\\u00e7\\u00e3o\",\"M\\u00e1qs e Equips\",\"Pr Pessoal Limp\",\"Previd  Seguros\",\"Programas Servs\",\"Qu\\u00edmicos\",\"SM Hosp An.Diag\",\"Servi\\u00e7os Financeiros Diversos\",\"Sid Metalurgia\",\"Tecid Vest Cal\\u00e7\",\"Telecomunica\\u00e7\\u00e3o\",\"Transporte\",\"Viagens e Lazer\",\"\\u00c1gua Saneamento\",\"Bens Indls\",\"Consumo C\\u00edclico\",\"Consumo N\\u00e3o-C\\u00edclico\",\"Diverso\",\"Financeiro\",\"Mats B\\u00e1sicos\",\"Petr\\u00f3leo\",\"Sa\\u00fade\",\"Tec.Informa\\u00e7\\u00e3o\",\"Telecomunica\\u00e7\\u00e3\",\"Utilidade P\\u00fabl\"],\"name\":\"\",\"parents\":[\"Consumo N\\u00e3o-C\\u00edclico/Bebidas\",\"Consumo C\\u00edclico/Tecid Vest Cal\\u00e7\",\"Consumo C\\u00edclico/Com\\u00e9rcio\",\"Consumo N\\u00e3o-C\\u00edclico/Com\\u00e9rcio Distr.\",\"Bens Indls/Transporte\",\"Financeiro/Servi\\u00e7os Financeiros Diversos\",\"Financeiro/Interms Financs\",\"Financeiro/Interms Financs\",\"Financeiro/Interms Financs\",\"Financeiro/Previd  Seguros\",\"Consumo N\\u00e3o-C\\u00edclico/Alimentos Processados\",\"Financeiro/Interms Financs\",\"Financeiro/Interms Financs\",\"Financeiro/Interms Financs\",\"Financeiro/Interms Financs\",\"Mats B\\u00e1sicos/Minera\\u00e7\\u00e3o\",\"Consumo N\\u00e3o-C\\u00edclico/Alimentos Processados\",\"Mats B\\u00e1sicos/Qu\\u00edmicos\",\"Financeiro/Explor Im\\u00f3veis\",\"Tec.Informa\\u00e7\\u00e3o/Programas Servs\",\"Bens Indls/Transporte\",\"Financeiro/Servi\\u00e7os Financeiros Diversos\",\"Utilidade P\\u00fabl/Energ El\\u00e9trica\",\"Diverso/Diversos\",\"Utilidade P\\u00fabl/Energ El\\u00e9trica\",\"Utilidade P\\u00fabl/Energ El\\u00e9trica\",\"Consumo N\\u00e3o-C\\u00edclico/Com\\u00e9rcio Distr.\",\"Petr\\u00f3leo/G\\u00e1s e Biocombust\\u00edveis\",\"Mats B\\u00e1sicos/Sid Metalurgia\",\"Consumo C\\u00edclico/Viagens e Lazer\",\"Consumo C\\u00edclico/Constr Civil\",\"Mats B\\u00e1sicos/Madeira e Papel\",\"Bens Indls/Transporte\",\"Utilidade P\\u00fabl/Energ El\\u00e9trica\",\"Utilidade P\\u00fabl/Energ El\\u00e9trica\",\"Utilidade P\\u00fabl/Energ El\\u00e9trica\",\"Bens Indls/Mat Transporte\",\"Utilidade P\\u00fabl/Energ El\\u00e9trica\",\"Utilidade P\\u00fabl/Energ El\\u00e9trica\",\"Utilidade P\\u00fabl/Energ El\\u00e9trica\",\"Utilidade P\\u00fabl/Energ El\\u00e9trica\",\"Consumo C\\u00edclico/Constr Civil\",\"Sa\\u00fade/SM Hosp An.Diag\",\"Financeiro/Servi\\u00e7os Financeiros Diversos\",\"Mats B\\u00e1sicos/Sid Metalurgia\",\"Sa\\u00fade/SM Hosp An.Diag\",\"Mats B\\u00e1sicos/Sid Metalurgia\",\"Bens Indls/Transporte\",\"Sa\\u00fade/SM Hosp An.Diag\",\"Sa\\u00fade/Com\\u00e9rcio Distr.\",\"Financeiro/Explor Im\\u00f3veis\",\"Financeiro/Previd  Seguros\",\"Financeiro/Interms Financs\",\"Financeiro/Interms Financs\",\"Consumo N\\u00e3o-C\\u00edclico/Alimentos Processados\",\"Consumo C\\u00edclico/Constr Civil\",\"Mats B\\u00e1sicos/Madeira e Papel\",\"Consumo C\\u00edclico/Com\\u00e9rcio\",\"Diverso/Diversos\",\"Consumo C\\u00edclico/Com\\u00e9rcio\",\"Tec.Informa\\u00e7\\u00e3o/Programas Servs\",\"Consumo C\\u00edclico/Com\\u00e9rcio\",\"Consumo N\\u00e3o-C\\u00edclico/Alimentos Processados\",\"Consumo C\\u00edclico/Constr Civil\",\"Financeiro/Explor Im\\u00f3veis\",\"Consumo N\\u00e3o-C\\u00edclico/Pr Pessoal Limp\",\"Consumo N\\u00e3o-C\\u00edclico/Com\\u00e9rcio Distr.\",\"Petr\\u00f3leo/G\\u00e1s e Biocombust\\u00edveis\",\"Petr\\u00f3leo/G\\u00e1s e Biocombust\\u00edveis\",\"Consumo C\\u00edclico/Com\\u00e9rcio\",\"Petr\\u00f3leo/G\\u00e1s e Biocombust\\u00edveis\",\"Sa\\u00fade/SM Hosp An.Diag\",\"Sa\\u00fade/Com\\u00e9rcio Distr.\",\"Bens Indls/Transporte\",\"Sa\\u00fade/SM Hosp An.Diag\",\"Diverso/Diversos\",\"Financeiro/Interms Financs\",\"Utilidade P\\u00fabl/\\u00c1gua Saneamento\",\"Consumo C\\u00edclico/Com\\u00e9rcio\",\"Financeiro/Previd  Seguros\",\"Mats B\\u00e1sicos/Madeira e Papel\",\"Utilidade P\\u00fabl/Energ El\\u00e9trica\",\"Telecomunica\\u00e7\\u00e3/Telecomunica\\u00e7\\u00e3o\",\"Tec.Informa\\u00e7\\u00e3o/Programas Servs\",\"Petr\\u00f3leo/G\\u00e1s e Biocombust\\u00edveis\",\"Mats B\\u00e1sicos/Sid Metalurgia\",\"Mats B\\u00e1sicos/Minera\\u00e7\\u00e3o\",\"Petr\\u00f3leo/G\\u00e1s e Biocombust\\u00edveis\",\"Consumo C\\u00edclico/Com\\u00e9rcio\",\"Telecomunica\\u00e7\\u00e3/Telecomunica\\u00e7\\u00e3o\",\"Bens Indls/M\\u00e1qs e Equips\",\"Diverso/Diversos\",\"Consumo N\\u00e3o-C\\u00edclico\",\"Consumo N\\u00e3o-C\\u00edclico\",\"Consumo C\\u00edclico\",\"Consumo N\\u00e3o-C\\u00edclico\",\"Sa\\u00fade\",\"Consumo C\\u00edclico\",\"Diverso\",\"Utilidade P\\u00fabl\",\"Financeiro\",\"Petr\\u00f3leo\",\"Financeiro\",\"Mats B\\u00e1sicos\",\"Bens Indls\",\"Mats B\\u00e1sicos\",\"Bens Indls\",\"Consumo N\\u00e3o-C\\u00edclico\",\"Financeiro\",\"Tec.Informa\\u00e7\\u00e3o\",\"Mats B\\u00e1sicos\",\"Sa\\u00fade\",\"Financeiro\",\"Mats B\\u00e1sicos\",\"Consumo C\\u00edclico\",\"Telecomunica\\u00e7\\u00e3\",\"Bens Indls\",\"Consumo C\\u00edclico\",\"Utilidade P\\u00fabl\",\"\",\"\",\"\",\"\",\"\",\"\",\"\",\"\",\"\",\"\",\"\"],\"values\":[3.4339999999999997,0.33299999999999996,0.7609999999999999,0.563,0.426,3.548,2.267,1.182,4.744,0.7070000000000001,0.102,0.8390000000000001,0.11,1.383,0.19899999999999998,0.6679999999999999,0.797,0.7120000000000001,0.33899999999999997,0.091,0.684,0.128,0.768,0.23800000000000002,0.248,0.495,0.303,1.2830000000000001,0.7829999999999999,0.179,0.218,0.243,0.14800000000000002,0.496,0.612,0.40700000000000003,0.76,0.243,0.932,0.568,1.204,0.1,0.28800000000000003,0.017,1.5830000000000002,1.88,0.415,0.161,0.73,0.597,0.13699999999999998,0.268,2.178,5.272,2.33,0.083,1.018,0.217,0.396,1.3780000000000001,0.297,0.883,0.382,0.172,0.278,1.117,0.177,5.307,6.665,0.28800000000000003,0.867,0.233,1.254,1.057,0.778,1.635,0.579,0.649,0.294,0.37,2.097,0.387,0.527,0.818,0.812,0.38299999999999995,12.664000000000001,1.294,0.426,1.064,2.701,0.35200000000000004,3.611,3.4339999999999997,4.247000000000001,1.043,1.851,0.573,2.621,6.359999999999999,0.754,16.227999999999998,18.753,3.358,0.76,13.332,2.701,1.117,1.3450000000000002,1.206,0.7120000000000001,3.909,3.693,3.164,0.33299999999999996,1.5910000000000002,2.476,0.179,0.649,5.936999999999999,5.332000000000001,9.204999999999998,2.621,24.544999999999998,20.566,16.227999999999998,5.76,1.206,1.5910000000000002,7.009],\"type\":\"sunburst\",\"textfont\":{\"color\":\"white\",\"size\":14}}],                        {\"template\":{\"data\":{\"bar\":[{\"error_x\":{\"color\":\"#2a3f5f\"},\"error_y\":{\"color\":\"#2a3f5f\"},\"marker\":{\"line\":{\"color\":\"#E5ECF6\",\"width\":0.5},\"pattern\":{\"fillmode\":\"overlay\",\"size\":10,\"solidity\":0.2}},\"type\":\"bar\"}],\"barpolar\":[{\"marker\":{\"line\":{\"color\":\"#E5ECF6\",\"width\":0.5},\"pattern\":{\"fillmode\":\"overlay\",\"size\":10,\"solidity\":0.2}},\"type\":\"barpolar\"}],\"carpet\":[{\"aaxis\":{\"endlinecolor\":\"#2a3f5f\",\"gridcolor\":\"white\",\"linecolor\":\"white\",\"minorgridcolor\":\"white\",\"startlinecolor\":\"#2a3f5f\"},\"baxis\":{\"endlinecolor\":\"#2a3f5f\",\"gridcolor\":\"white\",\"linecolor\":\"white\",\"minorgridcolor\":\"white\",\"startlinecolor\":\"#2a3f5f\"},\"type\":\"carpet\"}],\"choropleth\":[{\"colorbar\":{\"outlinewidth\":0,\"ticks\":\"\"},\"type\":\"choropleth\"}],\"contour\":[{\"colorbar\":{\"outlinewidth\":0,\"ticks\":\"\"},\"colorscale\":[[0.0,\"#0d0887\"],[0.1111111111111111,\"#46039f\"],[0.2222222222222222,\"#7201a8\"],[0.3333333333333333,\"#9c179e\"],[0.4444444444444444,\"#bd3786\"],[0.5555555555555556,\"#d8576b\"],[0.6666666666666666,\"#ed7953\"],[0.7777777777777778,\"#fb9f3a\"],[0.8888888888888888,\"#fdca26\"],[1.0,\"#f0f921\"]],\"type\":\"contour\"}],\"contourcarpet\":[{\"colorbar\":{\"outlinewidth\":0,\"ticks\":\"\"},\"type\":\"contourcarpet\"}],\"heatmap\":[{\"colorbar\":{\"outlinewidth\":0,\"ticks\":\"\"},\"colorscale\":[[0.0,\"#0d0887\"],[0.1111111111111111,\"#46039f\"],[0.2222222222222222,\"#7201a8\"],[0.3333333333333333,\"#9c179e\"],[0.4444444444444444,\"#bd3786\"],[0.5555555555555556,\"#d8576b\"],[0.6666666666666666,\"#ed7953\"],[0.7777777777777778,\"#fb9f3a\"],[0.8888888888888888,\"#fdca26\"],[1.0,\"#f0f921\"]],\"type\":\"heatmap\"}],\"heatmapgl\":[{\"colorbar\":{\"outlinewidth\":0,\"ticks\":\"\"},\"colorscale\":[[0.0,\"#0d0887\"],[0.1111111111111111,\"#46039f\"],[0.2222222222222222,\"#7201a8\"],[0.3333333333333333,\"#9c179e\"],[0.4444444444444444,\"#bd3786\"],[0.5555555555555556,\"#d8576b\"],[0.6666666666666666,\"#ed7953\"],[0.7777777777777778,\"#fb9f3a\"],[0.8888888888888888,\"#fdca26\"],[1.0,\"#f0f921\"]],\"type\":\"heatmapgl\"}],\"histogram\":[{\"marker\":{\"pattern\":{\"fillmode\":\"overlay\",\"size\":10,\"solidity\":0.2}},\"type\":\"histogram\"}],\"histogram2d\":[{\"colorbar\":{\"outlinewidth\":0,\"ticks\":\"\"},\"colorscale\":[[0.0,\"#0d0887\"],[0.1111111111111111,\"#46039f\"],[0.2222222222222222,\"#7201a8\"],[0.3333333333333333,\"#9c179e\"],[0.4444444444444444,\"#bd3786\"],[0.5555555555555556,\"#d8576b\"],[0.6666666666666666,\"#ed7953\"],[0.7777777777777778,\"#fb9f3a\"],[0.8888888888888888,\"#fdca26\"],[1.0,\"#f0f921\"]],\"type\":\"histogram2d\"}],\"histogram2dcontour\":[{\"colorbar\":{\"outlinewidth\":0,\"ticks\":\"\"},\"colorscale\":[[0.0,\"#0d0887\"],[0.1111111111111111,\"#46039f\"],[0.2222222222222222,\"#7201a8\"],[0.3333333333333333,\"#9c179e\"],[0.4444444444444444,\"#bd3786\"],[0.5555555555555556,\"#d8576b\"],[0.6666666666666666,\"#ed7953\"],[0.7777777777777778,\"#fb9f3a\"],[0.8888888888888888,\"#fdca26\"],[1.0,\"#f0f921\"]],\"type\":\"histogram2dcontour\"}],\"mesh3d\":[{\"colorbar\":{\"outlinewidth\":0,\"ticks\":\"\"},\"type\":\"mesh3d\"}],\"parcoords\":[{\"line\":{\"colorbar\":{\"outlinewidth\":0,\"ticks\":\"\"}},\"type\":\"parcoords\"}],\"pie\":[{\"automargin\":true,\"type\":\"pie\"}],\"scatter\":[{\"marker\":{\"colorbar\":{\"outlinewidth\":0,\"ticks\":\"\"}},\"type\":\"scatter\"}],\"scatter3d\":[{\"line\":{\"colorbar\":{\"outlinewidth\":0,\"ticks\":\"\"}},\"marker\":{\"colorbar\":{\"outlinewidth\":0,\"ticks\":\"\"}},\"type\":\"scatter3d\"}],\"scattercarpet\":[{\"marker\":{\"colorbar\":{\"outlinewidth\":0,\"ticks\":\"\"}},\"type\":\"scattercarpet\"}],\"scattergeo\":[{\"marker\":{\"colorbar\":{\"outlinewidth\":0,\"ticks\":\"\"}},\"type\":\"scattergeo\"}],\"scattergl\":[{\"marker\":{\"colorbar\":{\"outlinewidth\":0,\"ticks\":\"\"}},\"type\":\"scattergl\"}],\"scattermapbox\":[{\"marker\":{\"colorbar\":{\"outlinewidth\":0,\"ticks\":\"\"}},\"type\":\"scattermapbox\"}],\"scatterpolar\":[{\"marker\":{\"colorbar\":{\"outlinewidth\":0,\"ticks\":\"\"}},\"type\":\"scatterpolar\"}],\"scatterpolargl\":[{\"marker\":{\"colorbar\":{\"outlinewidth\":0,\"ticks\":\"\"}},\"type\":\"scatterpolargl\"}],\"scatterternary\":[{\"marker\":{\"colorbar\":{\"outlinewidth\":0,\"ticks\":\"\"}},\"type\":\"scatterternary\"}],\"surface\":[{\"colorbar\":{\"outlinewidth\":0,\"ticks\":\"\"},\"colorscale\":[[0.0,\"#0d0887\"],[0.1111111111111111,\"#46039f\"],[0.2222222222222222,\"#7201a8\"],[0.3333333333333333,\"#9c179e\"],[0.4444444444444444,\"#bd3786\"],[0.5555555555555556,\"#d8576b\"],[0.6666666666666666,\"#ed7953\"],[0.7777777777777778,\"#fb9f3a\"],[0.8888888888888888,\"#fdca26\"],[1.0,\"#f0f921\"]],\"type\":\"surface\"}],\"table\":[{\"cells\":{\"fill\":{\"color\":\"#EBF0F8\"},\"line\":{\"color\":\"white\"}},\"header\":{\"fill\":{\"color\":\"#C8D4E3\"},\"line\":{\"color\":\"white\"}},\"type\":\"table\"}]},\"layout\":{\"annotationdefaults\":{\"arrowcolor\":\"#2a3f5f\",\"arrowhead\":0,\"arrowwidth\":1},\"autotypenumbers\":\"strict\",\"coloraxis\":{\"colorbar\":{\"outlinewidth\":0,\"ticks\":\"\"}},\"colorscale\":{\"diverging\":[[0,\"#8e0152\"],[0.1,\"#c51b7d\"],[0.2,\"#de77ae\"],[0.3,\"#f1b6da\"],[0.4,\"#fde0ef\"],[0.5,\"#f7f7f7\"],[0.6,\"#e6f5d0\"],[0.7,\"#b8e186\"],[0.8,\"#7fbc41\"],[0.9,\"#4d9221\"],[1,\"#276419\"]],\"sequential\":[[0.0,\"#0d0887\"],[0.1111111111111111,\"#46039f\"],[0.2222222222222222,\"#7201a8\"],[0.3333333333333333,\"#9c179e\"],[0.4444444444444444,\"#bd3786\"],[0.5555555555555556,\"#d8576b\"],[0.6666666666666666,\"#ed7953\"],[0.7777777777777778,\"#fb9f3a\"],[0.8888888888888888,\"#fdca26\"],[1.0,\"#f0f921\"]],\"sequentialminus\":[[0.0,\"#0d0887\"],[0.1111111111111111,\"#46039f\"],[0.2222222222222222,\"#7201a8\"],[0.3333333333333333,\"#9c179e\"],[0.4444444444444444,\"#bd3786\"],[0.5555555555555556,\"#d8576b\"],[0.6666666666666666,\"#ed7953\"],[0.7777777777777778,\"#fb9f3a\"],[0.8888888888888888,\"#fdca26\"],[1.0,\"#f0f921\"]]},\"colorway\":[\"#636efa\",\"#EF553B\",\"#00cc96\",\"#ab63fa\",\"#FFA15A\",\"#19d3f3\",\"#FF6692\",\"#B6E880\",\"#FF97FF\",\"#FECB52\"],\"font\":{\"color\":\"#2a3f5f\"},\"geo\":{\"bgcolor\":\"white\",\"lakecolor\":\"white\",\"landcolor\":\"#E5ECF6\",\"showlakes\":true,\"showland\":true,\"subunitcolor\":\"white\"},\"hoverlabel\":{\"align\":\"left\"},\"hovermode\":\"closest\",\"mapbox\":{\"style\":\"light\"},\"paper_bgcolor\":\"white\",\"plot_bgcolor\":\"#E5ECF6\",\"polar\":{\"angularaxis\":{\"gridcolor\":\"white\",\"linecolor\":\"white\",\"ticks\":\"\"},\"bgcolor\":\"#E5ECF6\",\"radialaxis\":{\"gridcolor\":\"white\",\"linecolor\":\"white\",\"ticks\":\"\"}},\"scene\":{\"xaxis\":{\"backgroundcolor\":\"#E5ECF6\",\"gridcolor\":\"white\",\"gridwidth\":2,\"linecolor\":\"white\",\"showbackground\":true,\"ticks\":\"\",\"zerolinecolor\":\"white\"},\"yaxis\":{\"backgroundcolor\":\"#E5ECF6\",\"gridcolor\":\"white\",\"gridwidth\":2,\"linecolor\":\"white\",\"showbackground\":true,\"ticks\":\"\",\"zerolinecolor\":\"white\"},\"zaxis\":{\"backgroundcolor\":\"#E5ECF6\",\"gridcolor\":\"white\",\"gridwidth\":2,\"linecolor\":\"white\",\"showbackground\":true,\"ticks\":\"\",\"zerolinecolor\":\"white\"}},\"shapedefaults\":{\"line\":{\"color\":\"#2a3f5f\"}},\"ternary\":{\"aaxis\":{\"gridcolor\":\"white\",\"linecolor\":\"white\",\"ticks\":\"\"},\"baxis\":{\"gridcolor\":\"white\",\"linecolor\":\"white\",\"ticks\":\"\"},\"bgcolor\":\"#E5ECF6\",\"caxis\":{\"gridcolor\":\"white\",\"linecolor\":\"white\",\"ticks\":\"\"}},\"title\":{\"x\":0.05},\"xaxis\":{\"automargin\":true,\"gridcolor\":\"white\",\"linecolor\":\"white\",\"ticks\":\"\",\"title\":{\"standoff\":15},\"zerolinecolor\":\"white\",\"zerolinewidth\":2},\"yaxis\":{\"automargin\":true,\"gridcolor\":\"white\",\"linecolor\":\"white\",\"ticks\":\"\",\"title\":{\"standoff\":15},\"zerolinecolor\":\"white\",\"zerolinewidth\":2}}},\"legend\":{\"tracegroupgap\":0},\"margin\":{\"t\":60},\"height\":900},                        {\"responsive\": true}                    ).then(function(){\n",
              "                            \n",
              "var gd = document.getElementById('893e8f7f-d6a2-4858-8e59-6d47b94d18a7');\n",
              "var x = new MutationObserver(function (mutations, observer) {{\n",
              "        var display = window.getComputedStyle(gd).display;\n",
              "        if (!display || display === 'none') {{\n",
              "            console.log([gd, 'removed!']);\n",
              "            Plotly.purge(gd);\n",
              "            observer.disconnect();\n",
              "        }}\n",
              "}});\n",
              "\n",
              "// Listen for the removal of the full notebook cells\n",
              "var notebookContainer = gd.closest('#notebook-container');\n",
              "if (notebookContainer) {{\n",
              "    x.observe(notebookContainer, {childList: true});\n",
              "}}\n",
              "\n",
              "// Listen for the clearing of the current output cell\n",
              "var outputEl = gd.closest('.output');\n",
              "if (outputEl) {{\n",
              "    x.observe(outputEl, {childList: true});\n",
              "}}\n",
              "\n",
              "                        })                };                            </script>        </div>\n",
              "</body>\n",
              "</html>"
            ]
          },
          "metadata": {}
        }
      ]
    },
    {
      "cell_type": "code",
      "source": [
        "#grafico\n",
        "fig = px.treemap(data_frame=ibov,path=['Setor','SubSetor','Código'], values='Part. (%)', height=900)\n",
        "\n",
        "fig.update_traces(textfont_color='white',\n",
        "                  textfont_size=14,\n",
        "                  hovertemplate='<b>%{label}:</b> %{value:f}%')\n",
        "\n",
        "fig.show()"
      ],
      "metadata": {
        "id": "Tl3q7CJBgXif",
        "outputId": "bc27bb6d-c2fc-46b7-9b53-d807ddc8053a",
        "colab": {
          "base_uri": "https://localhost:8080/",
          "height": 917
        }
      },
      "execution_count": null,
      "outputs": [
        {
          "output_type": "display_data",
          "data": {
            "text/html": [
              "<html>\n",
              "<head><meta charset=\"utf-8\" /></head>\n",
              "<body>\n",
              "    <div>            <script src=\"https://cdnjs.cloudflare.com/ajax/libs/mathjax/2.7.5/MathJax.js?config=TeX-AMS-MML_SVG\"></script><script type=\"text/javascript\">if (window.MathJax) {MathJax.Hub.Config({SVG: {font: \"STIX-Web\"}});}</script>                <script type=\"text/javascript\">window.PlotlyConfig = {MathJaxConfig: 'local'};</script>\n",
              "        <script src=\"https://cdn.plot.ly/plotly-2.6.3.min.js\"></script>                <div id=\"4ef201ab-5b8a-4f72-9150-8b5fdf13abef\" class=\"plotly-graph-div\" style=\"height:900px; width:100%;\"></div>            <script type=\"text/javascript\">                                    window.PLOTLYENV=window.PLOTLYENV || {};                                    if (document.getElementById(\"4ef201ab-5b8a-4f72-9150-8b5fdf13abef\")) {                    Plotly.newPlot(                        \"4ef201ab-5b8a-4f72-9150-8b5fdf13abef\",                        [{\"branchvalues\":\"total\",\"domain\":{\"x\":[0.0,1.0],\"y\":[0.0,1.0]},\"hovertemplate\":\"<b>%{label}:</b> %{value:f}%\",\"ids\":[\"Consumo N\\u00e3o-C\\u00edclico/Bebidas/ABEV3\",\"Consumo C\\u00edclico/Tecid Vest Cal\\u00e7/ALPA4\",\"Consumo C\\u00edclico/Com\\u00e9rcio/AMER3\",\"Consumo N\\u00e3o-C\\u00edclico/Com\\u00e9rcio Distr./ASAI3\",\"Bens Indls/Transporte/AZUL4\",\"Financeiro/Servi\\u00e7os Financeiros Diversos/B3SA3\",\"Financeiro/Interms Financs/BBAS3\",\"Financeiro/Interms Financs/BBDC3\",\"Financeiro/Interms Financs/BBDC4\",\"Financeiro/Previd  Seguros/BBSE3\",\"Consumo N\\u00e3o-C\\u00edclico/Alimentos Processados/BEEF3\",\"Financeiro/Interms Financs/BIDI11\",\"Financeiro/Interms Financs/BIDI4\",\"Financeiro/Interms Financs/BPAC11\",\"Financeiro/Interms Financs/BPAN4\",\"Mats B\\u00e1sicos/Minera\\u00e7\\u00e3o/BRAP4\",\"Consumo N\\u00e3o-C\\u00edclico/Alimentos Processados/BRFS3\",\"Mats B\\u00e1sicos/Qu\\u00edmicos/BRKM5\",\"Financeiro/Explor Im\\u00f3veis/BRML3\",\"Tec.Informa\\u00e7\\u00e3o/Programas Servs/CASH3\",\"Bens Indls/Transporte/CCRO3\",\"Financeiro/Servi\\u00e7os Financeiros Diversos/CIEL3\",\"Utilidade P\\u00fabl/Energ El\\u00e9trica/CMIG4\",\"Diverso/Diversos/COGN3\",\"Utilidade P\\u00fabl/Energ El\\u00e9trica/CPFE3\",\"Utilidade P\\u00fabl/Energ El\\u00e9trica/CPLE6\",\"Consumo N\\u00e3o-C\\u00edclico/Com\\u00e9rcio Distr./CRFB3\",\"Petr\\u00f3leo/G\\u00e1s e Biocombust\\u00edveis/CSAN3\",\"Mats B\\u00e1sicos/Sid Metalurgia/CSNA3\",\"Consumo C\\u00edclico/Viagens e Lazer/CVCB3\",\"Consumo C\\u00edclico/Constr Civil/CYRE3\",\"Mats B\\u00e1sicos/Madeira e Papel/DXCO3\",\"Bens Indls/Transporte/ECOR3\",\"Utilidade P\\u00fabl/Energ El\\u00e9trica/EGIE3\",\"Utilidade P\\u00fabl/Energ El\\u00e9trica/ELET3\",\"Utilidade P\\u00fabl/Energ El\\u00e9trica/ELET6\",\"Bens Indls/Mat Transporte/EMBR3\",\"Utilidade P\\u00fabl/Energ El\\u00e9trica/ENBR3\",\"Utilidade P\\u00fabl/Energ El\\u00e9trica/ENEV3\",\"Utilidade P\\u00fabl/Energ El\\u00e9trica/ENGI11\",\"Utilidade P\\u00fabl/Energ El\\u00e9trica/EQTL3\",\"Consumo C\\u00edclico/Constr Civil/EZTC3\",\"Sa\\u00fade/SM Hosp An.Diag/FLRY3\",\"Financeiro/Servi\\u00e7os Financeiros Diversos/GETT11\",\"Mats B\\u00e1sicos/Sid Metalurgia/GGBR4\",\"Sa\\u00fade/SM Hosp An.Diag/GNDI3\",\"Mats B\\u00e1sicos/Sid Metalurgia/GOAU4\",\"Bens Indls/Transporte/GOLL4\",\"Sa\\u00fade/SM Hosp An.Diag/HAPV3\",\"Sa\\u00fade/Com\\u00e9rcio Distr./HYPE3\",\"Financeiro/Explor Im\\u00f3veis/IGTI11\",\"Financeiro/Previd  Seguros/IRBR3\",\"Financeiro/Interms Financs/ITSA4\",\"Financeiro/Interms Financs/ITUB4\",\"Consumo N\\u00e3o-C\\u00edclico/Alimentos Processados/JBSS3\",\"Consumo C\\u00edclico/Constr Civil/JHSF3\",\"Mats B\\u00e1sicos/Madeira e Papel/KLBN11\",\"Consumo C\\u00edclico/Com\\u00e9rcio/LAME4\",\"Diverso/Diversos/LCAM3\",\"Consumo C\\u00edclico/Com\\u00e9rcio/LREN3\",\"Tec.Informa\\u00e7\\u00e3o/Programas Servs/LWSA3\",\"Consumo C\\u00edclico/Com\\u00e9rcio/MGLU3\",\"Consumo N\\u00e3o-C\\u00edclico/Alimentos Processados/MRFG3\",\"Consumo C\\u00edclico/Constr Civil/MRVE3\",\"Financeiro/Explor Im\\u00f3veis/MULT3\",\"Consumo N\\u00e3o-C\\u00edclico/Pr Pessoal Limp/NTCO3\",\"Consumo N\\u00e3o-C\\u00edclico/Com\\u00e9rcio Distr./PCAR3\",\"Petr\\u00f3leo/G\\u00e1s e Biocombust\\u00edveis/PETR3\",\"Petr\\u00f3leo/G\\u00e1s e Biocombust\\u00edveis/PETR4\",\"Consumo C\\u00edclico/Com\\u00e9rcio/PETZ3\",\"Petr\\u00f3leo/G\\u00e1s e Biocombust\\u00edveis/PRIO3\",\"Sa\\u00fade/SM Hosp An.Diag/QUAL3\",\"Sa\\u00fade/Com\\u00e9rcio Distr./RADL3\",\"Bens Indls/Transporte/RAIL3\",\"Sa\\u00fade/SM Hosp An.Diag/RDOR3\",\"Diverso/Diversos/RENT3\",\"Financeiro/Interms Financs/SANB11\",\"Utilidade P\\u00fabl/\\u00c1gua Saneamento/SBSP3\",\"Consumo C\\u00edclico/Com\\u00e9rcio/SOMA3\",\"Financeiro/Previd  Seguros/SULA11\",\"Mats B\\u00e1sicos/Madeira e Papel/SUZB3\",\"Utilidade P\\u00fabl/Energ El\\u00e9trica/TAEE11\",\"Telecomunica\\u00e7\\u00e3/Telecomunica\\u00e7\\u00e3o/TIMS3\",\"Tec.Informa\\u00e7\\u00e3o/Programas Servs/TOTS3\",\"Petr\\u00f3leo/G\\u00e1s e Biocombust\\u00edveis/UGPA3\",\"Mats B\\u00e1sicos/Sid Metalurgia/USIM5\",\"Mats B\\u00e1sicos/Minera\\u00e7\\u00e3o/VALE3\",\"Petr\\u00f3leo/G\\u00e1s e Biocombust\\u00edveis/VBBR3\",\"Consumo C\\u00edclico/Com\\u00e9rcio/VIIA3\",\"Telecomunica\\u00e7\\u00e3/Telecomunica\\u00e7\\u00e3o/VIVT3\",\"Bens Indls/M\\u00e1qs e Equips/WEGE3\",\"Diverso/Diversos/YDUQ3\",\"Consumo N\\u00e3o-C\\u00edclico/Alimentos Processados\",\"Consumo N\\u00e3o-C\\u00edclico/Bebidas\",\"Consumo C\\u00edclico/Com\\u00e9rcio\",\"Consumo N\\u00e3o-C\\u00edclico/Com\\u00e9rcio Distr.\",\"Sa\\u00fade/Com\\u00e9rcio Distr.\",\"Consumo C\\u00edclico/Constr Civil\",\"Diverso/Diversos\",\"Utilidade P\\u00fabl/Energ El\\u00e9trica\",\"Financeiro/Explor Im\\u00f3veis\",\"Petr\\u00f3leo/G\\u00e1s e Biocombust\\u00edveis\",\"Financeiro/Interms Financs\",\"Mats B\\u00e1sicos/Madeira e Papel\",\"Bens Indls/Mat Transporte\",\"Mats B\\u00e1sicos/Minera\\u00e7\\u00e3o\",\"Bens Indls/M\\u00e1qs e Equips\",\"Consumo N\\u00e3o-C\\u00edclico/Pr Pessoal Limp\",\"Financeiro/Previd  Seguros\",\"Tec.Informa\\u00e7\\u00e3o/Programas Servs\",\"Mats B\\u00e1sicos/Qu\\u00edmicos\",\"Sa\\u00fade/SM Hosp An.Diag\",\"Financeiro/Servi\\u00e7os Financeiros Diversos\",\"Mats B\\u00e1sicos/Sid Metalurgia\",\"Consumo C\\u00edclico/Tecid Vest Cal\\u00e7\",\"Telecomunica\\u00e7\\u00e3/Telecomunica\\u00e7\\u00e3o\",\"Bens Indls/Transporte\",\"Consumo C\\u00edclico/Viagens e Lazer\",\"Utilidade P\\u00fabl/\\u00c1gua Saneamento\",\"Bens Indls\",\"Consumo C\\u00edclico\",\"Consumo N\\u00e3o-C\\u00edclico\",\"Diverso\",\"Financeiro\",\"Mats B\\u00e1sicos\",\"Petr\\u00f3leo\",\"Sa\\u00fade\",\"Tec.Informa\\u00e7\\u00e3o\",\"Telecomunica\\u00e7\\u00e3\",\"Utilidade P\\u00fabl\"],\"labels\":[\"ABEV3\",\"ALPA4\",\"AMER3\",\"ASAI3\",\"AZUL4\",\"B3SA3\",\"BBAS3\",\"BBDC3\",\"BBDC4\",\"BBSE3\",\"BEEF3\",\"BIDI11\",\"BIDI4\",\"BPAC11\",\"BPAN4\",\"BRAP4\",\"BRFS3\",\"BRKM5\",\"BRML3\",\"CASH3\",\"CCRO3\",\"CIEL3\",\"CMIG4\",\"COGN3\",\"CPFE3\",\"CPLE6\",\"CRFB3\",\"CSAN3\",\"CSNA3\",\"CVCB3\",\"CYRE3\",\"DXCO3\",\"ECOR3\",\"EGIE3\",\"ELET3\",\"ELET6\",\"EMBR3\",\"ENBR3\",\"ENEV3\",\"ENGI11\",\"EQTL3\",\"EZTC3\",\"FLRY3\",\"GETT11\",\"GGBR4\",\"GNDI3\",\"GOAU4\",\"GOLL4\",\"HAPV3\",\"HYPE3\",\"IGTI11\",\"IRBR3\",\"ITSA4\",\"ITUB4\",\"JBSS3\",\"JHSF3\",\"KLBN11\",\"LAME4\",\"LCAM3\",\"LREN3\",\"LWSA3\",\"MGLU3\",\"MRFG3\",\"MRVE3\",\"MULT3\",\"NTCO3\",\"PCAR3\",\"PETR3\",\"PETR4\",\"PETZ3\",\"PRIO3\",\"QUAL3\",\"RADL3\",\"RAIL3\",\"RDOR3\",\"RENT3\",\"SANB11\",\"SBSP3\",\"SOMA3\",\"SULA11\",\"SUZB3\",\"TAEE11\",\"TIMS3\",\"TOTS3\",\"UGPA3\",\"USIM5\",\"VALE3\",\"VBBR3\",\"VIIA3\",\"VIVT3\",\"WEGE3\",\"YDUQ3\",\"Alimentos Processados\",\"Bebidas\",\"Com\\u00e9rcio\",\"Com\\u00e9rcio Distr.\",\"Com\\u00e9rcio Distr.\",\"Constr Civil\",\"Diversos\",\"Energ El\\u00e9trica\",\"Explor Im\\u00f3veis\",\"G\\u00e1s e Biocombust\\u00edveis\",\"Interms Financs\",\"Madeira e Papel\",\"Mat Transporte\",\"Minera\\u00e7\\u00e3o\",\"M\\u00e1qs e Equips\",\"Pr Pessoal Limp\",\"Previd  Seguros\",\"Programas Servs\",\"Qu\\u00edmicos\",\"SM Hosp An.Diag\",\"Servi\\u00e7os Financeiros Diversos\",\"Sid Metalurgia\",\"Tecid Vest Cal\\u00e7\",\"Telecomunica\\u00e7\\u00e3o\",\"Transporte\",\"Viagens e Lazer\",\"\\u00c1gua Saneamento\",\"Bens Indls\",\"Consumo C\\u00edclico\",\"Consumo N\\u00e3o-C\\u00edclico\",\"Diverso\",\"Financeiro\",\"Mats B\\u00e1sicos\",\"Petr\\u00f3leo\",\"Sa\\u00fade\",\"Tec.Informa\\u00e7\\u00e3o\",\"Telecomunica\\u00e7\\u00e3\",\"Utilidade P\\u00fabl\"],\"name\":\"\",\"parents\":[\"Consumo N\\u00e3o-C\\u00edclico/Bebidas\",\"Consumo C\\u00edclico/Tecid Vest Cal\\u00e7\",\"Consumo C\\u00edclico/Com\\u00e9rcio\",\"Consumo N\\u00e3o-C\\u00edclico/Com\\u00e9rcio Distr.\",\"Bens Indls/Transporte\",\"Financeiro/Servi\\u00e7os Financeiros Diversos\",\"Financeiro/Interms Financs\",\"Financeiro/Interms Financs\",\"Financeiro/Interms Financs\",\"Financeiro/Previd  Seguros\",\"Consumo N\\u00e3o-C\\u00edclico/Alimentos Processados\",\"Financeiro/Interms Financs\",\"Financeiro/Interms Financs\",\"Financeiro/Interms Financs\",\"Financeiro/Interms Financs\",\"Mats B\\u00e1sicos/Minera\\u00e7\\u00e3o\",\"Consumo N\\u00e3o-C\\u00edclico/Alimentos Processados\",\"Mats B\\u00e1sicos/Qu\\u00edmicos\",\"Financeiro/Explor Im\\u00f3veis\",\"Tec.Informa\\u00e7\\u00e3o/Programas Servs\",\"Bens Indls/Transporte\",\"Financeiro/Servi\\u00e7os Financeiros Diversos\",\"Utilidade P\\u00fabl/Energ El\\u00e9trica\",\"Diverso/Diversos\",\"Utilidade P\\u00fabl/Energ El\\u00e9trica\",\"Utilidade P\\u00fabl/Energ El\\u00e9trica\",\"Consumo N\\u00e3o-C\\u00edclico/Com\\u00e9rcio Distr.\",\"Petr\\u00f3leo/G\\u00e1s e Biocombust\\u00edveis\",\"Mats B\\u00e1sicos/Sid Metalurgia\",\"Consumo C\\u00edclico/Viagens e Lazer\",\"Consumo C\\u00edclico/Constr Civil\",\"Mats B\\u00e1sicos/Madeira e Papel\",\"Bens Indls/Transporte\",\"Utilidade P\\u00fabl/Energ El\\u00e9trica\",\"Utilidade P\\u00fabl/Energ El\\u00e9trica\",\"Utilidade P\\u00fabl/Energ El\\u00e9trica\",\"Bens Indls/Mat Transporte\",\"Utilidade P\\u00fabl/Energ El\\u00e9trica\",\"Utilidade P\\u00fabl/Energ El\\u00e9trica\",\"Utilidade P\\u00fabl/Energ El\\u00e9trica\",\"Utilidade P\\u00fabl/Energ El\\u00e9trica\",\"Consumo C\\u00edclico/Constr Civil\",\"Sa\\u00fade/SM Hosp An.Diag\",\"Financeiro/Servi\\u00e7os Financeiros Diversos\",\"Mats B\\u00e1sicos/Sid Metalurgia\",\"Sa\\u00fade/SM Hosp An.Diag\",\"Mats B\\u00e1sicos/Sid Metalurgia\",\"Bens Indls/Transporte\",\"Sa\\u00fade/SM Hosp An.Diag\",\"Sa\\u00fade/Com\\u00e9rcio Distr.\",\"Financeiro/Explor Im\\u00f3veis\",\"Financeiro/Previd  Seguros\",\"Financeiro/Interms Financs\",\"Financeiro/Interms Financs\",\"Consumo N\\u00e3o-C\\u00edclico/Alimentos Processados\",\"Consumo C\\u00edclico/Constr Civil\",\"Mats B\\u00e1sicos/Madeira e Papel\",\"Consumo C\\u00edclico/Com\\u00e9rcio\",\"Diverso/Diversos\",\"Consumo C\\u00edclico/Com\\u00e9rcio\",\"Tec.Informa\\u00e7\\u00e3o/Programas Servs\",\"Consumo C\\u00edclico/Com\\u00e9rcio\",\"Consumo N\\u00e3o-C\\u00edclico/Alimentos Processados\",\"Consumo C\\u00edclico/Constr Civil\",\"Financeiro/Explor Im\\u00f3veis\",\"Consumo N\\u00e3o-C\\u00edclico/Pr Pessoal Limp\",\"Consumo N\\u00e3o-C\\u00edclico/Com\\u00e9rcio Distr.\",\"Petr\\u00f3leo/G\\u00e1s e Biocombust\\u00edveis\",\"Petr\\u00f3leo/G\\u00e1s e Biocombust\\u00edveis\",\"Consumo C\\u00edclico/Com\\u00e9rcio\",\"Petr\\u00f3leo/G\\u00e1s e Biocombust\\u00edveis\",\"Sa\\u00fade/SM Hosp An.Diag\",\"Sa\\u00fade/Com\\u00e9rcio Distr.\",\"Bens Indls/Transporte\",\"Sa\\u00fade/SM Hosp An.Diag\",\"Diverso/Diversos\",\"Financeiro/Interms Financs\",\"Utilidade P\\u00fabl/\\u00c1gua Saneamento\",\"Consumo C\\u00edclico/Com\\u00e9rcio\",\"Financeiro/Previd  Seguros\",\"Mats B\\u00e1sicos/Madeira e Papel\",\"Utilidade P\\u00fabl/Energ El\\u00e9trica\",\"Telecomunica\\u00e7\\u00e3/Telecomunica\\u00e7\\u00e3o\",\"Tec.Informa\\u00e7\\u00e3o/Programas Servs\",\"Petr\\u00f3leo/G\\u00e1s e Biocombust\\u00edveis\",\"Mats B\\u00e1sicos/Sid Metalurgia\",\"Mats B\\u00e1sicos/Minera\\u00e7\\u00e3o\",\"Petr\\u00f3leo/G\\u00e1s e Biocombust\\u00edveis\",\"Consumo C\\u00edclico/Com\\u00e9rcio\",\"Telecomunica\\u00e7\\u00e3/Telecomunica\\u00e7\\u00e3o\",\"Bens Indls/M\\u00e1qs e Equips\",\"Diverso/Diversos\",\"Consumo N\\u00e3o-C\\u00edclico\",\"Consumo N\\u00e3o-C\\u00edclico\",\"Consumo C\\u00edclico\",\"Consumo N\\u00e3o-C\\u00edclico\",\"Sa\\u00fade\",\"Consumo C\\u00edclico\",\"Diverso\",\"Utilidade P\\u00fabl\",\"Financeiro\",\"Petr\\u00f3leo\",\"Financeiro\",\"Mats B\\u00e1sicos\",\"Bens Indls\",\"Mats B\\u00e1sicos\",\"Bens Indls\",\"Consumo N\\u00e3o-C\\u00edclico\",\"Financeiro\",\"Tec.Informa\\u00e7\\u00e3o\",\"Mats B\\u00e1sicos\",\"Sa\\u00fade\",\"Financeiro\",\"Mats B\\u00e1sicos\",\"Consumo C\\u00edclico\",\"Telecomunica\\u00e7\\u00e3\",\"Bens Indls\",\"Consumo C\\u00edclico\",\"Utilidade P\\u00fabl\",\"\",\"\",\"\",\"\",\"\",\"\",\"\",\"\",\"\",\"\",\"\"],\"values\":[3.4339999999999997,0.336,0.818,0.56,0.42100000000000004,3.61,2.28,1.198,4.7860000000000005,0.713,0.105,0.895,0.115,1.3880000000000001,0.20600000000000002,0.662,0.8029999999999999,0.752,0.342,0.09,0.695,0.13,0.763,0.237,0.252,0.486,0.301,1.272,0.759,0.177,0.221,0.248,0.149,0.491,0.622,0.41100000000000003,0.767,0.242,0.925,0.5579999999999999,1.169,0.10400000000000001,0.285,0.017,1.556,1.869,0.41,0.153,0.725,0.585,0.139,0.267,2.193,5.3260000000000005,2.287,0.083,1.006,0.235,0.392,1.419,0.308,0.941,0.385,0.177,0.278,1.13,0.177,5.218,6.567,0.301,0.862,0.23399999999999999,1.244,1.054,0.778,1.629,0.589,0.642,0.297,0.376,2.089,0.38299999999999995,0.528,0.82,0.8170000000000001,0.38,12.548,1.3090000000000002,0.451,1.067,2.622,0.359,3.5799999999999996,3.4339999999999997,4.462,1.038,1.829,0.585,2.617,6.3020000000000005,0.7590000000000001,16.045,18.976,3.343,0.767,13.21,2.622,1.13,1.3559999999999999,1.218,0.752,3.891,3.7569999999999997,3.105,0.336,1.595,2.4720000000000004,0.177,0.642,5.861,5.56,9.181999999999999,2.617,24.848,20.41,16.045,5.720000000000001,1.218,1.595,6.944],\"type\":\"treemap\",\"textfont\":{\"color\":\"white\",\"size\":14}}],                        {\"template\":{\"data\":{\"bar\":[{\"error_x\":{\"color\":\"#2a3f5f\"},\"error_y\":{\"color\":\"#2a3f5f\"},\"marker\":{\"line\":{\"color\":\"#E5ECF6\",\"width\":0.5},\"pattern\":{\"fillmode\":\"overlay\",\"size\":10,\"solidity\":0.2}},\"type\":\"bar\"}],\"barpolar\":[{\"marker\":{\"line\":{\"color\":\"#E5ECF6\",\"width\":0.5},\"pattern\":{\"fillmode\":\"overlay\",\"size\":10,\"solidity\":0.2}},\"type\":\"barpolar\"}],\"carpet\":[{\"aaxis\":{\"endlinecolor\":\"#2a3f5f\",\"gridcolor\":\"white\",\"linecolor\":\"white\",\"minorgridcolor\":\"white\",\"startlinecolor\":\"#2a3f5f\"},\"baxis\":{\"endlinecolor\":\"#2a3f5f\",\"gridcolor\":\"white\",\"linecolor\":\"white\",\"minorgridcolor\":\"white\",\"startlinecolor\":\"#2a3f5f\"},\"type\":\"carpet\"}],\"choropleth\":[{\"colorbar\":{\"outlinewidth\":0,\"ticks\":\"\"},\"type\":\"choropleth\"}],\"contour\":[{\"colorbar\":{\"outlinewidth\":0,\"ticks\":\"\"},\"colorscale\":[[0.0,\"#0d0887\"],[0.1111111111111111,\"#46039f\"],[0.2222222222222222,\"#7201a8\"],[0.3333333333333333,\"#9c179e\"],[0.4444444444444444,\"#bd3786\"],[0.5555555555555556,\"#d8576b\"],[0.6666666666666666,\"#ed7953\"],[0.7777777777777778,\"#fb9f3a\"],[0.8888888888888888,\"#fdca26\"],[1.0,\"#f0f921\"]],\"type\":\"contour\"}],\"contourcarpet\":[{\"colorbar\":{\"outlinewidth\":0,\"ticks\":\"\"},\"type\":\"contourcarpet\"}],\"heatmap\":[{\"colorbar\":{\"outlinewidth\":0,\"ticks\":\"\"},\"colorscale\":[[0.0,\"#0d0887\"],[0.1111111111111111,\"#46039f\"],[0.2222222222222222,\"#7201a8\"],[0.3333333333333333,\"#9c179e\"],[0.4444444444444444,\"#bd3786\"],[0.5555555555555556,\"#d8576b\"],[0.6666666666666666,\"#ed7953\"],[0.7777777777777778,\"#fb9f3a\"],[0.8888888888888888,\"#fdca26\"],[1.0,\"#f0f921\"]],\"type\":\"heatmap\"}],\"heatmapgl\":[{\"colorbar\":{\"outlinewidth\":0,\"ticks\":\"\"},\"colorscale\":[[0.0,\"#0d0887\"],[0.1111111111111111,\"#46039f\"],[0.2222222222222222,\"#7201a8\"],[0.3333333333333333,\"#9c179e\"],[0.4444444444444444,\"#bd3786\"],[0.5555555555555556,\"#d8576b\"],[0.6666666666666666,\"#ed7953\"],[0.7777777777777778,\"#fb9f3a\"],[0.8888888888888888,\"#fdca26\"],[1.0,\"#f0f921\"]],\"type\":\"heatmapgl\"}],\"histogram\":[{\"marker\":{\"pattern\":{\"fillmode\":\"overlay\",\"size\":10,\"solidity\":0.2}},\"type\":\"histogram\"}],\"histogram2d\":[{\"colorbar\":{\"outlinewidth\":0,\"ticks\":\"\"},\"colorscale\":[[0.0,\"#0d0887\"],[0.1111111111111111,\"#46039f\"],[0.2222222222222222,\"#7201a8\"],[0.3333333333333333,\"#9c179e\"],[0.4444444444444444,\"#bd3786\"],[0.5555555555555556,\"#d8576b\"],[0.6666666666666666,\"#ed7953\"],[0.7777777777777778,\"#fb9f3a\"],[0.8888888888888888,\"#fdca26\"],[1.0,\"#f0f921\"]],\"type\":\"histogram2d\"}],\"histogram2dcontour\":[{\"colorbar\":{\"outlinewidth\":0,\"ticks\":\"\"},\"colorscale\":[[0.0,\"#0d0887\"],[0.1111111111111111,\"#46039f\"],[0.2222222222222222,\"#7201a8\"],[0.3333333333333333,\"#9c179e\"],[0.4444444444444444,\"#bd3786\"],[0.5555555555555556,\"#d8576b\"],[0.6666666666666666,\"#ed7953\"],[0.7777777777777778,\"#fb9f3a\"],[0.8888888888888888,\"#fdca26\"],[1.0,\"#f0f921\"]],\"type\":\"histogram2dcontour\"}],\"mesh3d\":[{\"colorbar\":{\"outlinewidth\":0,\"ticks\":\"\"},\"type\":\"mesh3d\"}],\"parcoords\":[{\"line\":{\"colorbar\":{\"outlinewidth\":0,\"ticks\":\"\"}},\"type\":\"parcoords\"}],\"pie\":[{\"automargin\":true,\"type\":\"pie\"}],\"scatter\":[{\"marker\":{\"colorbar\":{\"outlinewidth\":0,\"ticks\":\"\"}},\"type\":\"scatter\"}],\"scatter3d\":[{\"line\":{\"colorbar\":{\"outlinewidth\":0,\"ticks\":\"\"}},\"marker\":{\"colorbar\":{\"outlinewidth\":0,\"ticks\":\"\"}},\"type\":\"scatter3d\"}],\"scattercarpet\":[{\"marker\":{\"colorbar\":{\"outlinewidth\":0,\"ticks\":\"\"}},\"type\":\"scattercarpet\"}],\"scattergeo\":[{\"marker\":{\"colorbar\":{\"outlinewidth\":0,\"ticks\":\"\"}},\"type\":\"scattergeo\"}],\"scattergl\":[{\"marker\":{\"colorbar\":{\"outlinewidth\":0,\"ticks\":\"\"}},\"type\":\"scattergl\"}],\"scattermapbox\":[{\"marker\":{\"colorbar\":{\"outlinewidth\":0,\"ticks\":\"\"}},\"type\":\"scattermapbox\"}],\"scatterpolar\":[{\"marker\":{\"colorbar\":{\"outlinewidth\":0,\"ticks\":\"\"}},\"type\":\"scatterpolar\"}],\"scatterpolargl\":[{\"marker\":{\"colorbar\":{\"outlinewidth\":0,\"ticks\":\"\"}},\"type\":\"scatterpolargl\"}],\"scatterternary\":[{\"marker\":{\"colorbar\":{\"outlinewidth\":0,\"ticks\":\"\"}},\"type\":\"scatterternary\"}],\"surface\":[{\"colorbar\":{\"outlinewidth\":0,\"ticks\":\"\"},\"colorscale\":[[0.0,\"#0d0887\"],[0.1111111111111111,\"#46039f\"],[0.2222222222222222,\"#7201a8\"],[0.3333333333333333,\"#9c179e\"],[0.4444444444444444,\"#bd3786\"],[0.5555555555555556,\"#d8576b\"],[0.6666666666666666,\"#ed7953\"],[0.7777777777777778,\"#fb9f3a\"],[0.8888888888888888,\"#fdca26\"],[1.0,\"#f0f921\"]],\"type\":\"surface\"}],\"table\":[{\"cells\":{\"fill\":{\"color\":\"#EBF0F8\"},\"line\":{\"color\":\"white\"}},\"header\":{\"fill\":{\"color\":\"#C8D4E3\"},\"line\":{\"color\":\"white\"}},\"type\":\"table\"}]},\"layout\":{\"annotationdefaults\":{\"arrowcolor\":\"#2a3f5f\",\"arrowhead\":0,\"arrowwidth\":1},\"autotypenumbers\":\"strict\",\"coloraxis\":{\"colorbar\":{\"outlinewidth\":0,\"ticks\":\"\"}},\"colorscale\":{\"diverging\":[[0,\"#8e0152\"],[0.1,\"#c51b7d\"],[0.2,\"#de77ae\"],[0.3,\"#f1b6da\"],[0.4,\"#fde0ef\"],[0.5,\"#f7f7f7\"],[0.6,\"#e6f5d0\"],[0.7,\"#b8e186\"],[0.8,\"#7fbc41\"],[0.9,\"#4d9221\"],[1,\"#276419\"]],\"sequential\":[[0.0,\"#0d0887\"],[0.1111111111111111,\"#46039f\"],[0.2222222222222222,\"#7201a8\"],[0.3333333333333333,\"#9c179e\"],[0.4444444444444444,\"#bd3786\"],[0.5555555555555556,\"#d8576b\"],[0.6666666666666666,\"#ed7953\"],[0.7777777777777778,\"#fb9f3a\"],[0.8888888888888888,\"#fdca26\"],[1.0,\"#f0f921\"]],\"sequentialminus\":[[0.0,\"#0d0887\"],[0.1111111111111111,\"#46039f\"],[0.2222222222222222,\"#7201a8\"],[0.3333333333333333,\"#9c179e\"],[0.4444444444444444,\"#bd3786\"],[0.5555555555555556,\"#d8576b\"],[0.6666666666666666,\"#ed7953\"],[0.7777777777777778,\"#fb9f3a\"],[0.8888888888888888,\"#fdca26\"],[1.0,\"#f0f921\"]]},\"colorway\":[\"#636efa\",\"#EF553B\",\"#00cc96\",\"#ab63fa\",\"#FFA15A\",\"#19d3f3\",\"#FF6692\",\"#B6E880\",\"#FF97FF\",\"#FECB52\"],\"font\":{\"color\":\"#2a3f5f\"},\"geo\":{\"bgcolor\":\"white\",\"lakecolor\":\"white\",\"landcolor\":\"#E5ECF6\",\"showlakes\":true,\"showland\":true,\"subunitcolor\":\"white\"},\"hoverlabel\":{\"align\":\"left\"},\"hovermode\":\"closest\",\"mapbox\":{\"style\":\"light\"},\"paper_bgcolor\":\"white\",\"plot_bgcolor\":\"#E5ECF6\",\"polar\":{\"angularaxis\":{\"gridcolor\":\"white\",\"linecolor\":\"white\",\"ticks\":\"\"},\"bgcolor\":\"#E5ECF6\",\"radialaxis\":{\"gridcolor\":\"white\",\"linecolor\":\"white\",\"ticks\":\"\"}},\"scene\":{\"xaxis\":{\"backgroundcolor\":\"#E5ECF6\",\"gridcolor\":\"white\",\"gridwidth\":2,\"linecolor\":\"white\",\"showbackground\":true,\"ticks\":\"\",\"zerolinecolor\":\"white\"},\"yaxis\":{\"backgroundcolor\":\"#E5ECF6\",\"gridcolor\":\"white\",\"gridwidth\":2,\"linecolor\":\"white\",\"showbackground\":true,\"ticks\":\"\",\"zerolinecolor\":\"white\"},\"zaxis\":{\"backgroundcolor\":\"#E5ECF6\",\"gridcolor\":\"white\",\"gridwidth\":2,\"linecolor\":\"white\",\"showbackground\":true,\"ticks\":\"\",\"zerolinecolor\":\"white\"}},\"shapedefaults\":{\"line\":{\"color\":\"#2a3f5f\"}},\"ternary\":{\"aaxis\":{\"gridcolor\":\"white\",\"linecolor\":\"white\",\"ticks\":\"\"},\"baxis\":{\"gridcolor\":\"white\",\"linecolor\":\"white\",\"ticks\":\"\"},\"bgcolor\":\"#E5ECF6\",\"caxis\":{\"gridcolor\":\"white\",\"linecolor\":\"white\",\"ticks\":\"\"}},\"title\":{\"x\":0.05},\"xaxis\":{\"automargin\":true,\"gridcolor\":\"white\",\"linecolor\":\"white\",\"ticks\":\"\",\"title\":{\"standoff\":15},\"zerolinecolor\":\"white\",\"zerolinewidth\":2},\"yaxis\":{\"automargin\":true,\"gridcolor\":\"white\",\"linecolor\":\"white\",\"ticks\":\"\",\"title\":{\"standoff\":15},\"zerolinecolor\":\"white\",\"zerolinewidth\":2}}},\"legend\":{\"tracegroupgap\":0},\"margin\":{\"t\":60},\"height\":900},                        {\"responsive\": true}                    ).then(function(){\n",
              "                            \n",
              "var gd = document.getElementById('4ef201ab-5b8a-4f72-9150-8b5fdf13abef');\n",
              "var x = new MutationObserver(function (mutations, observer) {{\n",
              "        var display = window.getComputedStyle(gd).display;\n",
              "        if (!display || display === 'none') {{\n",
              "            console.log([gd, 'removed!']);\n",
              "            Plotly.purge(gd);\n",
              "            observer.disconnect();\n",
              "        }}\n",
              "}});\n",
              "\n",
              "// Listen for the removal of the full notebook cells\n",
              "var notebookContainer = gd.closest('#notebook-container');\n",
              "if (notebookContainer) {{\n",
              "    x.observe(notebookContainer, {childList: true});\n",
              "}}\n",
              "\n",
              "// Listen for the clearing of the current output cell\n",
              "var outputEl = gd.closest('.output');\n",
              "if (outputEl) {{\n",
              "    x.observe(outputEl, {childList: true});\n",
              "}}\n",
              "\n",
              "                        })                };                            </script>        </div>\n",
              "</body>\n",
              "</html>"
            ]
          },
          "metadata": {}
        }
      ]
    }
  ]
}