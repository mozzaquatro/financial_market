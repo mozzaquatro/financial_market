{
  "nbformat": 4,
  "nbformat_minor": 0,
  "metadata": {
    "colab": {
      "name": "Untitled2.ipynb",
      "provenance": [],
      "authorship_tag": "ABX9TyOiGVTM5dWTANHyNw4lbx4u",
      "include_colab_link": true
    },
    "kernelspec": {
      "name": "python3",
      "display_name": "Python 3"
    },
    "language_info": {
      "name": "python"
    }
  },
  "cells": [
    {
      "cell_type": "markdown",
      "metadata": {
        "id": "view-in-github",
        "colab_type": "text"
      },
      "source": [
        "<a href=\"https://colab.research.google.com/github/mozzaquatro/financial_market/blob/main/pdf_FPDF.ipynb\" target=\"_parent\"><img src=\"https://colab.research.google.com/assets/colab-badge.svg\" alt=\"Open In Colab\"/></a>"
      ]
    },
    {
      "cell_type": "code",
      "execution_count": null,
      "metadata": {
        "id": "Equ9b_hy2GOG"
      },
      "outputs": [],
      "source": [
        "from fpdf import FPDF\n",
        "\n",
        "title = '20000 Leagues Under the Seas'\n",
        "\n",
        "class PDF(FPDF):\n",
        "    def header(self):\n",
        "        # Arial bold 15\n",
        "        self.set_font('Arial', 'B', 15)\n",
        "        # Calculate width of title and position\n",
        "        w = self.get_string_width(title) + 6\n",
        "        self.set_x((210 - w) / 2)\n",
        "        # Colors of frame, background and text\n",
        "        self.set_draw_color(0, 80, 180)\n",
        "        self.set_fill_color(230, 230, 0)\n",
        "        self.set_text_color(220, 50, 50)\n",
        "        # Thickness of frame (1 mm)\n",
        "        self.set_line_width(1)\n",
        "        # Title\n",
        "        self.cell(w, 9, title, 1, 1, 'C', 1)\n",
        "        # Line break\n",
        "        self.ln(10)\n",
        "\n",
        "    def footer(self):\n",
        "        # Position at 1.5 cm from bottom\n",
        "        self.set_y(-15)\n",
        "        # Arial italic 8\n",
        "        self.set_font('Arial', 'I', 8)\n",
        "        # Text color in gray\n",
        "        self.set_text_color(128)\n",
        "        # Page number\n",
        "        self.cell(0, 10, 'Page ' + str(self.page_no()), 0, 0, 'C')\n",
        "\n",
        "    def chapter_title(self, num, label):\n",
        "        # Arial 12\n",
        "        self.set_font('Arial', '', 12)\n",
        "        # Background color\n",
        "        self.set_fill_color(200, 220, 255)\n",
        "        # Title\n",
        "        self.cell(0, 6, 'Chapter %d : %s' % (num, label), 0, 1, 'L', 1)\n",
        "        # Line break\n",
        "        self.ln(4)\n",
        "\n",
        "    def chapter_body(self, name):\n",
        "        # Read text file\n",
        "        with open(name, 'rb') as fh:\n",
        "            txt = fh.read().decode('latin-1')\n",
        "        # Times 12\n",
        "        self.set_font('Times', '', 12)\n",
        "        # Output justified text\n",
        "        self.multi_cell(0, 5, txt)\n",
        "        # Line break\n",
        "        self.ln()\n",
        "        # Mention in italics\n",
        "        self.set_font('', 'I')\n",
        "        self.cell(0, 5, '(end of excerpt)')\n",
        "\n",
        "    def print_chapter(self, num, title, name):\n",
        "        self.add_page()\n",
        "        self.chapter_title(num, title)\n",
        "        self.chapter_body(name)\n",
        "\n",
        "pdf = PDF()\n",
        "pdf.set_title(title)\n",
        "pdf.set_author('Jules Verne')\n",
        "pdf.print_chapter(1, 'A RUNAWAY REEF', '20k_c1.txt')\n",
        "pdf.print_chapter(2, 'THE PROS AND CONS', '20k_c2.txt')\n",
        "pdf.output('tuto3.pdf', 'F')\n"
      ]
    }
  ]
}